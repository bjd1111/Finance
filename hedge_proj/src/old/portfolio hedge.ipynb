{
 "cells": [
  {
   "cell_type": "markdown",
   "metadata": {},
   "source": [
    "# Import packages"
   ]
  },
  {
   "cell_type": "code",
   "execution_count": 2,
   "metadata": {
    "collapsed": true
   },
   "outputs": [],
   "source": [
    "# -*- coding: utf-8 -*-\n",
    "\n",
    "import datetime as dt\n",
    "import numpy as np \n",
    "import pandas as pd\n",
    "import matplotlib.pyplot as plt\n",
    "%matplotlib inline\n",
    "\n",
    "from pandas_datareader import data, wb\n",
    "from scipy.optimize import minimize\n",
    "from scipy.stats import norm\n"
   ]
  },
  {
   "cell_type": "markdown",
   "metadata": {},
   "source": [
    "#  Data for portfolio and hedge securities"
   ]
  },
  {
   "cell_type": "code",
   "execution_count": 3,
   "metadata": {
    "collapsed": true,
    "scrolled": true
   },
   "outputs": [],
   "source": [
    "class Portfolio:\n",
    "    \"\"\"the hedge portoflio     \"\"\"\n",
    "        \n",
    "    def __init__(self, pf_sec, hedge_sec, start, end , p_weight):\n",
    "        \"\"\"Return a portfolio object which contain securities *pf_sec* and hedge securities *hedge_sec*.\"\"\"\n",
    "        \n",
    "        self.pf_sec =  pf_sec\n",
    "        self.hedge_sec =  hedge_sec\n",
    "        self.start = start\n",
    "        self.end = end\n",
    "        self.p_weight =   p_weight\n",
    "    \n",
    "        \n",
    "        \n",
    "    def port_rtn(self):\n",
    "        \"\"\"get portfolio returns\"\"\"\n",
    "        \n",
    "        data_p = data.DataReader(self.pf_sec,'google',start=self.start,end=self.end)['Close']           \n",
    "        #portfolio price\n",
    "        pf_p = np.sum(data_p*self.p_weight,axis=1)        \n",
    "        #portfolio returns\n",
    "        pf_rtn= pd.DataFrame(pf_p.pct_change().dropna() ,columns=['return'])        \n",
    "        return pf_rtn\n",
    "    \n",
    "    def hedge_rtn(self):\n",
    "        \"\"\"get portfolio returns\"\"\"\n",
    "        #hedge securities price\n",
    "        hedge_p = data.DataReader(self.hedge_sec,'google',start=self.start,end=self.end)['Close']\n",
    "        #hedge securities returns\n",
    "        hedge_rtn = pd.DataFrame(hedge_p.pct_change().dropna())\n",
    "        return hedge_rtn\n"
   ]
  },
  {
   "cell_type": "code",
   "execution_count": 4,
   "metadata": {
    "collapsed": true,
    "scrolled": true
   },
   "outputs": [],
   "source": [
    "class Hedge:\n",
    "    \n",
    "    \"\"\"\n",
    "    used for hedge purpose\n",
    "\n",
    "    \"\"\" \n",
    "    \n",
    "    def __init__(self,port_rtn, hedge_rtn, n, lambd):\n",
    "        \"\"\"optimize portfolio and generating hedge ratio for specified time period\n",
    "        the formula for hedge is as following:\n",
    "        P_final = Ret(portfolio) + lambda(hedge_ratio*hedge_securities)\n",
    "        \n",
    "        \n",
    "        \"\"\"\n",
    "        \n",
    "  \n",
    "        #securieties to be hedged\n",
    "        self.port_rtn = port_rtn\n",
    "        \n",
    "        # hedge securieties\n",
    "        self.hedge_rtn = hedge_rtn\n",
    "        \n",
    "        # rolling base(hedge every n day)\n",
    "        self.n =  n\n",
    "        \n",
    "        # lambda for hedge securities\n",
    "        self.lambd = lambd\n",
    "        self.num = self.hedge_rtn.shape[1]\n",
    "        \n",
    "    \n",
    "    \n",
    "    def by_VaR(self):  \n",
    "        '''optimize based on VaR'''\n",
    "        \n",
    "        alpha=0.01\n",
    "        \n",
    "        \n",
    "        # minimize fuction\n",
    "        def min_VaR(h):    \n",
    "            p = self.port_rtn['return']+np.dot(self.hedge_rtn,np.array(h))* self.lambd\n",
    "            return norm.ppf(1-alpha)* np.std(p)-np.mean(p)        \n",
    "        \n",
    "        # bondary for hedge ratio\n",
    "        bon = tuple((-2, 2) for i in range(self.num))\n",
    "        \n",
    "        # optimizarion\n",
    "        res = minimize(min_VaR, tuple(0 for i in range(self.num)),\n",
    "                    method='SLSQP',bounds=bon, options={'disp': True})\n",
    "\n",
    "        return  res.x\n",
    "    \n",
    "    def by_cvar(self):  \n",
    "        '''optimize based on cvar'''\n",
    "        \n",
    "        alpha=0.01\n",
    "        \n",
    "        # minimize fuction\n",
    "        def min_cvar(h):  \n",
    "            p = self.port_rtn['return']+ np.dot(self.hedge_rtn,np.array(h))* self.lambd\n",
    "            return alpha**-1*norm.pdf(norm.ppf(alpha))*np.std(p)-np.mean(p)\n",
    "        \n",
    "        # bondary for hedge ratio\n",
    "        bon = tuple((-2, 2) for i in range(self.num))\n",
    "        \n",
    "        # optimizarion\n",
    "        res = minimize(min_cvar, tuple(0 for i in range(self.num)),\n",
    "                    method='SLSQP',bounds=bon, options={'disp': True})\n",
    "\n",
    "        return  res.x\n",
    "    \n",
    "    def by_std(self):  \n",
    "        '''optimize based on std'''\n",
    "        \n",
    "        # minimize fuction\n",
    "        def min_std(h):  \n",
    "            p = self.port_rtn['return']+ np.dot(self.hedge_rtn,np.array(h))* self.lambd\n",
    "            return np.std(p)\n",
    "        # bondary for hedge ratio\n",
    "        bon = tuple((-2, 2) for i in range(self.num))\n",
    "        \n",
    "        # optimizarion\n",
    "        res = minimize(min_std, tuple(0 for i in range(self.num)),\n",
    "                    method='SLSQP',bounds=bon, options={'disp': True})\n",
    "        return  res.x\n",
    "    \n",
    "      \n",
    "    def roll(self,method,n, rf,pl):\n",
    "        \n",
    "        ratio_data = []\n",
    "        return_data_h = []\n",
    "        return_data_uh = []\n",
    "        sharpe_ratio_h = []\n",
    "        sharpe_ratio_uh = []\n",
    "        var_data_h = []\n",
    "        var_data_uh = []\n",
    "        VaR_data_h = []\n",
    "        VaR_data_uh = []\n",
    "        CVaR_data_h = []\n",
    "        CVaR_data_uh = []\n",
    "        \n",
    "        \n",
    "        print 'Processing....'\n",
    "        for i in xrange (0,n):\n",
    "            r_pf=self.port_rtn['return'][i:i+5]\n",
    "            r_hedge=self.hedge_rtn[i:i+5]\n",
    "            \n",
    "            if method == 'VaR':\n",
    "                alpha=0.01\n",
    "                def VaR(h):\n",
    "                    p = r_pf+ np.dot(r_hedge,np.array(h))* self.lambd\n",
    "                    return norm.ppf(1-alpha)* np.std(p)-np.mean(p)\n",
    "                # bondary for hedge ratio\n",
    "                bon = tuple((-2, 2) for i in range(self.num))\n",
    "                res = minimize(VaR, tuple(0 for i in range(self.num)), \n",
    "                               method='SLSQP',bounds=bon, options={'disp': False})       \n",
    "        \n",
    "                          \n",
    "            elif method == 'cvar':\n",
    "                alpha=0.01\n",
    "                def cvar(h):  \n",
    "                    p = r_pf+ np.dot(r_hedge,np.array(h)) * self.lambd\n",
    "                    return alpha**-1*norm.pdf(norm.ppf(alpha))*np.std(p)-np.mean(p)  \n",
    "                # bondary for hedge ratio\n",
    "                bon = tuple((-2, 2) for i in range(self.num))\n",
    "                res = minimize(cvar, tuple(0 for i in range(self.num)),\n",
    "                    method='SLSQP',bounds=bon, options={'disp': False})\n",
    "                         \n",
    "            elif method == 'std':\n",
    "                def std(h):\n",
    "                    return np.std(r_pf+np.dot(r_hedge,np.array(h))* self.lambd)\n",
    "                # bondary for hedge ratio\n",
    "                bon = tuple((-2, 2) for i in range(self.num))\n",
    "                res = minimize(std, tuple(0 for i in range(self.num)),\n",
    "                    method='SLSQP',bounds=bon, options={'disp': False})\n",
    "            \n",
    "            else:\n",
    "                break       \n",
    "          \n",
    "            # return using last day data\n",
    "\n",
    "\n",
    "            ret_h = (r_pf+ np.dot(r_hedge,np.array(res.x)) * self.lambd)[4]\n",
    "            ret_uh = r_pf[4]\n",
    "            \n",
    "            portfolio_info = r_pf+ np.dot(r_hedge,np.array(res.x)) * self.lambd\n",
    "            \n",
    "            \n",
    "            # sharpe ratio\n",
    "            sp_h= (np.mean(portfolio_info)-rf)/np.std(portfolio_info)\n",
    "            sp_uh= (np.mean(r_pf)-rf)/np.std(r_pf)\n",
    "            \n",
    "            # variance\n",
    "            var_h= np.var(portfolio_info)\n",
    "            var_uh= np.var(r_pf)\n",
    "            \n",
    "            # VaR\n",
    "            alpha=0.01\n",
    "            VaR_h = norm.ppf(1-alpha)* np.std(portfolio_info)-np.mean(portfolio_info)\n",
    "            VaR_uh = norm.ppf(1-alpha)* np.std(r_pf)-np.mean(r_pf)\n",
    "            \n",
    "            # CVaR\n",
    "            CVaR_h = alpha**-1*norm.pdf(norm.ppf(alpha))*np.std(portfolio_info)-np.mean(portfolio_info)\n",
    "            CVaR_uh = alpha**-1*norm.pdf(norm.ppf(alpha))*np.std(r_pf)-np.mean(r_pf)\n",
    "            \n",
    "            \n",
    "            \n",
    "\n",
    "            return_data_h.append(ret_h)\n",
    "            return_data_uh.append(ret_uh)\n",
    "            ratio_data.append(res.x)\n",
    "            sharpe_ratio_h.append(sp_h)\n",
    "            sharpe_ratio_uh.append(sp_uh)\n",
    "            var_data_h.append(var_h)\n",
    "            var_data_uh.append(var_uh)\n",
    "            VaR_data_h.append(VaR_h)\n",
    "            VaR_data_uh.append(VaR_uh)\n",
    "            CVaR_data_h.append(CVaR_h)\n",
    "            CVaR_data_uh.append(CVaR_uh)\n",
    "            \n",
    "            \n",
    "            \n",
    "            i=i+1\n",
    "            \n",
    "        ratio_data = pd.DataFrame(ratio_data,columns=list(self.hedge_rtn.columns))\n",
    "        return_data_uh = pd.DataFrame(return_data_uh,columns=['unhedged'])\n",
    "        return_data_h = pd.DataFrame(return_data_h,columns=['hedged'])\n",
    "        return_data = pd.concat([return_data_h, return_data_uh], axis=1)\n",
    "        \n",
    "        sharpe_ratio_uh = pd.DataFrame(sharpe_ratio_uh,columns=['unhedged'])\n",
    "        sharpe_ratio_h = pd.DataFrame(sharpe_ratio_h,columns=['hedged'])\n",
    "        sharpe_ratio = pd.concat([sharpe_ratio_h, sharpe_ratio_uh], axis=1)\n",
    "        \n",
    "        var_data_uh = pd.DataFrame(var_data_uh,columns=['unhedged'])\n",
    "        var_data_h = pd.DataFrame(var_data_h,columns=['hedged'])\n",
    "        var_data = pd.concat([var_data_h, var_data_uh], axis=1)\n",
    "        \n",
    "        VaR_data_uh = pd.DataFrame(VaR_data_uh,columns=['unhedged'])\n",
    "        VaR_data_h = pd.DataFrame(VaR_data_h,columns=['hedged'])\n",
    "        VaR_data = pd.concat([VaR_data_h, VaR_data_uh], axis=1)\n",
    "        \n",
    "        CVaR_data_uh = pd.DataFrame(CVaR_data_uh,columns=['unhedged'])\n",
    "        CVaR_data_h = pd.DataFrame(CVaR_data_h,columns=['hedged'])\n",
    "        CVaR_data = pd.concat([CVaR_data_h, CVaR_data_uh], axis=1)\n",
    "        \n",
    "        \n",
    "        \n",
    "               \n",
    "        cumulative_return_uh =  (return_data_uh+ 1).cumprod() - 1\n",
    "        cumulative_return_h =  (return_data_h+ 1).cumprod() - 1\n",
    "        cumulative_return_uh.columns = ['unhedged']\n",
    "        cumulative_return_h.columns = ['hedged']\n",
    "        cumulative_return = pd.concat([cumulative_return_h, cumulative_return_uh], axis=1)\n",
    "        \n",
    "        #+++++test++++\n",
    "        #print sharpe_ratio\n",
    "        #print ratio_data\n",
    "        #print return_data\n",
    "        #print cumulative_return\n",
    "        #++++++++++++++\n",
    "        \n",
    "        \n",
    "        # choose what value you want to see on final graph\n",
    "\n",
    "        if pl == 'all':\n",
    "            ratio_data.plot(title = 'hedge ratio'+' by using '+str(method))\n",
    "\n",
    "            #return_data_h.plot(title = str(method)+' return')\n",
    "            #return_data_uh.plot(title = str(method)+' return')\n",
    "            return_data.plot(title = 'return'+' by using '+str(method))\n",
    "\n",
    "            #cumulative_return_uh.plot(title = str(method)+' cumulative return')\n",
    "            #cumulative_return_h.plot(title = str(method)+' cumulative return')\n",
    "            cumulative_return.plot(title = 'cumulative return'+' by using '+str(method))\n",
    "\n",
    "            #sharpe_ratio_h.plot(title = str(method)+'  Sharpe ratio')\n",
    "            #sharpe_ratio_uh.plot(title = str(method)+'  Sharpe ratio')\n",
    "            sharpe_ratio.plot(title = 'Sharpe ratio'+' by using '+str(method))\n",
    "\n",
    "            var_data.plot(title = 'variance'+' by using '+str(method))\n",
    "\n",
    "            VaR_data.plot(title = 'VaR'+' by using '+str(method))\n",
    "\n",
    "            CVaR_data.plot(title = 'CVaR'+' by using '+str(method))\n",
    "            return cumulative_return_h\n",
    "        elif pl == 'VaR':\n",
    "            VaR_data.plot(title = 'VaR'+' by using '+str(method))\n",
    "            VaR_data_h.columns=[str(method)]\n",
    "            return VaR_data_h\n",
    "        elif pl == 'var':\n",
    "            var_data.plot(title = 'variance'+' by using '+str(method))\n",
    "            var_data_h.columns=[str(method)]\n",
    "            return var_data_h\n",
    "        elif pl == 'cvar':\n",
    "            CVaR_data.plot(title = 'CVaR'+' by using '+str(method))\n",
    "            CVaR_data_h.columns=[str(method)]\n",
    "            return CVaR_data_h\n",
    "        elif pl == 'cumulative':\n",
    "            cumulative_return.plot(title = 'cumulative return'+' by using '+str(method))\n",
    "            cumulative_return_h.columns=[str(method)]\n",
    "            return cumulative_return_h\n",
    "        \n",
    "        \n",
    "    \n",
    "\n",
    "\n",
    "    \n",
    "        \n",
    "        \n",
    "        \n",
    "    \n",
    " "
   ]
  },
  {
   "cell_type": "code",
   "execution_count": null,
   "metadata": {
    "collapsed": true
   },
   "outputs": [],
   "source": [
    " \n"
   ]
  },
  {
   "cell_type": "code",
   "execution_count": null,
   "metadata": {
    "collapsed": true,
    "scrolled": true
   },
   "outputs": [],
   "source": []
  },
  {
   "cell_type": "code",
   "execution_count": null,
   "metadata": {
    "collapsed": true
   },
   "outputs": [],
   "source": []
  },
  {
   "cell_type": "markdown",
   "metadata": {},
   "source": [
    "# +++++++++++++++++++++++++++++++++++++++++++++++++++++"
   ]
  },
  {
   "cell_type": "markdown",
   "metadata": {
    "collapsed": true
   },
   "source": [
    "# test here"
   ]
  },
  {
   "cell_type": "markdown",
   "metadata": {},
   "source": [
    "# +++++++++++++++++++++++++++++++++++++++++++++++++++++"
   ]
  },
  {
   "cell_type": "markdown",
   "metadata": {},
   "source": [
    "# portfolio"
   ]
  },
  {
   "cell_type": "code",
   "execution_count": 239,
   "metadata": {
    "collapsed": true
   },
   "outputs": [],
   "source": [
    "\n",
    "\n",
    "# ++++++++++++++++++++  Change default setting here ++++++++++++++++++    \n",
    "sec = ['ms','pfk','blk','cs','gs','ice','met','kcg','apo','fig']   \n",
    "h_sec = ['spy','iyf','csj']\n",
    "start = dt.datetime(2016,1,1)  \n",
    "end = dt.datetime(2016,12,31) \n",
    "portfolio_weight =  [1./len(sec) for i in sec] \n",
    "\n",
    "# +++++++++++++++++++++++++++++++++++++++++++++++++++++++++++++++++++\n",
    "\n",
    "# set up data gathering class and gather data\n",
    "default_portfolio = Portfolio(sec,h_sec,start,end,portfolio_weight)\n",
    "\n",
    "# return for hedge securities\n",
    "hedge_rtn =  default_portfolio.hedge_rtn()\n",
    "\n",
    "# return for securities to be hedged\n",
    "port_rtn = default_portfolio.port_rtn()\n",
    "\n",
    "op = Hedge(port_rtn,hedge_rtn,n=1,lambd = 1)   "
   ]
  },
  {
   "cell_type": "markdown",
   "metadata": {},
   "source": [
    "# bonds"
   ]
  },
  {
   "cell_type": "code",
   "execution_count": 121,
   "metadata": {
    "collapsed": true,
    "scrolled": true
   },
   "outputs": [],
   "source": [
    "\n",
    "# ++++++++++++++++++++  Change default setting here ++++++++++++++++++    \n",
    "sec = ['lqd']   \n",
    "h_sec = ['tlo']\n",
    "start = dt.datetime(2016,1,1)  \n",
    "end = dt.datetime(2016,12,31) \n",
    "portfolio_weight =  [1./len(sec) for i in sec] \n",
    "\n",
    "# +++++++++++++++++++++++++++++++++++++++++++++++++++++++++++++++++++\n",
    "\n",
    "# set up data gathering class and gather data\n",
    "default_portfolio = Portfolio(sec,h_sec,start,end,portfolio_weight)\n",
    "\n",
    "# return for hedge securities\n",
    "hedge_rtn =  default_portfolio.hedge_rtn()\n",
    "\n",
    "# return for securities to be hedged\n",
    "port_rtn = default_portfolio.port_rtn()\n",
    "\n",
    "op = Hedge(port_rtn,hedge_rtn,n=1,lambd = 1)   "
   ]
  },
  {
   "cell_type": "code",
   "execution_count": null,
   "metadata": {
    "collapsed": true
   },
   "outputs": [],
   "source": []
  },
  {
   "cell_type": "markdown",
   "metadata": {},
   "source": [
    "# inflation"
   ]
  },
  {
   "cell_type": "markdown",
   "metadata": {},
   "source": [
    "## gold"
   ]
  },
  {
   "cell_type": "code",
   "execution_count": 21,
   "metadata": {
    "collapsed": true,
    "scrolled": true
   },
   "outputs": [],
   "source": [
    "start = dt.datetime(2006,1,1)  \n",
    "end = dt.datetime(2016,12,31) \n",
    "\n",
    "cpi=data.DataReader('CPIAUCSL','fred', start, end )\n",
    "gold=data.DataReader('GOLDAMGBD228NLBM','fred', start , end )\n",
    "df = pd.concat([cpi,gold],axis=1)\n",
    "df['GOLDAMGBD228NLBM']=df['GOLDAMGBD228NLBM'].fillna(method='pad')\n",
    "df=df.dropna()\n",
    "df=df.pct_change().dropna()\n",
    "###df = pd.concat([cpi,gold],axis=1).pct_change().dropna()\n",
    "df.columns = ['return','gold']\n",
    "\n",
    "# return for hedge securities\n",
    "hedge_rtn =  pd.DataFrame(df['gold'])\n",
    "\n",
    "# return for securities to be hedged\n",
    "port_rtn = pd.DataFrame(df['return'])\n",
    "\n",
    "op = Hedge(port_rtn,hedge_rtn,n=1,lambd = 1)  \n",
    "corgold=np.correlate(df['return'],df['gold'])"
   ]
  },
  {
   "cell_type": "markdown",
   "metadata": {
    "collapsed": true
   },
   "source": [
    "## tips"
   ]
  },
  {
   "cell_type": "code",
   "execution_count": 22,
   "metadata": {
    "collapsed": true,
    "scrolled": true
   },
   "outputs": [],
   "source": [
    "start = dt.datetime(2006,1,1)  \n",
    "end = dt.datetime(2016,12,31) \n",
    "\n",
    "cpi=data.DataReader('CPIAUCSL','fred', start, end )\n",
    "tip=data.DataReader('tip','google', start , end )['Close']\n",
    "df = pd.concat([cpi,tip],axis=1)\n",
    "df['Close']=df['Close'].fillna(method='pad')\n",
    "df=df.dropna()\n",
    "df=df.pct_change().dropna()\n",
    "##df = pd.concat([cpi,tip],axis=1).pct_change().dropna()\n",
    "df.columns = ['return','tip']\n",
    "\n",
    "# return for hedge securities\n",
    "hedge_rtn =  pd.DataFrame(df['tip'])\n",
    "\n",
    "# return for securities to be hedged\n",
    "port_rtn = pd.DataFrame(df['return'])\n",
    "\n",
    "op = Hedge(port_rtn,hedge_rtn,n=1,lambd = 1)   \n",
    "cortips=np.correlate(df['return'],df['tip'])\n"
   ]
  },
  {
   "cell_type": "markdown",
   "metadata": {
    "collapsed": true
   },
   "source": [
    "# spy"
   ]
  },
  {
   "cell_type": "code",
   "execution_count": 23,
   "metadata": {},
   "outputs": [],
   "source": [
    "\n",
    "start = dt.datetime(2006,1,1)  \n",
    "end = dt.datetime(2016,12,31) \n",
    "\n",
    "cpi=data.DataReader('CPIAUCSL','fred', start, end )\n",
    "spy=data.DataReader('spy','google', start , end )['Close']\n",
    "df = pd.concat([cpi,spy],axis=1)\n",
    "df['Close']=df['Close'].fillna(method='pad')\n",
    "df=df.dropna()\n",
    "df=df.pct_change().dropna()\n",
    "#df = pd.concat([cpi,spy],axis=1).pct_change().dropna()\n",
    "df.columns = ['return','spy']\n",
    "\n",
    "# return for hedge securities\n",
    "hedge_rtn =  pd.DataFrame(df['spy'])\n",
    "\n",
    "# return for securities to be hedged\n",
    "port_rtn = pd.DataFrame(df['return'])\n",
    "\n",
    "op = Hedge(port_rtn,hedge_rtn,n=1,lambd = 1)      \n",
    "corspy=np.correlate(df['return'],df['spy'])\n"
   ]
  },
  {
   "cell_type": "code",
   "execution_count": 24,
   "metadata": {},
   "outputs": [
    {
     "data": {
      "text/plain": [
       "(130, 1)"
      ]
     },
     "execution_count": 24,
     "metadata": {},
     "output_type": "execute_result"
    }
   ],
   "source": [
    "port_rtn.shape"
   ]
  },
  {
   "cell_type": "code",
   "execution_count": null,
   "metadata": {
    "collapsed": true
   },
   "outputs": [],
   "source": []
  },
  {
   "cell_type": "code",
   "execution_count": 25,
   "metadata": {},
   "outputs": [
    {
     "name": "stdout",
     "output_type": "stream",
     "text": [
      "Optimization terminated successfully.    (Exit mode 0)\n",
      "            Current function value: 0.00549000385695\n",
      "            Iterations: 3\n",
      "            Function evaluations: 9\n",
      "            Gradient evaluations: 3\n",
      "Optimization terminated successfully.    (Exit mode 0)\n",
      "            Current function value: 0.00649288802897\n",
      "            Iterations: 3\n",
      "            Function evaluations: 9\n",
      "            Gradient evaluations: 3\n",
      "Optimization terminated successfully.    (Exit mode 0)\n",
      "            Current function value: 0.00295652798265\n",
      "            Iterations: 3\n",
      "            Function evaluations: 9\n",
      "            Gradient evaluations: 3\n"
     ]
    },
    {
     "data": {
      "text/plain": [
       "array([-0.02877742])"
      ]
     },
     "execution_count": 25,
     "metadata": {},
     "output_type": "execute_result"
    }
   ],
   "source": [
    "op.by_VaR()\n",
    "op.by_cvar()\n",
    "op.by_std()"
   ]
  },
  {
   "cell_type": "markdown",
   "metadata": {
    "collapsed": true
   },
   "source": [
    "# graph for hedge ratio change over month"
   ]
  },
  {
   "cell_type": "code",
   "execution_count": 26,
   "metadata": {
    "scrolled": true
   },
   "outputs": [
    {
     "name": "stdout",
     "output_type": "stream",
     "text": [
      "period 126\n",
      "Processing....\n",
      "Processing....\n",
      "Processing....\n"
     ]
    },
    {
     "data": {
      "image/png": "[encoded data removed]",
      "text/plain": [
       "<matplotlib.figure.Figure at 0x10effabd0>"
      ]
     },
     "metadata": {},
     "output_type": "display_data"
    },
    {
     "data": {
      "image/png": "[encoded data removed]",
      "text/plain": [
       "<matplotlib.figure.Figure at 0x10f31ca50>"
      ]
     },
     "metadata": {},
     "output_type": "display_data"
    },
    {
     "data": {
      "image/png": "[encoded data removed]",
      "text/plain": [
       "<matplotlib.figure.Figure at 0x10f300050>"
      ]
     },
     "metadata": {},
     "output_type": "display_data"
    }
   ],
   "source": [
    "#n = 5  # number of day or number of month (test)\n",
    "n = port_rtn.shape[0]-5+1  # number of day or number of month (all data)\n",
    "print 'period',n\n",
    "rf = 0.1/365\n",
    "pl='var'   # 'all','var', 'cvar', 'VaR', 'cumulative'\n",
    "total = pd.concat([op.roll('VaR',n,rf,pl),op.roll('cvar',n,rf,pl),op.roll('std',n,rf,pl)], axis=1)\n"
   ]
  },
  {
   "cell_type": "code",
   "execution_count": 27,
   "metadata": {},
   "outputs": [
    {
     "data": {
      "text/plain": [
       "<matplotlib.axes._subplots.AxesSubplot at 0x10efc5ad0>"
      ]
     },
     "execution_count": 27,
     "metadata": {},
     "output_type": "execute_result"
    },
    {
     "data": {
      "image/png": "[encoded data removed]",
      "text/plain": [
       "<matplotlib.figure.Figure at 0x10e6d46d0>"
      ]
     },
     "metadata": {},
     "output_type": "display_data"
    }
   ],
   "source": [
    "# change return value if you want to see graph rather than culmulative return\n",
    "total.plot(title = str(pl)+' comparision')"
   ]
  },
  {
   "cell_type": "code",
   "execution_count": null,
   "metadata": {
    "collapsed": true,
    "scrolled": true
   },
   "outputs": [],
   "source": []
  },
  {
   "cell_type": "code",
   "execution_count": 28,
   "metadata": {},
   "outputs": [
    {
     "name": "stdout",
     "output_type": "stream",
     "text": [
      "[ 0.00755113] [ 0.00242455] [ 0.00834682]\n"
     ]
    }
   ],
   "source": [
    "\n",
    "print corgold,cortips,corspy"
   ]
  },
  {
   "cell_type": "markdown",
   "metadata": {},
   "source": [
    "# +++++++++++++++++++++++++++++++++++++++++++++++++++++"
   ]
  },
  {
   "cell_type": "code",
   "execution_count": null,
   "metadata": {
    "collapsed": true
   },
   "outputs": [],
   "source": []
  },
  {
   "cell_type": "code",
   "execution_count": null,
   "metadata": {
    "collapsed": true
   },
   "outputs": [],
   "source": []
  },
  {
   "cell_type": "code",
   "execution_count": null,
   "metadata": {
    "collapsed": true
   },
   "outputs": [],
   "source": []
  },
  {
   "cell_type": "code",
   "execution_count": null,
   "metadata": {
    "collapsed": true
   },
   "outputs": [],
   "source": []
  },
  {
   "cell_type": "code",
   "execution_count": null,
   "metadata": {
    "collapsed": true
   },
   "outputs": [],
   "source": []
  }
 ],
 "metadata": {
  "kernelspec": {
   "display_name": "Python 2",
   "language": "python",
   "name": "python2"
  },
  "language_info": {
   "codemirror_mode": {
    "name": "ipython",
    "version": 2
   },
   "file_extension": ".py",
   "mimetype": "text/x-python",
   "name": "python",
   "nbconvert_exporter": "python",
   "pygments_lexer": "ipython2",
   "version": "2.7.13"
  }
 },
 "nbformat": 4,
 "nbformat_minor": 2
}
