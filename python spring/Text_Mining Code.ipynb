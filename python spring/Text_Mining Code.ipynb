{
 "cells": [
  {
   "cell_type": "code",
   "execution_count": null,
   "metadata": {
    "collapsed": true
   },
   "outputs": [],
   "source": [
    "#from __future__ import division\n",
    "from string import punctuation\n",
    "#import csv\n",
    "import urllib\n",
    "import os\n",
    "\n",
    "os.chdir('C:\\Sudip')\n",
    "\n",
    "urllib.urlretrieve('http://www.unc.edu/~ncaren/haphazard/positive.txt', 'positive.txt')\n",
    "urllib.urlretrieve('http://www.unc.edu/~ncaren/haphazard/negative.txt', 'negative.txt')\n",
    "\n",
    "msgs = open(\"testfile.txt\").read().lower()\n",
    "\n",
    "pos = open(\"positive.txt\").read()\n",
    "positive_words = pos.split('\\n')\n",
    "positive_number = 0\n",
    "\n",
    "neg = open('negative.txt').read()\n",
    "negative_words = neg.split('\\n')\n",
    "negative_number = 0\n",
    "\n",
    "for p in punctuation:\n",
    "    words = msgs.replace(p, '')\n",
    "words = list(words.split(' '))\n",
    "print words\n",
    "word_count = len(words)\n",
    "for word in words:\n",
    "    if word in positive_words:\n",
    "        positive_number += 1\n",
    "    elif word in negative_words:\n",
    "        negative_number += 1\n",
    "print positive_number, negative_number\n",
    "\n",
    "\n",
    "### Uncomment if you need percentage\n",
    "# positive_pencentage = positive_number / word_count\n",
    "# negative_percentage = negative_number / word_count\n"
   ]
  }
 ],
 "metadata": {
  "kernelspec": {
   "display_name": "Python [conda env:py2.7]",
   "language": "python",
   "name": "conda-env-py2.7-py"
  },
  "language_info": {
   "codemirror_mode": {
    "name": "ipython",
    "version": 2
   },
   "file_extension": ".py",
   "mimetype": "text/x-python",
   "name": "python",
   "nbconvert_exporter": "python",
   "pygments_lexer": "ipython2",
   "version": "2.7.13"
  }
 },
 "nbformat": 4,
 "nbformat_minor": 2
}
