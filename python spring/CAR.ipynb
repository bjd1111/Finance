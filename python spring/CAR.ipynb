{
 "cells": [
  {
   "cell_type": "code",
   "execution_count": null,
   "metadata": {
    "collapsed": true
   },
   "outputs": [],
   "source": [
    "import pandas_datareader.data as pdr\n",
    "import pandas as pd\n",
    "import numpy as np\n",
    "import datetime, os, csv\n",
    "import statsmodels.api as sm\n",
    "\n"
   ]
  },
  {
   "cell_type": "code",
   "execution_count": null,
   "metadata": {
    "collapsed": true
   },
   "outputs": [],
   "source": [
    "\n",
    "#mac\n",
    "os.chdir( \"/Users/apple/Downloads/ps1/\")\n",
    "#win\n",
    "#os.chdir( \"C:/Users/bjd/Desktop/data\") \n",
    "\n",
    "\n",
    "input_path10K1A = \"10-K1A.csv\"\n",
    "csvFile10K1A = open(input_path10K1A, \"r\")\n",
    "csvReader10K1A = csv.reader(csvFile10K1A, delimiter=\",\")\n",
    "csvData10K1A = list(csvReader10K1A)\n",
    "\n"
   ]
  },
  {
   "cell_type": "code",
   "execution_count": null,
   "metadata": {
    "collapsed": true
   },
   "outputs": [],
   "source": [
    "\n",
    "input_path = \"CompanyTickerList.csv\"\n",
    "csvFile = open(input_path, \"r\")\n",
    "csvReader = csv.reader(csvFile, delimiter=\",\")\n",
    "csvData = list(csvReader)\n",
    "\n"
   ]
  },
  {
   "cell_type": "code",
   "execution_count": null,
   "metadata": {
    "collapsed": true
   },
   "outputs": [],
   "source": [
    "start = datetime.datetime(2007, 4, 25) #<==change start time here\n",
    "end = datetime.datetime(2017, 4, 25) #<==change end time here\n",
    "\n",
    "# Read-in data for SPY\n",
    "spy = pdr.DataReader(\"SPY\", 'yahoo', start, end)\n",
    "spy_adj = spy['Adj Close']\n",
    "spy_ret = np.log(spy_adj).diff().dropna()\n",
    "\n",
    "## Read-in data for stocks\n",
    "stocks = []\n",
    "for rowData in csvData[1:]:\n",
    "    ticker = rowData[0]\n",
    "    stocks.append(ticker)\n",
    "price = pdr.DataReader(stocks, 'yahoo', start, end)\n",
    "key_word = 'Adj Close'\n",
    "cleanData = price.ix[key_word]\n",
    "adj_close = pd.DataFrame(cleanData)\n",
    "ret = np.log(adj_close).diff().dropna()\n",
    "rows = ret.shape[0]\n",
    "\n",
    "headers = sorted(stocks)\n",
    "\n",
    "\n",
    "\n",
    "for i in range(20): # <===N=20 securities in this portfolio. Change this to fit the size of your portfolio\n",
    "    stock = ret.ix[:, i]\n",
    "    stock_name = headers[i]\n",
    "    spy_ret = sm.add_constant(spy_ret)\n",
    "    model = sm.OLS(stock, spy_ret).fit()\n",
    "    ret[stock_name] = model.resid #<===dataframe of residual\n",
    "\n",
    "car = []\n",
    "for rowData in csvData10K1A[1:]:\n",
    "    ticker = rowData[0]\n",
    "    filingdate = rowData[2]\n",
    "    positive_pct = rowData[5]\n",
    "    negative_pct = rowData[7]\n",
    "\n",
    "    try:\n",
    "        tic_index = headers.index(ticker)\n",
    "    except ValueError:\n",
    "        print \"ticker not in list.\"\n",
    "    residual = ret.ix[:, tic_index]\n",
    "    date_index = residual.index.get_loc(filingdate)\n",
    "    x = 3 #<==analayze 3 days before and 3 days after the report date.\n",
    "    date_start = date_index - x\n",
    "    for i in range(1, 2+2*x):\n",
    "        row = [sum(residual[date_start: date_start + i]), positive_pct, negative_pct]\n",
    "        car.append(row)\n",
    "\n",
    "df = pd.DataFrame(car, columns=['CAR', 'positive_pct', 'negative_pct'])\n",
    "\n",
    "Y = df['CAR']\n",
    "X = df[['positive_pct', 'negative_pct']]\n",
    "X = sm.add_constant(X)\n",
    "reg = sm.OLS(Y, X.astype(float)).fit()\n",
    "print reg.summary()"
   ]
  }
 ],
 "metadata": {
  "kernelspec": {
   "display_name": "Python 2",
   "language": "python",
   "name": "python2"
  },
  "language_info": {
   "codemirror_mode": {
    "name": "ipython",
    "version": 2
   },
   "file_extension": ".py",
   "mimetype": "text/x-python",
   "name": "python",
   "nbconvert_exporter": "python",
   "pygments_lexer": "ipython2",
   "version": "2.7.13"
  }
 },
 "nbformat": 4,
 "nbformat_minor": 2
}
