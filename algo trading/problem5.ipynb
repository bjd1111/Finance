{
 "cells": [
  {
   "cell_type": "code",
   "execution_count": 62,
   "metadata": {
    "collapsed": true
   },
   "outputs": [],
   "source": [
    "coeffs = [698.74940594355189, 0.3429159597976898, 0.55893058943625173, 0.74906715225239062, 0.97462393173698603]     #from problem 2\n",
    "def MI_model(s,v,time,size):\n",
    "    \"market impact function\"\n",
    "    ADV = Shares/ Size\n",
    "    POV = Shares/(Shares+time*ADV)   \n",
    "    \n",
    "\n",
    "\n",
    "    return coeffs[0]*(s**coeffs[1])*(v **coeffs[2]) * (coeffs[4]*(POV **coeffs[3])+ (1-coeffs[4]))\n",
    "\n",
    "def TR(time,sigma):\n",
    "    return sigma*np.sqrt(1/250.*1/3.*time)*10**4\n",
    "\n",
    "def PA(alpha,time):\n",
    "    \n",
    "    return 0.5*alpha*(time)\n",
    "    "
   ]
  },
  {
   "cell_type": "code",
   "execution_count": 63,
   "metadata": {
    "collapsed": false
   },
   "outputs": [],
   "source": [
    "import pandas as pd\n",
    "import numpy as np\n",
    "\n",
    "#Stock = 'RLK'\n",
    "Shares = 100000\n",
    "#Side = Buy\n",
    "Price = 50\n",
    "ADV = 1000000\n",
    "Volatility = 0.25\n",
    "Size = 0.10\n",
    "time = 1"
   ]
  },
  {
   "cell_type": "code",
   "execution_count": null,
   "metadata": {
    "collapsed": false
   },
   "outputs": [],
   "source": []
  },
  {
   "cell_type": "code",
   "execution_count": 64,
   "metadata": {
    "collapsed": false
   },
   "outputs": [
    {
     "data": {
      "text/plain": [
       "3122.169038825854"
      ]
     },
     "execution_count": 64,
     "metadata": {},
     "output_type": "execute_result"
    }
   ],
   "source": [
    "mi = MI_model(Shares,Volatility,time,Size)\n",
    "mi\n"
   ]
  },
  {
   "cell_type": "markdown",
   "metadata": {},
   "source": [
    "# Calculate the Optimal POV rate that solves the Trader’s Dilemma for a Lambda value of 1.\n",
    "# Minimize MI + Lambda * TR (where Lambda=1)."
   ]
  },
  {
   "cell_type": "code",
   "execution_count": 65,
   "metadata": {
    "collapsed": false
   },
   "outputs": [
    {
     "data": {
      "text/plain": [
       "3213.4561317433818"
      ]
     },
     "execution_count": 65,
     "metadata": {},
     "output_type": "execute_result"
    }
   ],
   "source": [
    "\n",
    "Lambda = 1\n",
    "time = 1\n",
    "\n",
    "\n",
    "def fuc(time):\n",
    "    return MI_model(Shares,Volatility,time,Size) + Lambda * TR(time,Volatility)\n",
    "\n",
    "fuc(time)"
   ]
  },
  {
   "cell_type": "code",
   "execution_count": 66,
   "metadata": {
    "collapsed": false
   },
   "outputs": [
    {
     "name": "stdout",
     "output_type": "stream",
     "text": [
      "Optimization terminated successfully.\n",
      "         Current function value: 1136.815386\n",
      "         Iterations: 25\n",
      "         Function evaluations: 50\n"
     ]
    }
   ],
   "source": [
    "\n",
    "from scipy.optimize import minimize\n",
    "res = minimize(fuc, 1, method='nelder-mead',\n",
    "                options={'disp': True})\n"
   ]
  },
  {
   "cell_type": "code",
   "execution_count": 67,
   "metadata": {
    "collapsed": false
   },
   "outputs": [
    {
     "name": "stdout",
     "output_type": "stream",
     "text": [
      "[ 21.88125]\n"
     ]
    }
   ],
   "source": [
    "print(res.x)"
   ]
  },
  {
   "cell_type": "code",
   "execution_count": 72,
   "metadata": {
    "collapsed": false
   },
   "outputs": [
    {
     "data": {
      "text/plain": [
       "array([ 0.00454933])"
      ]
     },
     "execution_count": 72,
     "metadata": {},
     "output_type": "execute_result"
    }
   ],
   "source": [
    "time  =  res.x\n",
    "POV = Shares/(Shares+time*ADV)  \n",
    "POV"
   ]
  },
  {
   "cell_type": "markdown",
   "metadata": {},
   "source": [
    "# Calculate the Optimal POV rate that maximizes the probability of out-performing a cost of 80bp. \n",
    "#  Price Improvement strategy"
   ]
  },
  {
   "cell_type": "code",
   "execution_count": 77,
   "metadata": {
    "collapsed": false
   },
   "outputs": [
    {
     "data": {
      "text/plain": [
       "33.330769351749645"
      ]
     },
     "execution_count": 77,
     "metadata": {},
     "output_type": "execute_result"
    }
   ],
   "source": [
    "cost = 80                                #80bp\n",
    "alpha = 1                                #trade rate at Time t alpha = shares traded(complete)/volume over trading Horizon\n",
    "def pi(time,sign = -1):\n",
    "    #sign = -1 the function is to maximize\n",
    "    return sign*(cost - (MI_model(Shares,Volatility,time,Size)+PA(alpha,time)))/TR(time,Volatility)\n",
    "\n",
    "pi(1,sign = -1)"
   ]
  },
  {
   "cell_type": "code",
   "execution_count": 84,
   "metadata": {
    "collapsed": false
   },
   "outputs": [
    {
     "name": "stdout",
     "output_type": "stream",
     "text": [
      "Optimization terminated successfully.\n",
      "         Current function value: 0.295436\n",
      "         Iterations: 36\n",
      "         Function evaluations: 72\n"
     ]
    }
   ],
   "source": [
    "res1 = minimize(pi, 1, method='nelder-mead',\n",
    "                options={'disp': True})"
   ]
  },
  {
   "cell_type": "code",
   "execution_count": 85,
   "metadata": {
    "collapsed": false
   },
   "outputs": [
    {
     "name": "stdout",
     "output_type": "stream",
     "text": [
      "[ 785.15087891]\n"
     ]
    }
   ],
   "source": [
    "print(res1.x)"
   ]
  },
  {
   "cell_type": "code",
   "execution_count": 87,
   "metadata": {
    "collapsed": false
   },
   "outputs": [
    {
     "data": {
      "text/plain": [
       "array([ 0.00012735])"
      ]
     },
     "execution_count": 87,
     "metadata": {},
     "output_type": "execute_result"
    }
   ],
   "source": [
    "time  =  res1.x\n",
    "POV = Shares/(Shares+time*ADV)  \n",
    "POV"
   ]
  },
  {
   "cell_type": "markdown",
   "metadata": {},
   "source": [
    "# Construct the Efficient Trading Frontier – e.g., the set of all optimal trading strategies. \n",
    "# This is similar to the efficient frontier. The y-axis is the Market Impact Cost and the x-axis is the Timing Risk. "
   ]
  },
  {
   "cell_type": "code",
   "execution_count": null,
   "metadata": {
    "collapsed": true
   },
   "outputs": [],
   "source": []
  }
 ],
 "metadata": {
  "kernelspec": {
   "display_name": "Python [conda env:py2.7]",
   "language": "python",
   "name": "conda-env-py2.7-py"
  },
  "language_info": {
   "codemirror_mode": {
    "name": "ipython",
    "version": 2
   },
   "file_extension": ".py",
   "mimetype": "text/x-python",
   "name": "python",
   "nbconvert_exporter": "python",
   "pygments_lexer": "ipython2",
   "version": "2.7.13"
  }
 },
 "nbformat": 4,
 "nbformat_minor": 2
}
