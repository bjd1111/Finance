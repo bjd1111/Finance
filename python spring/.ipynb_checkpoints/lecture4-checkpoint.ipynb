{
 "cells": [
  {
   "cell_type": "code",
   "execution_count": null,
   "metadata": {
    "collapsed": true
   },
   "outputs": [],
   "source": []
  },
  {
   "cell_type": "code",
   "execution_count": 6,
   "metadata": {
    "collapsed": false
   },
   "outputs": [],
   "source": [
    "#get data from web\n",
    "\n",
    "import urllib\n",
    "import datetime\n",
    "import numpy as np\n",
    "\n",
    "### get the url for the downloadable csv-file data\n",
    "def make_url(ticker_symbol, start_date, end_date):\n",
    "    base_url = \"http://ichart.finance.yahoo.com/table.csv?s=\"\n",
    "    # print ticker_symbol\n",
    "    a = start_date\n",
    "    b = end_date\n",
    "    dt_url = '%s&a=%d&b=%d&c=%d&d=%d&e=%d&f=%d&g=d&ignore=.csv'% (ticker_symbol, a.month-1, a.day, a.year, b.month-1, b.day,b.year)\n",
    "    return base_url + dt_url\n",
    "\n",
    "### create a path to save the file downloaded from web\n",
    "#mac\n",
    "#output_path = \"/Users/apple/Downloads/lecture4\" ## <======Please change to your own directory\n",
    "#win\n",
    "output_path = \"C:/Users/bjd/Desktop/data\" ## <======Please change to your own directory\n",
    "\n",
    "\n",
    "def make_filename(ticker_symbol):\n",
    "    return output_path + \"/\" + ticker_symbol + \".csv\"\n",
    "    \n",
    "\n",
    "### pull the data out from web and store the file in the path that designed above\n",
    "def pull_historical_data(ticker_symbol, start_date, end_date):\n",
    "    try:\n",
    "        urllib.urlretrieve(make_url(ticker_symbol, start_date, end_date), make_filename(ticker_symbol))\n",
    "    except urllib.ContentTooShortError as e:\n",
    "        outfile = open(make_filename(ticker_symbol), \"w\")\n",
    "        outfile.write(e.content)\n",
    "        outfile.close()\n",
    "\n",
    "\n",
    "start = datetime.date(2012,1,1)\n",
    "end = datetime.date(2013,1,1)\n",
    "aapl = pull_historical_data('aapl',start,end) ###<=== get historical time-series data for  AAPL\n",
    "\n",
    "import os\n",
    "os.chdir( \"C:/Users/bjd/Desktop/data\")\n",
    "                           \n",
    "### only read adj close price for AAPL\n",
    "\n",
    "aapl_csv = np.genfromtxt('aapl.csv', delimiter=\",\", skip_header=1)\n",
    "aapl = aapl_csv[:, 6] ###<=== extract closing price data for  AAPL\n",
    "\n",
    "\n",
    "\n"
   ]
  },
  {
   "cell_type": "code",
   "execution_count": null,
   "metadata": {
    "collapsed": true
   },
   "outputs": [],
   "source": []
  },
  {
   "cell_type": "code",
   "execution_count": 12,
   "metadata": {
    "collapsed": false
   },
   "outputs": [],
   "source": [
    "\n",
    "#changing directory\n",
    "\n",
    "import os\n",
    "#mac\n",
    "#os.chdir( \"/Users/apple/Downloads/lecture4/\")\n",
    "#win\n",
    "os.chdir( \"C:/Users/bjd/Desktop/data\") \n",
    "\n",
    "start = datetime.date(2012,1,1)\n",
    "end = datetime.date(2013,1,1)\n",
    "\n",
    "### only read adj close price for AAPL\n",
    "\n",
    "hpq = pull_historical_data('hpq',start,end) ###<=== get historical time-series data for  HPQ\n",
    "hpq_csv = np.genfromtxt('hpq.csv', delimiter=\",\", skip_header=1)\n",
    "\n",
    "spy = pull_historical_data('spy',start,end) ###<=== get historical time-series data for  SPY\n",
    "spy_csv = np.genfromtxt('spy.csv', delimiter=\",\", skip_header=1)\n",
    "\n"
   ]
  },
  {
   "cell_type": "code",
   "execution_count": 13,
   "metadata": {
    "collapsed": true,
    "scrolled": true
   },
   "outputs": [],
   "source": [
    "\n",
    "import pandas as pd\n",
    "data1 = pd.read_csv('hpq.csv', sep=',', na_values=\".\")\n",
    "data2 = pd.read_csv('spy.csv', sep=',', na_values=\".\")\n",
    "\n",
    "hpq_price = data1['Adj Close'] \n",
    "spy_price = data2['Adj Close']\n"
   ]
  },
  {
   "cell_type": "code",
   "execution_count": 121,
   "metadata": {
    "collapsed": false,
    "scrolled": true
   },
   "outputs": [
    {
     "name": "stdout",
     "output_type": "stream",
     "text": [
      "                            OLS Regression Results                            \n",
      "==============================================================================\n",
      "Dep. Variable:         log_return_hpq   R-squared:                       0.236\n",
      "Model:                            OLS   Adj. R-squared:                  0.233\n",
      "Method:                 Least Squares   F-statistic:                     76.44\n",
      "Date:                Thu, 06 Apr 2017   Prob (F-statistic):           3.56e-16\n",
      "Time:                        01:00:52   Log-Likelihood:                 621.04\n",
      "No. Observations:                 249   AIC:                            -1238.\n",
      "Df Residuals:                     247   BIC:                            -1231.\n",
      "Df Model:                           1                                         \n",
      "Covariance Type:            nonrobust                                         \n",
      "==================================================================================\n",
      "                     coef    std err          t      P>|t|      [95.0% Conf. Int.]\n",
      "----------------------------------------------------------------------------------\n",
      "Intercept          0.0031      0.001      2.465      0.014         0.001     0.006\n",
      "log_return_spy     1.3964      0.160      8.743      0.000         1.082     1.711\n",
      "==============================================================================\n",
      "Omnibus:                      173.158   Durbin-Watson:                   1.915\n",
      "Prob(Omnibus):                  0.000   Jarque-Bera (JB):             2816.924\n",
      "Skew:                           2.488   Prob(JB):                         0.00\n",
      "Kurtosis:                      18.708   Cond. No.                         126.\n",
      "==============================================================================\n",
      "\n",
      "Warnings:\n",
      "[1] Standard Errors assume that the covariance matrix of the errors is correctly specified.\n"
     ]
    },
    {
     "data": {
      "text/plain": [
       "1     -0.020428\n",
       "2      0.007660\n",
       "3      0.000669\n",
       "4     -0.016859\n",
       "5      0.015832\n",
       "6     -0.009617\n",
       "7      0.001398\n",
       "8     -0.003176\n",
       "9     -0.009955\n",
       "10     0.050472\n",
       "11    -0.025433\n",
       "12    -0.009662\n",
       "13    -0.021216\n",
       "14    -0.000702\n",
       "15    -0.027726\n",
       "16    -0.006840\n",
       "17     0.000865\n",
       "18    -0.021878\n",
       "19    -0.055127\n",
       "20    -0.000753\n",
       "21    -0.010574\n",
       "22    -0.009131\n",
       "23    -0.021437\n",
       "24     0.019994\n",
       "25    -0.029937\n",
       "26    -0.025266\n",
       "27    -0.019985\n",
       "28     0.124782\n",
       "29    -0.009580\n",
       "30     0.021478\n",
       "         ...   \n",
       "220   -0.011038\n",
       "221   -0.016308\n",
       "222    0.005474\n",
       "223    0.000690\n",
       "224    0.010566\n",
       "225   -0.016466\n",
       "226   -0.006198\n",
       "227    0.006646\n",
       "228   -0.003503\n",
       "229    0.008153\n",
       "230   -0.018460\n",
       "231   -0.007252\n",
       "232   -0.007916\n",
       "233    0.000162\n",
       "234    0.001399\n",
       "235    0.015533\n",
       "236    0.000862\n",
       "237   -0.026107\n",
       "238   -0.033405\n",
       "239   -0.001332\n",
       "240   -0.007989\n",
       "241    0.003402\n",
       "242    0.006833\n",
       "243   -0.011363\n",
       "244   -0.000509\n",
       "245   -0.000496\n",
       "246   -0.001269\n",
       "247   -0.002963\n",
       "248    0.004339\n",
       "249   -0.000200\n",
       "dtype: float64"
      ]
     },
     "execution_count": 121,
     "metadata": {},
     "output_type": "execute_result"
    }
   ],
   "source": [
    "\n",
    "#Converting to returns\n",
    "\n",
    "log_return_hpq=np.log(hpq_price/hpq_price.shift(1))\n",
    "log_return_spy=np.log(spy_price/spy_price.shift(1))\n",
    "\n",
    "data3 = pd.DataFrame({'log_return_hpq': log_return_hpq, 'log_return_spy': log_return_spy})\n",
    "\n",
    "\n",
    "import statsmodels.formula.api as sm\n",
    "\n",
    "model = sm.ols(formula=\"log_return_hpq ~ log_return_spy\", data=data3).fit()\n",
    "\n",
    "print(model.summary())\n",
    "model.params\n",
    "model.rsquared\n",
    "model.resid\n",
    "\n"
   ]
  },
  {
   "cell_type": "code",
   "execution_count": null,
   "metadata": {
    "collapsed": false
   },
   "outputs": [],
   "source": []
  },
  {
   "cell_type": "code",
   "execution_count": null,
   "metadata": {
    "collapsed": false,
    "scrolled": true
   },
   "outputs": [],
   "source": []
  },
  {
   "cell_type": "code",
   "execution_count": 122,
   "metadata": {
    "collapsed": false,
    "scrolled": true
   },
   "outputs": [
    {
     "data": {
      "text/plain": [
       "<matplotlib.collections.PathCollection at 0x1d4be128>"
      ]
     },
     "execution_count": 122,
     "metadata": {},
     "output_type": "execute_result"
    },
    {
     "data": {
      "image/png": "[encoded data removed]",
      "text/plain": [
       "<matplotlib.figure.Figure at 0x1d757e48>"
      ]
     },
     "metadata": {},
     "output_type": "display_data"
    }
   ],
   "source": [
    "import matplotlib.pyplot as plt\n",
    "import statsmodels.api as sm\n",
    "\n",
    "%matplotlib inline\n",
    "\n",
    "y_predict = model.predict(sm.add_constant(log_return_spy), transform=False)\n",
    "\n",
    "plt.scatter(y_predict,log_return_spy)\n",
    "plt.scatter(log_return_hpq,log_return_spy)\n"
   ]
  },
  {
   "cell_type": "code",
   "execution_count": null,
   "metadata": {
    "collapsed": false,
    "scrolled": true
   },
   "outputs": [],
   "source": []
  },
  {
   "cell_type": "code",
   "execution_count": null,
   "metadata": {
    "collapsed": false
   },
   "outputs": [],
   "source": [
    "\n"
   ]
  },
  {
   "cell_type": "code",
   "execution_count": null,
   "metadata": {
    "collapsed": false,
    "scrolled": true
   },
   "outputs": [],
   "source": [
    "\n"
   ]
  },
  {
   "cell_type": "code",
   "execution_count": null,
   "metadata": {
    "collapsed": true
   },
   "outputs": [],
   "source": []
  },
  {
   "cell_type": "code",
   "execution_count": null,
   "metadata": {
    "collapsed": false
   },
   "outputs": [],
   "source": []
  },
  {
   "cell_type": "code",
   "execution_count": null,
   "metadata": {
    "collapsed": false
   },
   "outputs": [],
   "source": []
  },
  {
   "cell_type": "code",
   "execution_count": null,
   "metadata": {
    "collapsed": false
   },
   "outputs": [],
   "source": []
  },
  {
   "cell_type": "code",
   "execution_count": null,
   "metadata": {
    "collapsed": false
   },
   "outputs": [],
   "source": []
  },
  {
   "cell_type": "code",
   "execution_count": null,
   "metadata": {
    "collapsed": true
   },
   "outputs": [],
   "source": []
  }
 ],
 "metadata": {
  "kernelspec": {
   "display_name": "Python [conda env:py2.7]",
   "language": "python",
   "name": "conda-env-py2.7-py"
  }
 },
 "nbformat": 4,
 "nbformat_minor": 2
}
