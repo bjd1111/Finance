{
 "cells": [
  {
   "cell_type": "code",
   "execution_count": null,
   "metadata": {
    "collapsed": true
   },
   "outputs": [],
   "source": []
  },
  {
   "cell_type": "code",
   "execution_count": 27,
   "metadata": {},
   "outputs": [],
   "source": [
    "#get data from web\n",
    "\n",
    "import urllib\n",
    "import datetime\n",
    "import numpy as np\n",
    "\n",
    "### get the url for the downloadable csv-file data\n",
    "def make_url(ticker_symbol, start_date, end_date):\n",
    "    base_url = \"http://ichart.finance.yahoo.com/table.csv?s=\"\n",
    "    # print ticker_symbol\n",
    "    a = start_date\n",
    "    b = end_date\n",
    "    dt_url = '%s&a=%d&b=%d&c=%d&d=%d&e=%d&f=%d&g=d&ignore=.csv'% (ticker_symbol, a.month-1, a.day, a.year, b.month-1, b.day,b.year)\n",
    "    return base_url + dt_url\n",
    "\n",
    "### create a path to save the file downloaded from web\n",
    "output_path = \"/Users/apple/Downloads/lecture4\" ## <======Please change to your own directory\n",
    "def make_filename(ticker_symbol):\n",
    "    return output_path + \"/\" + ticker_symbol + \".csv\"\n",
    "\n",
    "### pull the data out from web and store the file in the path that designed above\n",
    "def pull_historical_data(ticker_symbol, start_date, end_date):\n",
    "    try:\n",
    "        urllib.urlretrieve(make_url(ticker_symbol, start_date, end_date), make_filename(ticker_symbol))\n",
    "    except urllib.ContentTooShortError as e:\n",
    "        outfile = open(make_filename(ticker_symbol), \"w\")\n",
    "        outfile.write(e.content)\n",
    "        outfile.close()\n",
    "\n",
    "\n",
    "start = datetime.date(2012,1,1)\n",
    "end = datetime.date(2013,1,1)\n",
    "aapl = pull_historical_data('aapl',start,end) ###<=== get historical time-series data for  AAPL\n",
    "\n",
    "import os\n",
    "os.chdir( \"/Users/apple/Downloads/lecture4/\")\n",
    "                           \n",
    "### only read adj close price for AAPL\n",
    "\n",
    "aapl_csv = np.genfromtxt('aapl.csv', delimiter=\",\", skip_header=1)\n",
    "aapl = aapl_csv[:, 6] ###<=== extract closing price data for  AAPL\n",
    "\n",
    "\n",
    "\n"
   ]
  },
  {
   "cell_type": "code",
   "execution_count": null,
   "metadata": {
    "collapsed": true
   },
   "outputs": [],
   "source": []
  },
  {
   "cell_type": "code",
   "execution_count": null,
   "metadata": {
    "collapsed": true
   },
   "outputs": [],
   "source": [
    "\n",
    "#changing directory\n",
    "\n",
    "import os\n",
    "os.chdir( \"/Users/apple/Downloads/lecture4/\")\n",
    "  \n",
    "start = datetime.date(2012,1,1)\n",
    "end = datetime.date(2013,1,1)\n",
    "\n",
    "### only read adj close price for AAPL\n",
    "\n",
    "aapl = pull_historical_data('aapl',start,end) ###<=== get historical time-series data for  AAPL\n",
    "aapl_csv = np.genfromtxt('aapl.csv', delimiter=\",\", skip_header=1)\n",
    "\n",
    "spy = pull_historical_data('spy',start,end) ###<=== get historical time-series data for  SPY\n",
    "spy_csv = np.genfromtxt('spy.csv', delimiter=\",\", skip_header=1)\n",
    "\n"
   ]
  },
  {
   "cell_type": "code",
   "execution_count": 16,
   "metadata": {
    "scrolled": true
   },
   "outputs": [],
   "source": [
    "\n",
    "import pandas as pd\n",
    "data1 = pd.read_csv('aapl.csv', sep=',', na_values=\".\")\n",
    "data2 = pd.read_csv('spy.csv', sep=',', na_values=\".\")\n",
    "\n",
    "apl_price = data1['Adj Close'] \n",
    "spy_price = data2['Adj Close']\n"
   ]
  },
  {
   "cell_type": "code",
   "execution_count": 28,
   "metadata": {},
   "outputs": [
    {
     "name": "stdout",
     "output_type": "stream",
     "text": [
      "                            OLS Regression Results                            \n",
      "==============================================================================\n",
      "Dep. Variable:         log_return_apl   R-squared:                       1.000\n",
      "Model:                            OLS   Adj. R-squared:                  1.000\n",
      "Method:                 Least Squares   F-statistic:                 1.373e+34\n",
      "Date:                Wed, 05 Apr 2017   Prob (F-statistic):               0.00\n",
      "Time:                        15:06:10   Log-Likelihood:                 9741.4\n",
      "No. Observations:                 249   AIC:                        -1.948e+04\n",
      "Df Residuals:                     247   BIC:                        -1.947e+04\n",
      "Df Model:                           1                                         \n",
      "Covariance Type:            nonrobust                                         \n",
      "==================================================================================\n",
      "                     coef    std err          t      P>|t|      [0.025      0.975]\n",
      "----------------------------------------------------------------------------------\n",
      "Intercept       2.385e-18   1.58e-19     15.134      0.000    2.07e-18     2.7e-18\n",
      "log_return_spy     1.0000   8.53e-18   1.17e+17      0.000       1.000       1.000\n",
      "==============================================================================\n",
      "Omnibus:                       28.949   Durbin-Watson:                   0.303\n",
      "Prob(Omnibus):                  0.000   Jarque-Bera (JB):               35.511\n",
      "Skew:                           0.852   Prob(JB):                     1.94e-08\n",
      "Kurtosis:                       3.720   Cond. No.                         54.2\n",
      "==============================================================================\n",
      "\n",
      "Warnings:\n",
      "[1] Standard Errors assume that the covariance matrix of the errors is correctly specified.\n"
     ]
    },
    {
     "data": {
      "text/plain": [
       "1      0.000000e+00\n",
       "2     -1.734723e-18\n",
       "3     -2.602085e-18\n",
       "4     -1.734723e-18\n",
       "5     -2.385245e-18\n",
       "6     -2.602085e-18\n",
       "7     -1.734723e-18\n",
       "8     -1.734723e-18\n",
       "9     -3.469447e-18\n",
       "10    -3.469447e-18\n",
       "11     0.000000e+00\n",
       "12    -3.469447e-18\n",
       "13    -2.602085e-18\n",
       "14    -3.469447e-18\n",
       "15    -2.602085e-18\n",
       "16    -3.469447e-18\n",
       "17    -1.734723e-18\n",
       "18     0.000000e+00\n",
       "19    -3.469447e-18\n",
       "20    -2.385245e-18\n",
       "21    -2.602085e-18\n",
       "22    -1.734723e-18\n",
       "23    -2.602085e-18\n",
       "24    -1.734723e-18\n",
       "25    -3.469447e-18\n",
       "26    -3.469447e-18\n",
       "27    -2.385245e-18\n",
       "28    -1.734723e-18\n",
       "29     0.000000e+00\n",
       "30    -2.602085e-18\n",
       "           ...     \n",
       "220   -3.469447e-18\n",
       "221   -1.734723e-18\n",
       "222   -3.469447e-18\n",
       "223   -2.385245e-18\n",
       "224    0.000000e+00\n",
       "225   -3.469447e-18\n",
       "226   -1.734723e-18\n",
       "227   -1.734723e-18\n",
       "228   -1.734723e-18\n",
       "229   -2.602085e-18\n",
       "230   -2.385245e-18\n",
       "231   -2.602085e-18\n",
       "232   -1.734723e-18\n",
       "233   -2.602085e-18\n",
       "234   -2.602085e-18\n",
       "235    0.000000e+00\n",
       "236   -3.469447e-18\n",
       "237   -3.469447e-18\n",
       "238   -3.469447e-18\n",
       "239   -2.602085e-18\n",
       "240   -1.734723e-18\n",
       "241   -1.734723e-18\n",
       "242   -2.602085e-18\n",
       "243   -2.168404e-18\n",
       "244   -2.385245e-18\n",
       "245   -2.168404e-18\n",
       "246   -2.385245e-18\n",
       "247   -1.734723e-18\n",
       "248   -1.734723e-18\n",
       "249   -2.602085e-18\n",
       "dtype: float64"
      ]
     },
     "execution_count": 28,
     "metadata": {},
     "output_type": "execute_result"
    }
   ],
   "source": [
    "\n",
    "#Converting to returns\n",
    "\n",
    "log_return_apl=np.log(apl_price/apl_price.shift(1))\n",
    "log_return_spy=np.log(apl_price/apl_price.shift(1))\n",
    "\n",
    "data3 = pd.DataFrame({'log_return_apl': log_return_apl, 'log_return_spy': log_return_spy})\n",
    "\n",
    "\n",
    "from statsmodels.formula.api import ols\n",
    "\n",
    "model = ols(\"log_return_apl ~ log_return_spy\", data3).fit()\n",
    "\n",
    "print(model.summary())\n",
    "model.params\n",
    "model.rsquared\n",
    "model.resid\n",
    "\n"
   ]
  },
  {
   "cell_type": "code",
   "execution_count": null,
   "metadata": {
    "collapsed": true
   },
   "outputs": [],
   "source": []
  }
 ],
 "metadata": {
  "kernelspec": {
   "display_name": "Python 2",
   "language": "python",
   "name": "python2"
  },
  "language_info": {
   "codemirror_mode": {
    "name": "ipython",
    "version": 2
   },
   "file_extension": ".py",
   "mimetype": "text/x-python",
   "name": "python",
   "nbconvert_exporter": "python",
   "pygments_lexer": "ipython2",
   "version": "2.7.13"
  }
 },
 "nbformat": 4,
 "nbformat_minor": 2
}
