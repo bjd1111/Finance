{
 "cells": [
  {
   "cell_type": "code",
   "execution_count": null,
   "metadata": {
    "collapsed": true
   },
   "outputs": [],
   "source": []
  },
  {
   "cell_type": "code",
   "execution_count": 29,
   "metadata": {},
   "outputs": [
    {
     "ename": "OSError",
     "evalue": "[Errno 2] No such file or directory: 'C:/Users/bjd/Desktop/data'",
     "output_type": "error",
     "traceback": [
      "\u001b[0;31m---------------------------------------------------------------------------\u001b[0m",
      "\u001b[0;31mOSError\u001b[0m                                   Traceback (most recent call last)",
      "\u001b[0;32m<ipython-input-29-9e4991826a4a>\u001b[0m in \u001b[0;36m<module>\u001b[0;34m()\u001b[0m\n\u001b[1;32m     40\u001b[0m \u001b[0;34m\u001b[0m\u001b[0m\n\u001b[1;32m     41\u001b[0m \u001b[0;32mimport\u001b[0m \u001b[0mos\u001b[0m\u001b[0;34m\u001b[0m\u001b[0m\n\u001b[0;32m---> 42\u001b[0;31m \u001b[0mos\u001b[0m\u001b[0;34m.\u001b[0m\u001b[0mchdir\u001b[0m\u001b[0;34m(\u001b[0m \u001b[0;34m\"C:/Users/bjd/Desktop/data\"\u001b[0m\u001b[0;34m)\u001b[0m\u001b[0;34m\u001b[0m\u001b[0m\n\u001b[0m\u001b[1;32m     43\u001b[0m \u001b[0;34m\u001b[0m\u001b[0m\n\u001b[1;32m     44\u001b[0m \u001b[0;31m### only read adj close price for AAPL\u001b[0m\u001b[0;34m\u001b[0m\u001b[0;34m\u001b[0m\u001b[0m\n",
      "\u001b[0;31mOSError\u001b[0m: [Errno 2] No such file or directory: 'C:/Users/bjd/Desktop/data'"
     ]
    }
   ],
   "source": [
    "#get data from web\n",
    "\n",
    "import urllib\n",
    "import datetime\n",
    "import numpy as np\n",
    "\n",
    "### get the url for the downloadable csv-file data\n",
    "def make_url(ticker_symbol, start_date, end_date):\n",
    "    base_url = \"http://ichart.finance.yahoo.com/table.csv?s=\"\n",
    "    # print ticker_symbol\n",
    "    a = start_date\n",
    "    b = end_date\n",
    "    dt_url = '%s&a=%d&b=%d&c=%d&d=%d&e=%d&f=%d&g=d&ignore=.csv'% (ticker_symbol, a.month-1, a.day, a.year, b.month-1, b.day,b.year)\n",
    "    return base_url + dt_url\n",
    "\n",
    "### create a path to save the file downloaded from web\n",
    "#mac\n",
    "output_path = \"/Users/apple/Downloads/lecture4\" ## <======Please change to your own directory\n",
    "#win\n",
    "#output_path = \"C:/Users/bjd/Desktop/data\" ## <======Please change to your own directory\n",
    "\n",
    "\n",
    "def make_filename(ticker_symbol):\n",
    "    return output_path + \"/\" + ticker_symbol + \".csv\"\n",
    "    \n",
    "\n",
    "### pull the data out from web and store the file in the path that designed above\n",
    "def pull_historical_data(ticker_symbol, start_date, end_date):\n",
    "    try:\n",
    "        urllib.urlretrieve(make_url(ticker_symbol, start_date, end_date), make_filename(ticker_symbol))\n",
    "    except urllib.ContentTooShortError as e:\n",
    "        outfile = open(make_filename(ticker_symbol), \"w\")\n",
    "        outfile.write(e.content)\n",
    "        outfile.close()\n",
    "\n",
    "\n",
    "start = datetime.date(2012,1,1)\n",
    "end = datetime.date(2013,1,1)\n",
    "aapl = pull_historical_data('aapl',start,end) ###<=== get historical time-series data for  AAPL\n",
    "\n",
    "import os\n",
    "os.chdir( \"C:/Users/bjd/Desktop/data\")\n",
    "                           \n",
    "### only read adj close price for AAPL\n",
    "\n",
    "aapl_csv = np.genfromtxt('aapl.csv', delimiter=\",\", skip_header=1)\n",
    "aapl = aapl_csv[:, 6] ###<=== extract closing price data for  AAPL\n",
    "\n",
    "\n",
    "\n"
   ]
  },
  {
   "cell_type": "code",
   "execution_count": null,
   "metadata": {
    "collapsed": true
   },
   "outputs": [],
   "source": []
  },
  {
   "cell_type": "code",
   "execution_count": 30,
   "metadata": {
    "collapsed": true
   },
   "outputs": [],
   "source": [
    "\n",
    "#changing directory\n",
    "\n",
    "import os\n",
    "#mac\n",
    "os.chdir( \"/Users/apple/Downloads/lecture4/\")\n",
    "#win\n",
    "#os.chdir( \"C:/Users/bjd/Desktop/data\") \n",
    "\n",
    "start = datetime.date(2012,1,1)\n",
    "end = datetime.date(2013,1,1)\n",
    "\n",
    "### only read adj close price for AAPL\n",
    "\n",
    "hpq = pull_historical_data('hpq',start,end) ###<=== get historical time-series data for  HPQ\n",
    "hpq_csv = np.genfromtxt('hpq.csv', delimiter=\",\", skip_header=1)\n",
    "\n",
    "spy = pull_historical_data('spy',start,end) ###<=== get historical time-series data for  SPY\n",
    "spy_csv = np.genfromtxt('spy.csv', delimiter=\",\", skip_header=1)\n",
    "\n"
   ]
  },
  {
   "cell_type": "code",
   "execution_count": 31,
   "metadata": {
    "collapsed": true,
    "scrolled": true
   },
   "outputs": [],
   "source": [
    "\n",
    "import pandas as pd\n",
    "data1 = pd.read_csv('hpq.csv', sep=',', na_values=\".\")\n",
    "data2 = pd.read_csv('spy.csv', sep=',', na_values=\".\")\n",
    "\n",
    "hpq_price = data1['Adj Close'] \n",
    "spy_price = data2['Adj Close']\n"
   ]
  },
  {
   "cell_type": "code",
   "execution_count": 1,
   "metadata": {
    "scrolled": true
   },
   "outputs": [
    {
     "ename": "NameError",
     "evalue": "name 'np' is not defined",
     "output_type": "error",
     "traceback": [
      "\u001b[0;31m---------------------------------------------------------------------------\u001b[0m",
      "\u001b[0;31mNameError\u001b[0m                                 Traceback (most recent call last)",
      "\u001b[0;32m<ipython-input-1-0a76ffe50d15>\u001b[0m in \u001b[0;36m<module>\u001b[0;34m()\u001b[0m\n\u001b[1;32m      2\u001b[0m \u001b[1;31m#Converting to returns\u001b[0m\u001b[1;33m\u001b[0m\u001b[1;33m\u001b[0m\u001b[0m\n\u001b[1;32m      3\u001b[0m \u001b[1;31m# assume rf = 0, in practice, rate of return on bills is on the order of only about .01% per day,  so total and excess returns are almost indistinguishable.\u001b[0m\u001b[1;33m\u001b[0m\u001b[1;33m\u001b[0m\u001b[0m\n\u001b[0;32m----> 4\u001b[0;31m \u001b[0mlog_return_hpq\u001b[0m\u001b[1;33m=\u001b[0m\u001b[0mnp\u001b[0m\u001b[1;33m.\u001b[0m\u001b[0mlog\u001b[0m\u001b[1;33m(\u001b[0m\u001b[0mhpq_price\u001b[0m\u001b[1;33m/\u001b[0m\u001b[0mhpq_price\u001b[0m\u001b[1;33m.\u001b[0m\u001b[0mshift\u001b[0m\u001b[1;33m(\u001b[0m\u001b[1;36m1\u001b[0m\u001b[1;33m)\u001b[0m\u001b[1;33m)\u001b[0m\u001b[1;33m\u001b[0m\u001b[0m\n\u001b[0m\u001b[1;32m      5\u001b[0m \u001b[0mlog_return_spy\u001b[0m\u001b[1;33m=\u001b[0m\u001b[0mnp\u001b[0m\u001b[1;33m.\u001b[0m\u001b[0mlog\u001b[0m\u001b[1;33m(\u001b[0m\u001b[0mspy_price\u001b[0m\u001b[1;33m/\u001b[0m\u001b[0mspy_price\u001b[0m\u001b[1;33m.\u001b[0m\u001b[0mshift\u001b[0m\u001b[1;33m(\u001b[0m\u001b[1;36m1\u001b[0m\u001b[1;33m)\u001b[0m\u001b[1;33m)\u001b[0m\u001b[1;33m\u001b[0m\u001b[0m\n\u001b[1;32m      6\u001b[0m \u001b[1;33m\u001b[0m\u001b[0m\n",
      "\u001b[0;31mNameError\u001b[0m: name 'np' is not defined"
     ]
    }
   ],
   "source": [
    "\n",
    "#Converting to returns\n",
    "# assume rf = 0, in practice, rate of return on bills is on the order of only about .01% per day,  so total and excess returns are almost indistinguishable. \n",
    "log_return_hpq=np.log(hpq_price/hpq_price.shift(1))\n",
    "log_return_spy=np.log(spy_price/spy_price.shift(1))\n",
    "\n",
    "data3 = pd.DataFrame({'log_return_hpq': log_return_hpq, 'log_return_spy': log_return_spy})\n",
    "\n",
    "\n",
    "import statsmodels.formula.api as sm\n",
    "\n",
    "model = sm.ols(formula=\"log_return_hpq ~ log_return_spy\", data=data3).fit()\n",
    "\n",
    "print(model.summary())\n",
    "model.params\n",
    "model.rsquared\n",
    "model.resid\n",
    "\n"
   ]
  },
  {
   "cell_type": "code",
   "execution_count": null,
   "metadata": {
    "collapsed": true
   },
   "outputs": [],
   "source": []
  },
  {
   "cell_type": "code",
   "execution_count": null,
   "metadata": {
    "collapsed": true,
    "scrolled": true
   },
   "outputs": [],
   "source": []
  },
  {
   "cell_type": "code",
   "execution_count": 37,
   "metadata": {
    "scrolled": true
   },
   "outputs": [
    {
     "data": {
      "text/plain": [
       "<matplotlib.collections.PathCollection at 0x1158962d0>"
      ]
     },
     "execution_count": 37,
     "metadata": {},
     "output_type": "execute_result"
    },
    {
     "data": {
      "image/png": "[encoded data removed]",
      "text/plain": [
       "<matplotlib.figure.Figure at 0x1102aa4d0>"
      ]
     },
     "metadata": {},
     "output_type": "display_data"
    }
   ],
   "source": [
    "import matplotlib.pyplot as plt\n",
    "import statsmodels.api as sm\n",
    "\n",
    "%matplotlib inline\n",
    "\n",
    "y_predict = model.predict(sm.add_constant(log_return_spy), transform=False)\n",
    "\n",
    "\n",
    "plt.scatter(log_return_hpq,log_return_spy)\n",
    "plt.scatter(y_predict,log_return_spy)\n",
    "\n"
   ]
  },
  {
   "cell_type": "code",
   "execution_count": null,
   "metadata": {
    "collapsed": true,
    "scrolled": true
   },
   "outputs": [],
   "source": []
  },
  {
   "cell_type": "code",
   "execution_count": null,
   "metadata": {
    "collapsed": true
   },
   "outputs": [],
   "source": [
    "\n"
   ]
  },
  {
   "cell_type": "code",
   "execution_count": null,
   "metadata": {
    "collapsed": true,
    "scrolled": true
   },
   "outputs": [],
   "source": [
    "\n"
   ]
  },
  {
   "cell_type": "code",
   "execution_count": null,
   "metadata": {
    "collapsed": true
   },
   "outputs": [],
   "source": []
  },
  {
   "cell_type": "code",
   "execution_count": null,
   "metadata": {
    "collapsed": true
   },
   "outputs": [],
   "source": []
  },
  {
   "cell_type": "code",
   "execution_count": null,
   "metadata": {
    "collapsed": true
   },
   "outputs": [],
   "source": []
  },
  {
   "cell_type": "code",
   "execution_count": null,
   "metadata": {
    "collapsed": true
   },
   "outputs": [],
   "source": []
  },
  {
   "cell_type": "code",
   "execution_count": null,
   "metadata": {
    "collapsed": true
   },
   "outputs": [],
   "source": []
  },
  {
   "cell_type": "code",
   "execution_count": null,
   "metadata": {
    "collapsed": true
   },
   "outputs": [],
   "source": []
  }
 ],
 "metadata": {
  "kernelspec": {
   "display_name": "Python 2",
   "language": "python",
   "name": "python2"
  },
  "language_info": {
   "codemirror_mode": {
    "name": "ipython",
    "version": 2
   },
   "file_extension": ".py",
   "mimetype": "text/x-python",
   "name": "python",
   "nbconvert_exporter": "python",
   "pygments_lexer": "ipython2",
   "version": "2.7.13"
  }
 },
 "nbformat": 4,
 "nbformat_minor": 2
}
