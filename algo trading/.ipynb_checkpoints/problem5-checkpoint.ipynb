{
 "cells": [
  {
   "cell_type": "code",
   "execution_count": 182,
   "metadata": {
    "collapsed": true
   },
   "outputs": [],
   "source": [
    "coeffs = [698.74940594355189, 0.3429159597976898, 0.55893058943625173, 0.74906715225239062, 0.97462393173698603]     #from problem 2\n",
    "def MI_model(s,v,time,size):\n",
    "    \"market impact function\"\n",
    "    ADV = Shares/ Size\n",
    "    POV = Shares/(Shares+time*ADV)   \n",
    "    \n",
    "\n",
    "\n",
    "    return coeffs[0]*(s**coeffs[1])*(v **coeffs[2]) * (coeffs[4]*(POV **coeffs[3])+ (1-coeffs[4]))\n",
    "\n",
    "def TR(time,sigma):\n",
    "    return sigma*np.sqrt(1/250.*1/3.*time)*10**4\n",
    "\n",
    "def PA(alpha,time):\n",
    "    \n",
    "    return 0.5*alpha*(time)\n",
    "    "
   ]
  },
  {
   "cell_type": "code",
   "execution_count": 183,
   "metadata": {
    "collapsed": false
   },
   "outputs": [],
   "source": [
    "import pandas as pd\n",
    "import numpy as np\n",
    "\n",
    "#Stock = 'RLK'\n",
    "Shares = 100000\n",
    "#Side = Buy\n",
    "Price = 50\n",
    "ADV = 1000000\n",
    "Volatility = 0.25\n",
    "Size = 0.10\n",
    "time = 1"
   ]
  },
  {
   "cell_type": "code",
   "execution_count": null,
   "metadata": {
    "collapsed": false
   },
   "outputs": [],
   "source": []
  },
  {
   "cell_type": "code",
   "execution_count": 184,
   "metadata": {
    "collapsed": false
   },
   "outputs": [
    {
     "data": {
      "text/plain": [
       "3122.169038825854"
      ]
     },
     "execution_count": 184,
     "metadata": {},
     "output_type": "execute_result"
    }
   ],
   "source": [
    "mi = MI_model(Shares,Volatility,time,Size)\n",
    "mi\n"
   ]
  },
  {
   "cell_type": "markdown",
   "metadata": {},
   "source": [
    "# Calculate the Optimal POV rate that solves the Trader’s Dilemma for a Lambda value of 1.\n",
    "# Minimize MI + Lambda * TR (where Lambda=1)."
   ]
  },
  {
   "cell_type": "code",
   "execution_count": 185,
   "metadata": {
    "collapsed": false
   },
   "outputs": [
    {
     "data": {
      "text/plain": [
       "3213.4561317433818"
      ]
     },
     "execution_count": 185,
     "metadata": {},
     "output_type": "execute_result"
    }
   ],
   "source": [
    "\n",
    "Lambda = 1\n",
    "time = 1\n",
    "\n",
    "\n",
    "def fuc(time):\n",
    "    return MI_model(Shares,Volatility,time,Size) + Lambda * TR(time,Volatility)\n",
    "\n",
    "fuc(time)"
   ]
  },
  {
   "cell_type": "code",
   "execution_count": 254,
   "metadata": {
    "collapsed": false
   },
   "outputs": [
    {
     "name": "stdout",
     "output_type": "stream",
     "text": [
      "Optimization terminated successfully.\n",
      "         Current function value: 1136.815386\n",
      "         Iterations: 25\n",
      "         Function evaluations: 50\n"
     ]
    }
   ],
   "source": [
    "\n",
    "from scipy.optimize import minimize\n",
    "res = minimize(fuc, 1, method='nelder-mead',\n",
    "                options={'disp': True})\n"
   ]
  },
  {
   "cell_type": "code",
   "execution_count": 255,
   "metadata": {
    "collapsed": false
   },
   "outputs": [
    {
     "name": "stdout",
     "output_type": "stream",
     "text": [
      "[ 21.88125]\n"
     ]
    }
   ],
   "source": [
    "print(res.x)"
   ]
  },
  {
   "cell_type": "code",
   "execution_count": 256,
   "metadata": {
    "collapsed": false
   },
   "outputs": [
    {
     "data": {
      "text/plain": [
       "array([ 0.00454933])"
      ]
     },
     "execution_count": 256,
     "metadata": {},
     "output_type": "execute_result"
    }
   ],
   "source": [
    "time  =  res.x\n",
    "POV = Shares/(Shares+time*ADV)  \n",
    "POV"
   ]
  },
  {
   "cell_type": "markdown",
   "metadata": {},
   "source": [
    "# Calculate the Optimal POV rate that maximizes the probability of out-performing a cost of 80bp. \n",
    "#  Price Improvement strategy"
   ]
  },
  {
   "cell_type": "code",
   "execution_count": 189,
   "metadata": {
    "collapsed": false
   },
   "outputs": [
    {
     "data": {
      "text/plain": [
       "33.330769351749645"
      ]
     },
     "execution_count": 189,
     "metadata": {},
     "output_type": "execute_result"
    }
   ],
   "source": [
    "cost = 80                                #80bp\n",
    "alpha = 1                                #trade rate at Time t alpha = shares traded(complete)/volume over trading Horizon\n",
    "def pi(time,sign = -1):\n",
    "    #sign = -1 the function is to maximize\n",
    "    return sign*(cost - (MI_model(Shares,Volatility,time,Size)+PA(alpha,time)))/TR(time,Volatility)\n",
    "\n",
    "pi(1,sign = -1)"
   ]
  },
  {
   "cell_type": "code",
   "execution_count": 190,
   "metadata": {
    "collapsed": false
   },
   "outputs": [
    {
     "name": "stdout",
     "output_type": "stream",
     "text": [
      "Optimization terminated successfully.\n",
      "         Current function value: 0.295436\n",
      "         Iterations: 36\n",
      "         Function evaluations: 72\n"
     ]
    }
   ],
   "source": [
    "res1 = minimize(pi, 1, method='nelder-mead',\n",
    "                options={'disp': True})"
   ]
  },
  {
   "cell_type": "code",
   "execution_count": 191,
   "metadata": {
    "collapsed": false
   },
   "outputs": [
    {
     "name": "stdout",
     "output_type": "stream",
     "text": [
      "[ 785.15087891]\n"
     ]
    }
   ],
   "source": [
    "print(res1.x)"
   ]
  },
  {
   "cell_type": "code",
   "execution_count": 192,
   "metadata": {
    "collapsed": false
   },
   "outputs": [
    {
     "data": {
      "text/plain": [
       "array([ 0.00012735])"
      ]
     },
     "execution_count": 192,
     "metadata": {},
     "output_type": "execute_result"
    }
   ],
   "source": [
    "time1  =  res1.x\n",
    "POV_pi = Shares/(Shares+time1*ADV)  \n",
    "POV_pi"
   ]
  },
  {
   "cell_type": "markdown",
   "metadata": {},
   "source": [
    "# Construct the Efficient Trading Frontier – e.g., the set of all optimal trading strategies. \n",
    "# This is similar to the efficient frontier. The y-axis is the Market Impact Cost and the x-axis is the Timing Risk. "
   ]
  },
  {
   "cell_type": "code",
   "execution_count": 193,
   "metadata": {
    "collapsed": false
   },
   "outputs": [
    {
     "data": {
      "text/plain": [
       "<matplotlib.text.Text at 0xee34e80>"
      ]
     },
     "execution_count": 193,
     "metadata": {},
     "output_type": "execute_result"
    },
    {
     "data": {
      "image/png": "[encoded data removed]",
      "text/plain": [
       "<matplotlib.figure.Figure at 0xedbb160>"
      ]
     },
     "metadata": {},
     "output_type": "display_data"
    }
   ],
   "source": [
    "import matplotlib.pyplot as plt\n",
    "%matplotlib inline\n",
    "\n",
    "\n",
    "Shares = 100000\n",
    "\n",
    "Price = 50\n",
    "ADV = 1000000\n",
    "Volatility = 0.25\n",
    "Size = 0.10\n",
    "time = 1\n",
    "\n",
    "y = [MI_model(Shares,Volatility,time,Size) for time in np.linspace(0,10,100,)]\n",
    "x = [TR(time,Volatility) for time in np.linspace(0,10,100)]\n",
    "#print y\n",
    "plt.plot(x,y)\n",
    "plt.xlabel('TR(bp)')\n",
    "plt.ylabel('MI(bp)')\n",
    "plt.title('Efficient Trading Frontier')"
   ]
  },
  {
   "cell_type": "markdown",
   "metadata": {},
   "source": [
    "# Select your initial trading strategy based on the optimization of the Trader’s Dilemma using a lambda value of 1. \n",
    "# Refer to this initial Optimal POV rate as POV* and the initial optimal Market Impact Cost as MI*.\n"
   ]
  },
  {
   "cell_type": "markdown",
   "metadata": {},
   "source": [
    "one-half way through the order (e.g., __50% complete__) for the following scenarios"
   ]
  },
  {
   "cell_type": "code",
   "execution_count": 257,
   "metadata": {
    "collapsed": false
   },
   "outputs": [
    {
     "data": {
      "text/plain": [
       "(array([ 0.00454933]), array([ 21.88125]))"
      ]
     },
     "execution_count": 257,
     "metadata": {},
     "output_type": "execute_result"
    }
   ],
   "source": [
    "POV_star  = POV\n",
    "time_star = res.x\n",
    "POV_star,time_star\n"
   ]
  },
  {
   "cell_type": "markdown",
   "metadata": {},
   "source": [
    "# Optimal AIM Strategy"
   ]
  },
  {
   "cell_type": "code",
   "execution_count": 258,
   "metadata": {
    "collapsed": false
   },
   "outputs": [
    {
     "data": {
      "text/plain": [
       "array([ 360.4693697])"
      ]
     },
     "execution_count": 258,
     "metadata": {},
     "output_type": "execute_result"
    }
   ],
   "source": [
    "#Stock = 'RLK'\n",
    "Shares = 100000\n",
    "Price = 50\n",
    "ADV = 1000000\n",
    "Volatility = 0.25\n",
    "Size = 0.10\n",
    "alpha = 1                                #trade rate at Time t alpha = shares traded(complete)/volume over trading Horizon\n",
    "\n",
    "theta = 0.5   #50% complete\n",
    "side = 1      #buy\n",
    "delta_P = 0.1\n",
    "relized_cost  = 0.05\n",
    "\n",
    "def p_cost(time):\n",
    "    M_cost  = (1-theta)*delta_P*side\n",
    "    mi_remain   =  (1-theta)*MI_model(Shares,Volatility,time,Size)\n",
    "    alpha_trend = (1-theta)*PA(alpha,time)\n",
    "    projected_cost = relized_cost+M_cost+mi_remain+alpha_trend\n",
    "    return projected_cost\n",
    "p_cost(time_star)"
   ]
  },
  {
   "cell_type": "code",
   "execution_count": 259,
   "metadata": {
    "collapsed": false
   },
   "outputs": [
    {
     "data": {
      "text/plain": [
       "array([ 41.34576951])"
      ]
     },
     "execution_count": 259,
     "metadata": {},
     "output_type": "execute_result"
    }
   ],
   "source": [
    "def TR_t(time):\n",
    "    return Volatility*np.sqrt((1-theta)*time)*Price\n",
    "TR_t(time_star)"
   ]
  },
  {
   "cell_type": "code",
   "execution_count": 260,
   "metadata": {
    "collapsed": false
   },
   "outputs": [
    {
     "data": {
      "text/plain": [
       "array([ 709.79811441])"
      ]
     },
     "execution_count": 260,
     "metadata": {},
     "output_type": "execute_result"
    }
   ],
   "source": [
    "ini_cost = MI_model(Shares,Volatility,time_star,Size)\n",
    "ini_cost"
   ]
  },
  {
   "cell_type": "code",
   "execution_count": 297,
   "metadata": {
    "collapsed": false
   },
   "outputs": [
    {
     "data": {
      "text/plain": [
       "array([ 8.44895981])"
      ]
     },
     "execution_count": 297,
     "metadata": {},
     "output_type": "execute_result"
    }
   ],
   "source": [
    "def AIM(t):\n",
    "    M_cost  = (1-theta)*delta_P*side\n",
    "    mi_remain   =  (1-theta)*MI_model(Shares,Volatility,t,Size)\n",
    "    alpha_trend = (1-theta)*PA(alpha,t)\n",
    "    projected_cost = relized_cost+M_cost+mi_remain+alpha_trend\n",
    "    \n",
    "    ini_cost = MI_model(Shares,Volatility,time_star,Size)\n",
    "    \n",
    "    TR_t = Volatility*np.sqrt((1-theta)*t)*Price\n",
    "    \n",
    "    return (ini_cost-projected_cost)/TR_t\n",
    "\n",
    "AIM(time_star)"
   ]
  },
  {
   "cell_type": "code",
   "execution_count": 296,
   "metadata": {
    "collapsed": false
   },
   "outputs": [
    {
     "ename": "IndexError",
     "evalue": "SLSQP Error: the length of bounds is not compatible with that of x0.",
     "output_type": "error",
     "traceback": [
      "\u001b[0;31m---------------------------------------------------------------------------\u001b[0m",
      "\u001b[0;31mIndexError\u001b[0m                                Traceback (most recent call last)",
      "\u001b[0;32m<ipython-input-296-53abb73c69e2>\u001b[0m in \u001b[0;36m<module>\u001b[0;34m()\u001b[0m\n\u001b[1;32m      1\u001b[0m res = minimize(AIM, 1,  bounds=(0,5),\n\u001b[0;32m----> 2\u001b[0;31m                 method='SLSQP', options={'disp': True})\n\u001b[0m",
      "\u001b[0;32mC:\\Users\\bjd\\Anaconda3\\envs\\py2.7\\lib\\site-packages\\scipy\\optimize\\_minimize.pyc\u001b[0m in \u001b[0;36mminimize\u001b[0;34m(fun, x0, args, method, jac, hess, hessp, bounds, constraints, tol, callback, options)\u001b[0m\n\u001b[1;32m    456\u001b[0m     \u001b[1;32melif\u001b[0m \u001b[0mmeth\u001b[0m \u001b[1;33m==\u001b[0m \u001b[1;34m'slsqp'\u001b[0m\u001b[1;33m:\u001b[0m\u001b[1;33m\u001b[0m\u001b[0m\n\u001b[1;32m    457\u001b[0m         return _minimize_slsqp(fun, x0, args, jac, bounds,\n\u001b[0;32m--> 458\u001b[0;31m                                constraints, callback=callback, **options)\n\u001b[0m\u001b[1;32m    459\u001b[0m     \u001b[1;32melif\u001b[0m \u001b[0mmeth\u001b[0m \u001b[1;33m==\u001b[0m \u001b[1;34m'dogleg'\u001b[0m\u001b[1;33m:\u001b[0m\u001b[1;33m\u001b[0m\u001b[0m\n\u001b[1;32m    460\u001b[0m         return _minimize_dogleg(fun, x0, args, jac, hess,\n",
      "\u001b[0;32mC:\\Users\\bjd\\Anaconda3\\envs\\py2.7\\lib\\site-packages\\scipy\\optimize\\slsqp.pyc\u001b[0m in \u001b[0;36m_minimize_slsqp\u001b[0;34m(func, x0, args, jac, bounds, constraints, maxiter, ftol, iprint, disp, eps, callback, **unknown_options)\u001b[0m\n\u001b[1;32m    336\u001b[0m         \u001b[0mbnds\u001b[0m \u001b[1;33m=\u001b[0m \u001b[0marray\u001b[0m\u001b[1;33m(\u001b[0m\u001b[0mbounds\u001b[0m\u001b[1;33m,\u001b[0m \u001b[0mfloat\u001b[0m\u001b[1;33m)\u001b[0m\u001b[1;33m\u001b[0m\u001b[0m\n\u001b[1;32m    337\u001b[0m         \u001b[1;32mif\u001b[0m \u001b[0mbnds\u001b[0m\u001b[1;33m.\u001b[0m\u001b[0mshape\u001b[0m\u001b[1;33m[\u001b[0m\u001b[1;36m0\u001b[0m\u001b[1;33m]\u001b[0m \u001b[1;33m!=\u001b[0m \u001b[0mn\u001b[0m\u001b[1;33m:\u001b[0m\u001b[1;33m\u001b[0m\u001b[0m\n\u001b[0;32m--> 338\u001b[0;31m             raise IndexError('SLSQP Error: the length of bounds is not '\n\u001b[0m\u001b[1;32m    339\u001b[0m                              'compatible with that of x0.')\n\u001b[1;32m    340\u001b[0m \u001b[1;33m\u001b[0m\u001b[0m\n",
      "\u001b[0;31mIndexError\u001b[0m: SLSQP Error: the length of bounds is not compatible with that of x0."
     ]
    }
   ],
   "source": [
    "res = minimize(AIM, 1,  bounds=(0,5),\n",
    "                method='SLSQP', options={'disp': True})"
   ]
  },
  {
   "cell_type": "code",
   "execution_count": 289,
   "metadata": {
    "collapsed": false
   },
   "outputs": [
    {
     "name": "stdout",
     "output_type": "stream",
     "text": [
      "Warning: Maximum number of function evaluations has been exceeded.\n"
     ]
    },
    {
     "name": "stderr",
     "output_type": "stream",
     "text": [
      "C:\\Users\\bjd\\Anaconda3\\envs\\py2.7\\lib\\site-packages\\ipykernel\\__main__.py:9: RuntimeWarning: invalid value encountered in power\n",
      "C:\\Users\\bjd\\Anaconda3\\envs\\py2.7\\lib\\site-packages\\ipykernel\\__main__.py:9: RuntimeWarning: invalid value encountered in sqrt\n"
     ]
    }
   ],
   "source": [
    "res1 = minimize(AIM, 1, method='nelder-mead',\n",
    "                options={'disp': True})"
   ]
  },
  {
   "cell_type": "code",
   "execution_count": 301,
   "metadata": {
    "collapsed": false
   },
   "outputs": [
    {
     "name": "stderr",
     "output_type": "stream",
     "text": [
      "C:\\Users\\bjd\\Anaconda3\\envs\\py2.7\\lib\\site-packages\\ipykernel\\__main__.py:11: RuntimeWarning: divide by zero encountered in divide\n"
     ]
    },
    {
     "data": {
      "text/plain": [
       "[<matplotlib.lines.Line2D at 0x109c1f28>]"
      ]
     },
     "execution_count": 301,
     "metadata": {},
     "output_type": "execute_result"
    },
    {
     "data": {
      "image/png": "[encoded data removed]",
      "text/plain": [
       "<matplotlib.figure.Figure at 0x108e4ef0>"
      ]
     },
     "metadata": {},
     "output_type": "display_data"
    }
   ],
   "source": [
    "plt.plot([AIM(t) for t in xrange(1000)])"
   ]
  },
  {
   "cell_type": "code",
   "execution_count": 302,
   "metadata": {
    "collapsed": false
   },
   "outputs": [
    {
     "name": "stderr",
     "output_type": "stream",
     "text": [
      "C:\\Users\\bjd\\Anaconda3\\envs\\py2.7\\lib\\site-packages\\ipykernel\\__main__.py:11: RuntimeWarning: divide by zero encountered in divide\n"
     ]
    },
    {
     "data": {
      "text/plain": [
       "[array([-inf]),\n",
       " array([-96.35166033]),\n",
       " array([-26.70817952]),\n",
       " array([-8.0833533]),\n",
       " array([-0.37718287]),\n",
       " array([ 3.49325162]),\n",
       " array([ 5.65667949]),\n",
       " array([ 6.94536913]),\n",
       " array([ 7.74172833]),\n",
       " array([ 8.24193102]),\n",
       " array([ 8.5550173]),\n",
       " array([ 8.74540615]),\n",
       " array([ 8.85301995]),\n",
       " array([ 8.90356832]),\n",
       " array([ 8.91413548]),\n",
       " array([ 8.89637231]),\n",
       " array([ 8.85839813]),\n",
       " array([ 8.80597471]),\n",
       " array([ 8.74325351]),\n",
       " array([ 8.67326401]),\n",
       " array([ 8.59824031]),\n",
       " array([ 8.51984401]),\n",
       " array([ 8.43931918]),\n",
       " array([ 8.35760174]),\n",
       " array([ 8.27539784]),\n",
       " array([ 8.19324082]),\n",
       " array([ 8.11153292]),\n",
       " array([ 8.03057631]),\n",
       " array([ 7.95059635]),\n",
       " array([ 7.87175907]),\n",
       " array([ 7.79418458]),\n",
       " array([ 7.71795731]),\n",
       " array([ 7.64313392]),\n",
       " array([ 7.5697494]),\n",
       " array([ 7.49782193]),\n",
       " array([ 7.42735655]),\n",
       " array([ 7.35834817]),\n",
       " array([ 7.29078387]),\n",
       " array([ 7.22464473]),\n",
       " array([ 7.15990734]),\n",
       " array([ 7.09654489]),\n",
       " array([ 7.03452816]),\n",
       " array([ 6.9738262]),\n",
       " array([ 6.91440695]),\n",
       " array([ 6.85623768]),\n",
       " array([ 6.79928536]),\n",
       " array([ 6.74351696]),\n",
       " array([ 6.68889965]),\n",
       " array([ 6.63540101]),\n",
       " array([ 6.58298913]),\n",
       " array([ 6.53163275]),\n",
       " array([ 6.48130129]),\n",
       " array([ 6.43196496]),\n",
       " array([ 6.38359475]),\n",
       " array([ 6.33616248]),\n",
       " array([ 6.2896408]),\n",
       " array([ 6.2440032]),\n",
       " array([ 6.19922403]),\n",
       " array([ 6.15527843]),\n",
       " array([ 6.11214241]),\n",
       " array([ 6.06979272]),\n",
       " array([ 6.02820696]),\n",
       " array([ 5.98736345]),\n",
       " array([ 5.94724126]),\n",
       " array([ 5.90782019]),\n",
       " array([ 5.86908075]),\n",
       " array([ 5.83100409]),\n",
       " array([ 5.79357205]),\n",
       " array([ 5.75676708]),\n",
       " array([ 5.72057225]),\n",
       " array([ 5.68497119]),\n",
       " array([ 5.64994812]),\n",
       " array([ 5.61548779]),\n",
       " array([ 5.58157548]),\n",
       " array([ 5.54819696]),\n",
       " array([ 5.5153385]),\n",
       " array([ 5.48298681]),\n",
       " array([ 5.45112908]),\n",
       " array([ 5.41975289]),\n",
       " array([ 5.38884626]),\n",
       " array([ 5.3583976]),\n",
       " array([ 5.32839569]),\n",
       " array([ 5.2988297]),\n",
       " array([ 5.26968912]),\n",
       " array([ 5.24096381]),\n",
       " array([ 5.21264393]),\n",
       " array([ 5.18471996]),\n",
       " array([ 5.1571827]),\n",
       " array([ 5.13002321]),\n",
       " array([ 5.10323284]),\n",
       " array([ 5.07680322]),\n",
       " array([ 5.05072622]),\n",
       " array([ 5.02499396]),\n",
       " array([ 4.99959882]),\n",
       " array([ 4.97453338]),\n",
       " array([ 4.94979045]),\n",
       " array([ 4.92536308]),\n",
       " array([ 4.90124449]),\n",
       " array([ 4.87742811]),\n",
       " array([ 4.85390756]),\n",
       " array([ 4.83067666]),\n",
       " array([ 4.80772939]),\n",
       " array([ 4.78505989]),\n",
       " array([ 4.7626625]),\n",
       " array([ 4.74053169]),\n",
       " array([ 4.7186621]),\n",
       " array([ 4.6970485]),\n",
       " array([ 4.67568582]),\n",
       " array([ 4.65456913]),\n",
       " array([ 4.63369361]),\n",
       " array([ 4.61305461]),\n",
       " array([ 4.59264756]),\n",
       " array([ 4.57246805]),\n",
       " array([ 4.55251174]),\n",
       " array([ 4.53277446]),\n",
       " array([ 4.5132521]),\n",
       " array([ 4.49394069]),\n",
       " array([ 4.47483634]),\n",
       " array([ 4.45593526]),\n",
       " array([ 4.43723377]),\n",
       " array([ 4.41872827]),\n",
       " array([ 4.40041525]),\n",
       " array([ 4.3822913]),\n",
       " array([ 4.36435309]),\n",
       " array([ 4.34659734]),\n",
       " array([ 4.3290209]),\n",
       " array([ 4.31162067]),\n",
       " array([ 4.29439361]),\n",
       " array([ 4.27733679]),\n",
       " array([ 4.26044731]),\n",
       " array([ 4.24372236]),\n",
       " array([ 4.22715919]),\n",
       " array([ 4.21075512]),\n",
       " array([ 4.19450753]),\n",
       " array([ 4.17841385]),\n",
       " array([ 4.16247158]),\n",
       " array([ 4.14667826]),\n",
       " array([ 4.13103152]),\n",
       " array([ 4.115529]),\n",
       " array([ 4.10016842]),\n",
       " array([ 4.08494755]),\n",
       " array([ 4.06986419]),\n",
       " array([ 4.05491621]),\n",
       " array([ 4.04010151]),\n",
       " array([ 4.02541804]),\n",
       " array([ 4.0108638]),\n",
       " array([ 3.99643683]),\n",
       " array([ 3.9821352]),\n",
       " array([ 3.96795704]),\n",
       " array([ 3.95390051]),\n",
       " array([ 3.93996379]),\n",
       " array([ 3.92614514]),\n",
       " array([ 3.91244281]),\n",
       " array([ 3.89885512]),\n",
       " array([ 3.8853804]),\n",
       " array([ 3.87201703]),\n",
       " array([ 3.85876342]),\n",
       " array([ 3.84561801]),\n",
       " array([ 3.83257926]),\n",
       " array([ 3.81964568]),\n",
       " array([ 3.80681579]),\n",
       " array([ 3.79408816]),\n",
       " array([ 3.78146136]),\n",
       " array([ 3.76893402]),\n",
       " array([ 3.75650477]),\n",
       " array([ 3.74417229]),\n",
       " array([ 3.73193525]),\n",
       " array([ 3.71979238]),\n",
       " array([ 3.70774242]),\n",
       " array([ 3.69578414]),\n",
       " array([ 3.68391631]),\n",
       " array([ 3.67213775]),\n",
       " array([ 3.6604473]),\n",
       " array([ 3.64884379]),\n",
       " array([ 3.63732612]),\n",
       " array([ 3.62589316]),\n",
       " array([ 3.61454384]),\n",
       " array([ 3.6032771]),\n",
       " array([ 3.59209187]),\n",
       " array([ 3.58098714]),\n",
       " array([ 3.56996189]),\n",
       " array([ 3.55901513]),\n",
       " array([ 3.54814588]),\n",
       " array([ 3.53735319]),\n",
       " array([ 3.52663612]),\n",
       " array([ 3.51599374]),\n",
       " array([ 3.50542514]),\n",
       " array([ 3.49492942]),\n",
       " array([ 3.48450571]),\n",
       " array([ 3.47415314]),\n",
       " array([ 3.46387087]),\n",
       " array([ 3.45365805]),\n",
       " array([ 3.44351387]),\n",
       " array([ 3.43343752]),\n",
       " array([ 3.42342821]),\n",
       " array([ 3.41348515]),\n",
       " array([ 3.40360757]),\n",
       " array([ 3.39379472]),\n",
       " array([ 3.38404586]),\n",
       " array([ 3.37436025]),\n",
       " array([ 3.36473718]),\n",
       " array([ 3.35517593]),\n",
       " array([ 3.3456758]),\n",
       " array([ 3.33623612]),\n",
       " array([ 3.32685621]),\n",
       " array([ 3.31753539]),\n",
       " array([ 3.30827303]),\n",
       " array([ 3.29906846]),\n",
       " array([ 3.28992107]),\n",
       " array([ 3.28083022]),\n",
       " array([ 3.2717953]),\n",
       " array([ 3.2628157]),\n",
       " array([ 3.25389083]),\n",
       " array([ 3.2450201]),\n",
       " array([ 3.23620293]),\n",
       " array([ 3.22743876]),\n",
       " array([ 3.21872701]),\n",
       " array([ 3.21006715]),\n",
       " array([ 3.20145862]),\n",
       " array([ 3.19290088]),\n",
       " array([ 3.18439342]),\n",
       " array([ 3.1759357]),\n",
       " array([ 3.16752721]),\n",
       " array([ 3.15916746]),\n",
       " array([ 3.15085593]),\n",
       " array([ 3.14259214]),\n",
       " array([ 3.13437561]),\n",
       " array([ 3.12620585]),\n",
       " array([ 3.1180824]),\n",
       " array([ 3.1100048]),\n",
       " array([ 3.10197257]),\n",
       " array([ 3.09398528]),\n",
       " array([ 3.08604248]),\n",
       " array([ 3.07814373]),\n",
       " array([ 3.0702886]),\n",
       " array([ 3.06247665]),\n",
       " array([ 3.05470748]),\n",
       " array([ 3.04698067]),\n",
       " array([ 3.0392958]),\n",
       " array([ 3.03165248]),\n",
       " array([ 3.0240503]),\n",
       " array([ 3.01648887]),\n",
       " array([ 3.00896781]),\n",
       " array([ 3.00148673]),\n",
       " array([ 2.99404526]),\n",
       " array([ 2.98664302]),\n",
       " array([ 2.97927965]),\n",
       " array([ 2.97195478]),\n",
       " array([ 2.96466805]),\n",
       " array([ 2.95741912]),\n",
       " array([ 2.95020764]),\n",
       " array([ 2.94303326]),\n",
       " array([ 2.93589563]),\n",
       " array([ 2.92879444]),\n",
       " array([ 2.92172934]),\n",
       " array([ 2.91470001]),\n",
       " array([ 2.90770613]),\n",
       " array([ 2.90074738]),\n",
       " array([ 2.89382344]),\n",
       " array([ 2.88693401]),\n",
       " array([ 2.88007878]),\n",
       " array([ 2.87325744]),\n",
       " array([ 2.8664697]),\n",
       " array([ 2.85971526]),\n",
       " array([ 2.85299383]),\n",
       " array([ 2.84630513]),\n",
       " array([ 2.83964887]),\n",
       " array([ 2.83302476]),\n",
       " array([ 2.82643254]),\n",
       " array([ 2.81987192]),\n",
       " array([ 2.81334264]),\n",
       " array([ 2.80684443]),\n",
       " array([ 2.80037702]),\n",
       " array([ 2.79394016]),\n",
       " array([ 2.78753359]),\n",
       " array([ 2.78115704]),\n",
       " array([ 2.77481028]),\n",
       " array([ 2.76849305]),\n",
       " array([ 2.7622051]),\n",
       " array([ 2.7559462]),\n",
       " array([ 2.7497161]),\n",
       " array([ 2.74351456]),\n",
       " array([ 2.73734135]),\n",
       " array([ 2.73119625]),\n",
       " array([ 2.72507901]),\n",
       " array([ 2.71898942]),\n",
       " array([ 2.71292724]),\n",
       " array([ 2.70689227]),\n",
       " array([ 2.70088427]),\n",
       " array([ 2.69490304]),\n",
       " array([ 2.68894835]),\n",
       " array([ 2.68302001]),\n",
       " array([ 2.67711779]),\n",
       " array([ 2.67124149]),\n",
       " array([ 2.66539091]),\n",
       " array([ 2.65956585]),\n",
       " array([ 2.6537661]),\n",
       " array([ 2.64799147]),\n",
       " array([ 2.64224176]),\n",
       " array([ 2.63651679]),\n",
       " array([ 2.63081634]),\n",
       " array([ 2.62514025]),\n",
       " array([ 2.61948832]),\n",
       " array([ 2.61386037]),\n",
       " array([ 2.60825621]),\n",
       " array([ 2.60267566]),\n",
       " array([ 2.59711854]),\n",
       " array([ 2.59158469]),\n",
       " array([ 2.58607391]),\n",
       " array([ 2.58058604]),\n",
       " array([ 2.5751209]),\n",
       " array([ 2.56967833]),\n",
       " array([ 2.56425816]),\n",
       " array([ 2.55886022]),\n",
       " array([ 2.55348435]),\n",
       " array([ 2.54813039]),\n",
       " array([ 2.54279816]),\n",
       " array([ 2.53748752]),\n",
       " array([ 2.53219831]),\n",
       " array([ 2.52693037]),\n",
       " array([ 2.52168354]),\n",
       " array([ 2.51645768]),\n",
       " array([ 2.51125263]),\n",
       " array([ 2.50606824]),\n",
       " array([ 2.50090437]),\n",
       " array([ 2.49576086]),\n",
       " array([ 2.49063757]),\n",
       " array([ 2.48553436]),\n",
       " array([ 2.48045109]),\n",
       " array([ 2.47538761]),\n",
       " array([ 2.47034379]),\n",
       " array([ 2.46531948]),\n",
       " array([ 2.46031456]),\n",
       " array([ 2.45532887]),\n",
       " array([ 2.4503623]),\n",
       " array([ 2.44541471]),\n",
       " array([ 2.44048597]),\n",
       " array([ 2.43557594]),\n",
       " array([ 2.4306845]),\n",
       " array([ 2.42581151]),\n",
       " array([ 2.42095687]),\n",
       " array([ 2.41612043]),\n",
       " array([ 2.41130207]),\n",
       " array([ 2.40650168]),\n",
       " array([ 2.40171913]),\n",
       " array([ 2.3969543]),\n",
       " array([ 2.39220706]),\n",
       " array([ 2.38747732]),\n",
       " array([ 2.38276493]),\n",
       " array([ 2.3780698]),\n",
       " array([ 2.3733918]),\n",
       " array([ 2.36873082]),\n",
       " array([ 2.36408676]),\n",
       " array([ 2.35945948]),\n",
       " array([ 2.3548489]),\n",
       " array([ 2.35025489]),\n",
       " array([ 2.34567735]),\n",
       " array([ 2.34111617]),\n",
       " array([ 2.33657125]),\n",
       " array([ 2.33204248]),\n",
       " array([ 2.32752975]),\n",
       " array([ 2.32303296]),\n",
       " array([ 2.31855201]),\n",
       " array([ 2.3140868]),\n",
       " array([ 2.30963722]),\n",
       " array([ 2.30520318]),\n",
       " array([ 2.30078457]),\n",
       " array([ 2.29638131]),\n",
       " array([ 2.29199329]),\n",
       " array([ 2.28762041]),\n",
       " array([ 2.28326258]),\n",
       " array([ 2.27891971]),\n",
       " array([ 2.2745917]),\n",
       " array([ 2.27027846]),\n",
       " array([ 2.2659799]),\n",
       " array([ 2.26169592]),\n",
       " array([ 2.25742644]),\n",
       " array([ 2.25317136]),\n",
       " array([ 2.24893061]),\n",
       " array([ 2.24470407]),\n",
       " array([ 2.24049169]),\n",
       " array([ 2.23629335]),\n",
       " array([ 2.23210898]),\n",
       " array([ 2.2279385]),\n",
       " array([ 2.22378182]),\n",
       " array([ 2.21963885]),\n",
       " array([ 2.21550952]),\n",
       " array([ 2.21139374]),\n",
       " array([ 2.20729143]),\n",
       " array([ 2.2032025]),\n",
       " array([ 2.19912689]),\n",
       " array([ 2.1950645]),\n",
       " array([ 2.19101526]),\n",
       " array([ 2.1869791]),\n",
       " array([ 2.18295593]),\n",
       " array([ 2.17894568]),\n",
       " array([ 2.17494827]),\n",
       " array([ 2.17096363]),\n",
       " array([ 2.16699167]),\n",
       " array([ 2.16303234]),\n",
       " array([ 2.15908555]),\n",
       " array([ 2.15515123]),\n",
       " array([ 2.15122931]),\n",
       " array([ 2.14731972]),\n",
       " array([ 2.14342238]),\n",
       " array([ 2.13953722]),\n",
       " array([ 2.13566418]),\n",
       " array([ 2.13180319]),\n",
       " array([ 2.12795417]),\n",
       " array([ 2.12411706]),\n",
       " array([ 2.12029179]),\n",
       " array([ 2.11647829]),\n",
       " array([ 2.1126765]),\n",
       " array([ 2.10888635]),\n",
       " array([ 2.10510777]),\n",
       " array([ 2.1013407]),\n",
       " array([ 2.09758508]),\n",
       " array([ 2.09384084]),\n",
       " array([ 2.09010791]),\n",
       " array([ 2.08638624]),\n",
       " array([ 2.08267576]),\n",
       " array([ 2.07897641]),\n",
       " array([ 2.07528812]),\n",
       " array([ 2.07161085]),\n",
       " array([ 2.06794451]),\n",
       " array([ 2.06428907]),\n",
       " array([ 2.06064445]),\n",
       " array([ 2.0570106]),\n",
       " array([ 2.05338745]),\n",
       " array([ 2.04977496]),\n",
       " array([ 2.04617305]),\n",
       " array([ 2.04258169]),\n",
       " array([ 2.03900079]),\n",
       " array([ 2.03543032]),\n",
       " array([ 2.03187022]),\n",
       " array([ 2.02832042]),\n",
       " array([ 2.02478088]),\n",
       " array([ 2.02125154]),\n",
       " array([ 2.01773234]),\n",
       " array([ 2.01422324]),\n",
       " array([ 2.01072417]),\n",
       " array([ 2.00723508]),\n",
       " array([ 2.00375593]),\n",
       " array([ 2.00028666]),\n",
       " array([ 1.99682721]),\n",
       " array([ 1.99337754]),\n",
       " array([ 1.98993759]),\n",
       " array([ 1.98650732]),\n",
       " array([ 1.98308667]),\n",
       " array([ 1.97967559]),\n",
       " array([ 1.97627404]),\n",
       " array([ 1.97288195]),\n",
       " array([ 1.9694993]),\n",
       " array([ 1.96612602]),\n",
       " array([ 1.96276207]),\n",
       " array([ 1.9594074]),\n",
       " array([ 1.95606196]),\n",
       " array([ 1.9527257]),\n",
       " array([ 1.94939859]),\n",
       " array([ 1.94608057]),\n",
       " array([ 1.94277159]),\n",
       " array([ 1.93947161]),\n",
       " array([ 1.93618059]),\n",
       " array([ 1.93289848]),\n",
       " array([ 1.92962523]),\n",
       " array([ 1.9263608]),\n",
       " array([ 1.92310515]),\n",
       " array([ 1.91985823]),\n",
       " array([ 1.91661999]),\n",
       " array([ 1.91339041]),\n",
       " array([ 1.91016942]),\n",
       " array([ 1.90695699]),\n",
       " array([ 1.90375308]),\n",
       " array([ 1.90055765]),\n",
       " array([ 1.89737064]),\n",
       " array([ 1.89419203]),\n",
       " array([ 1.89102177]),\n",
       " array([ 1.88785982]),\n",
       " array([ 1.88470614]),\n",
       " array([ 1.88156068]),\n",
       " array([ 1.87842342]),\n",
       " array([ 1.8752943]),\n",
       " array([ 1.87217329]),\n",
       " array([ 1.86906035]),\n",
       " array([ 1.86595545]),\n",
       " array([ 1.86285853]),\n",
       " array([ 1.85976957]),\n",
       " array([ 1.85668852]),\n",
       " array([ 1.85361536]),\n",
       " array([ 1.85055003]),\n",
       " array([ 1.8474925]),\n",
       " array([ 1.84444274]),\n",
       " array([ 1.84140071]),\n",
       " array([ 1.83836637]),\n",
       " array([ 1.83533968]),\n",
       " array([ 1.83232062]),\n",
       " array([ 1.82930914]),\n",
       " array([ 1.82630521]),\n",
       " array([ 1.82330878]),\n",
       " array([ 1.82031984]),\n",
       " array([ 1.81733834]),\n",
       " array([ 1.81436425]),\n",
       " array([ 1.81139753]),\n",
       " array([ 1.80843814]),\n",
       " array([ 1.80548607]),\n",
       " array([ 1.80254126]),\n",
       " array([ 1.79960369]),\n",
       " array([ 1.79667333]),\n",
       " array([ 1.79375014]),\n",
       " array([ 1.79083408]),\n",
       " array([ 1.78792513]),\n",
       " array([ 1.78502325]),\n",
       " array([ 1.78212842]),\n",
       " array([ 1.77924059]),\n",
       " array([ 1.77635974]),\n",
       " array([ 1.77348583]),\n",
       " array([ 1.77061884]),\n",
       " array([ 1.76775873]),\n",
       " array([ 1.76490547]),\n",
       " array([ 1.76205903]),\n",
       " array([ 1.75921938]),\n",
       " array([ 1.75638649]),\n",
       " array([ 1.75356033]),\n",
       " array([ 1.75074086]),\n",
       " array([ 1.74792807]),\n",
       " array([ 1.74512192]),\n",
       " array([ 1.74232237]),\n",
       " array([ 1.73952941]),\n",
       " array([ 1.736743]),\n",
       " array([ 1.73396311]),\n",
       " array([ 1.73118971]),\n",
       " array([ 1.72842278]),\n",
       " array([ 1.72566228]),\n",
       " array([ 1.7229082]),\n",
       " array([ 1.72016049]),\n",
       " array([ 1.71741914]),\n",
       " array([ 1.71468411]),\n",
       " array([ 1.71195538]),\n",
       " array([ 1.70923292]),\n",
       " array([ 1.70651671]),\n",
       " array([ 1.7038067]),\n",
       " array([ 1.70110289]),\n",
       " array([ 1.69840524]),\n",
       " array([ 1.69571373]),\n",
       " array([ 1.69302832]),\n",
       " array([ 1.690349]),\n",
       " array([ 1.68767574]),\n",
       " array([ 1.6850085]),\n",
       " array([ 1.68234728]),\n",
       " array([ 1.67969203]),\n",
       " array([ 1.67704274]),\n",
       " array([ 1.67439937]),\n",
       " array([ 1.67176192]),\n",
       " array([ 1.66913034]),\n",
       " array([ 1.66650461]),\n",
       " array([ 1.66388472]),\n",
       " array([ 1.66127063]),\n",
       " array([ 1.65866232]),\n",
       " array([ 1.65605977]),\n",
       " array([ 1.65346295]),\n",
       " array([ 1.65087184]),\n",
       " array([ 1.64828642]),\n",
       " array([ 1.64570665]),\n",
       " array([ 1.64313253]),\n",
       " array([ 1.64056402]),\n",
       " array([ 1.6380011]),\n",
       " array([ 1.63544375]),\n",
       " array([ 1.63289195]),\n",
       " array([ 1.63034566]),\n",
       " array([ 1.62780488]),\n",
       " array([ 1.62526958]),\n",
       " array([ 1.62273973]),\n",
       " array([ 1.62021531]),\n",
       " array([ 1.6176963]),\n",
       " array([ 1.61518269]),\n",
       " array([ 1.61267444]),\n",
       " array([ 1.61017153]),\n",
       " array([ 1.60767395]),\n",
       " array([ 1.60518167]),\n",
       " array([ 1.60269467]),\n",
       " array([ 1.60021292]),\n",
       " array([ 1.59773642]),\n",
       " array([ 1.59526513]),\n",
       " array([ 1.59279904]),\n",
       " array([ 1.59033813]),\n",
       " array([ 1.58788237]),\n",
       " array([ 1.58543174]),\n",
       " array([ 1.58298623]),\n",
       " array([ 1.58054581]),\n",
       " array([ 1.57811046]),\n",
       " array([ 1.57568017]),\n",
       " array([ 1.57325491]),\n",
       " array([ 1.57083466]),\n",
       " array([ 1.56841941]),\n",
       " array([ 1.56600913]),\n",
       " array([ 1.56360381]),\n",
       " array([ 1.56120342]),\n",
       " array([ 1.55880794]),\n",
       " array([ 1.55641736]),\n",
       " array([ 1.55403166]),\n",
       " array([ 1.55165082]),\n",
       " array([ 1.54927482]),\n",
       " array([ 1.54690364]),\n",
       " array([ 1.54453726]),\n",
       " array([ 1.54217566]),\n",
       " array([ 1.53981883]),\n",
       " array([ 1.53746675]),\n",
       " array([ 1.53511939]),\n",
       " array([ 1.53277674]),\n",
       " array([ 1.53043879]),\n",
       " array([ 1.52810551]),\n",
       " array([ 1.52577689]),\n",
       " array([ 1.52345291]),\n",
       " array([ 1.52113354]),\n",
       " array([ 1.51881878]),\n",
       " array([ 1.51650861]),\n",
       " array([ 1.514203]),\n",
       " array([ 1.51190195]),\n",
       " array([ 1.50960543]),\n",
       " array([ 1.50731343]),\n",
       " array([ 1.50502592]),\n",
       " array([ 1.50274291]),\n",
       " array([ 1.50046435]),\n",
       " array([ 1.49819025]),\n",
       " array([ 1.49592058]),\n",
       " array([ 1.49365532]),\n",
       " array([ 1.49139447]),\n",
       " array([ 1.489138]),\n",
       " array([ 1.48688589]),\n",
       " array([ 1.48463814]),\n",
       " array([ 1.48239472]),\n",
       " array([ 1.48015562]),\n",
       " array([ 1.47792083]),\n",
       " array([ 1.47569032]),\n",
       " array([ 1.47346408]),\n",
       " array([ 1.4712421]),\n",
       " array([ 1.46902435]),\n",
       " array([ 1.46681084]),\n",
       " array([ 1.46460153]),\n",
       " array([ 1.46239641]),\n",
       " array([ 1.46019547]),\n",
       " array([ 1.4579987]),\n",
       " array([ 1.45580607]),\n",
       " array([ 1.45361758]),\n",
       " array([ 1.4514332]),\n",
       " array([ 1.44925293]),\n",
       " array([ 1.44707675]),\n",
       " array([ 1.44490464]),\n",
       " array([ 1.44273659]),\n",
       " array([ 1.44057258]),\n",
       " array([ 1.4384126]),\n",
       " array([ 1.43625664]),\n",
       " array([ 1.43410468]),\n",
       " array([ 1.4319567]),\n",
       " array([ 1.4298127]),\n",
       " array([ 1.42767266]),\n",
       " array([ 1.42553656]),\n",
       " array([ 1.42340439]),\n",
       " array([ 1.42127613]),\n",
       " array([ 1.41915178]),\n",
       " array([ 1.41703132]),\n",
       " array([ 1.41491473]),\n",
       " array([ 1.41280201]),\n",
       " array([ 1.41069313]),\n",
       " array([ 1.40858808]),\n",
       " array([ 1.40648686]),\n",
       " array([ 1.40438944]),\n",
       " array([ 1.40229582]),\n",
       " array([ 1.40020598]),\n",
       " array([ 1.39811991]),\n",
       " array([ 1.39603759]),\n",
       " array([ 1.39395901]),\n",
       " array([ 1.39188416]),\n",
       " array([ 1.38981303]),\n",
       " array([ 1.3877456]),\n",
       " array([ 1.38568185]),\n",
       " array([ 1.38362179]),\n",
       " array([ 1.38156539]),\n",
       " array([ 1.37951264]),\n",
       " array([ 1.37746353]),\n",
       " array([ 1.37541805]),\n",
       " array([ 1.37337619]),\n",
       " array([ 1.37133792]),\n",
       " array([ 1.36930325]),\n",
       " array([ 1.36727215]),\n",
       " array([ 1.36524462]),\n",
       " array([ 1.36322064]),\n",
       " array([ 1.3612002]),\n",
       " array([ 1.35918329]),\n",
       " array([ 1.3571699]),\n",
       " array([ 1.35516002]),\n",
       " array([ 1.35315363]),\n",
       " array([ 1.35115072]),\n",
       " array([ 1.34915128]),\n",
       " array([ 1.34715529]),\n",
       " array([ 1.34516276]),\n",
       " array([ 1.34317366]),\n",
       " array([ 1.34118799]),\n",
       " array([ 1.33920572]),\n",
       " array([ 1.33722686]),\n",
       " array([ 1.33525139]),\n",
       " array([ 1.3332793]),\n",
       " array([ 1.33131057]),\n",
       " array([ 1.3293452]),\n",
       " array([ 1.32738318]),\n",
       " array([ 1.32542449]),\n",
       " array([ 1.32346912]),\n",
       " array([ 1.32151706]),\n",
       " array([ 1.31956831]),\n",
       " array([ 1.31762284]),\n",
       " array([ 1.31568066]),\n",
       " array([ 1.31374174]),\n",
       " array([ 1.31180608]),\n",
       " array([ 1.30987367]),\n",
       " array([ 1.3079445]),\n",
       " array([ 1.30601855]),\n",
       " array([ 1.30409582]),\n",
       " array([ 1.30217629]),\n",
       " array([ 1.30025996]),\n",
       " array([ 1.29834681]),\n",
       " array([ 1.29643684]),\n",
       " array([ 1.29453003]),\n",
       " array([ 1.29262637]),\n",
       " array([ 1.29072586]),\n",
       " array([ 1.28882848]),\n",
       " array([ 1.28693423]),\n",
       " array([ 1.28504309]),\n",
       " array([ 1.28315505]),\n",
       " array([ 1.28127011]),\n",
       " array([ 1.27938825]),\n",
       " array([ 1.27750946]),\n",
       " array([ 1.27563374]),\n",
       " array([ 1.27376107]),\n",
       " array([ 1.27189144]),\n",
       " array([ 1.27002486]),\n",
       " array([ 1.26816129]),\n",
       " array([ 1.26630074]),\n",
       " array([ 1.2644432]),\n",
       " array([ 1.26258866]),\n",
       " array([ 1.2607371]),\n",
       " array([ 1.25888852]),\n",
       " array([ 1.25704291]),\n",
       " array([ 1.25520026]),\n",
       " array([ 1.25336056]),\n",
       " array([ 1.2515238]),\n",
       " array([ 1.24968997]),\n",
       " array([ 1.24785906]),\n",
       " array([ 1.24603107]),\n",
       " array([ 1.24420598]),\n",
       " array([ 1.24238379]),\n",
       " array([ 1.24056448]),\n",
       " array([ 1.23874805]),\n",
       " array([ 1.23693449]),\n",
       " array([ 1.23512378]),\n",
       " array([ 1.23331593]),\n",
       " array([ 1.23151092]),\n",
       " array([ 1.22970875]),\n",
       " array([ 1.22790939]),\n",
       " array([ 1.22611286]),\n",
       " array([ 1.22431913]),\n",
       " array([ 1.2225282]),\n",
       " array([ 1.22074006]),\n",
       " array([ 1.2189547]),\n",
       " array([ 1.21717211]),\n",
       " array([ 1.21539229]),\n",
       " array([ 1.21361523]),\n",
       " array([ 1.21184091]),\n",
       " array([ 1.21006933]),\n",
       " array([ 1.20830049]),\n",
       " array([ 1.20653436]),\n",
       " array([ 1.20477095]),\n",
       " array([ 1.20301025]),\n",
       " array([ 1.20125225]),\n",
       " array([ 1.19949694]),\n",
       " array([ 1.1977443]),\n",
       " array([ 1.19599435]),\n",
       " array([ 1.19424706]),\n",
       " array([ 1.19250242]),\n",
       " array([ 1.19076044]),\n",
       " array([ 1.1890211]),\n",
       " array([ 1.18728439]),\n",
       " array([ 1.18555031]),\n",
       " array([ 1.18381885]),\n",
       " array([ 1.18209]),\n",
       " array([ 1.18036376]),\n",
       " array([ 1.17864011]),\n",
       " array([ 1.17691904]),\n",
       " array([ 1.17520056]),\n",
       " array([ 1.17348465]),\n",
       " array([ 1.17177131]),\n",
       " array([ 1.17006052]),\n",
       " array([ 1.16835228]),\n",
       " array([ 1.16664659]),\n",
       " array([ 1.16494343]),\n",
       " array([ 1.16324279]),\n",
       " array([ 1.16154468]),\n",
       " array([ 1.15984908]),\n",
       " array([ 1.15815599]),\n",
       " array([ 1.15646539]),\n",
       " array([ 1.15477729]),\n",
       " array([ 1.15309167]),\n",
       " array([ 1.15140852]),\n",
       " array([ 1.14972785]),\n",
       " array([ 1.14804963]),\n",
       " array([ 1.14637388]),\n",
       " array([ 1.14470057]),\n",
       " array([ 1.1430297]),\n",
       " array([ 1.14136126]),\n",
       " array([ 1.13969526]),\n",
       " array([ 1.13803167]),\n",
       " array([ 1.13637049]),\n",
       " array([ 1.13471173]),\n",
       " array([ 1.13305536]),\n",
       " array([ 1.13140138]),\n",
       " array([ 1.12974979]),\n",
       " array([ 1.12810058]),\n",
       " array([ 1.12645374]),\n",
       " array([ 1.12480926]),\n",
       " array([ 1.12316714]),\n",
       " array([ 1.12152738]),\n",
       " array([ 1.11988996]),\n",
       " array([ 1.11825488]),\n",
       " array([ 1.11662213]),\n",
       " array([ 1.11499171]),\n",
       " array([ 1.1133636]),\n",
       " array([ 1.11173781]),\n",
       " array([ 1.11011432]),\n",
       " array([ 1.10849313]),\n",
       " array([ 1.10687424]),\n",
       " array([ 1.10525763]),\n",
       " array([ 1.1036433]),\n",
       " array([ 1.10203125]),\n",
       " array([ 1.10042146]),\n",
       " array([ 1.09881394]),\n",
       " array([ 1.09720867]),\n",
       " array([ 1.09560564]),\n",
       " array([ 1.09400486]),\n",
       " array([ 1.09240632]),\n",
       " array([ 1.09081]),\n",
       " array([ 1.08921591]),\n",
       " array([ 1.08762404]),\n",
       " array([ 1.08603438]),\n",
       " array([ 1.08444692]),\n",
       " array([ 1.08286166]),\n",
       " array([ 1.0812786]),\n",
       " array([ 1.07969772]),\n",
       " array([ 1.07811903]),\n",
       " array([ 1.0765425]),\n",
       " array([ 1.07496815]),\n",
       " array([ 1.07339597]),\n",
       " array([ 1.07182593]),\n",
       " array([ 1.07025806]),\n",
       " array([ 1.06869232]),\n",
       " array([ 1.06712873]),\n",
       " array([ 1.06556727]),\n",
       " array([ 1.06400794]),\n",
       " array([ 1.06245073]),\n",
       " array([ 1.06089564]),\n",
       " array([ 1.05934265]),\n",
       " array([ 1.05779178]),\n",
       " array([ 1.056243]),\n",
       " array([ 1.05469632]),\n",
       " array([ 1.05315173]),\n",
       " array([ 1.05160922]),\n",
       " array([ 1.05006878]),\n",
       " array([ 1.04853042]),\n",
       " array([ 1.04699412]),\n",
       " array([ 1.04545989]),\n",
       " array([ 1.04392771]),\n",
       " array([ 1.04239757]),\n",
       " array([ 1.04086949]),\n",
       " array([ 1.03934344]),\n",
       " array([ 1.03781942]),\n",
       " array([ 1.03629743]),\n",
       " array([ 1.03477747]),\n",
       " array([ 1.03325952]),\n",
       " array([ 1.03174358]),\n",
       " array([ 1.03022965]),\n",
       " array([ 1.02871773]),\n",
       " array([ 1.02720779]),\n",
       " array([ 1.02569985]),\n",
       " array([ 1.02419389]),\n",
       " array([ 1.02268992]),\n",
       " array([ 1.02118791]),\n",
       " array([ 1.01968788]),\n",
       " array([ 1.01818981]),\n",
       " array([ 1.0166937]),\n",
       " array([ 1.01519955]),\n",
       " array([ 1.01370735]),\n",
       " array([ 1.01221709]),\n",
       " array([ 1.01072876]),\n",
       " array([ 1.00924238]),\n",
       " array([ 1.00775792]),\n",
       " array([ 1.00627538]),\n",
       " array([ 1.00479477]),\n",
       " array([ 1.00331607]),\n",
       " array([ 1.00183928]),\n",
       " array([ 1.00036439]),\n",
       " array([ 0.9988914]),\n",
       " array([ 0.9974203]),\n",
       " array([ 0.9959511]),\n",
       " array([ 0.99448378]),\n",
       " array([ 0.99301834]),\n",
       " array([ 0.99155477]),\n",
       " array([ 0.99009308]),\n",
       " array([ 0.98863325]),\n",
       " array([ 0.98717528]),\n",
       " array([ 0.98571917]),\n",
       " array([ 0.98426491]),\n",
       " array([ 0.98281249]),\n",
       " array([ 0.98136192]),\n",
       " array([ 0.97991318]),\n",
       " array([ 0.97846628]),\n",
       " array([ 0.9770212]),\n",
       " array([ 0.97557795]),\n",
       " array([ 0.97413651]),\n",
       " array([ 0.97269689]),\n",
       " array([ 0.97125908]),\n",
       " array([ 0.96982307]),\n",
       " array([ 0.96838887]),\n",
       " array([ 0.96695646]),\n",
       " array([ 0.96552584]),\n",
       " array([ 0.96409701]),\n",
       " array([ 0.96266996]),\n",
       " array([ 0.96124468]),\n",
       " array([ 0.95982118]),\n",
       " array([ 0.95839945]),\n",
       " array([ 0.95697949]),\n",
       " array([ 0.95556128]),\n",
       " array([ 0.95414483]),\n",
       " array([ 0.95273013]),\n",
       " array([ 0.95131718]),\n",
       " array([ 0.94990597]),\n",
       " array([ 0.9484965]),\n",
       " array([ 0.94708876]),\n",
       " array([ 0.94568276]),\n",
       " array([ 0.94427847]),\n",
       " array([ 0.94287591]),\n",
       " array([ 0.94147507]),\n",
       " array([ 0.94007594]),\n",
       " array([ 0.93867852]),\n",
       " array([ 0.9372828]),\n",
       " array([ 0.93588878]),\n",
       " array([ 0.93449646]),\n",
       " array([ 0.93310583]),\n",
       " array([ 0.93171689]),\n",
       " array([ 0.93032963]),\n",
       " array([ 0.92894405]),\n",
       " array([ 0.92756014]),\n",
       " array([ 0.92617791]),\n",
       " array([ 0.92479734]),\n",
       " array([ 0.92341844]),\n",
       " array([ 0.9220412]),\n",
       " array([ 0.92066561]),\n",
       " array([ 0.91929167]),\n",
       " array([ 0.91791938]),\n",
       " array([ 0.91654873]),\n",
       " array([ 0.91517973]),\n",
       " array([ 0.91381235]),\n",
       " array([ 0.91244661]),\n",
       " array([ 0.9110825]),\n",
       " array([ 0.90972001]),\n",
       " array([ 0.90835913]),\n",
       " array([ 0.90699988]),\n",
       " array([ 0.90564223]),\n",
       " array([ 0.9042862]),\n",
       " array([ 0.90293176]),\n",
       " array([ 0.90157893]),\n",
       " array([ 0.90022769]),\n",
       " array([ 0.89887805]),\n",
       " array([ 0.89753]),\n",
       " array([ 0.89618353]),\n",
       " array([ 0.89483864]),\n",
       " array([ 0.89349533]),\n",
       " array([ 0.89215359]),\n",
       " array([ 0.89081342]),\n",
       " array([ 0.88947482]),\n",
       " array([ 0.88813778]),\n",
       " array([ 0.8868023]),\n",
       " array([ 0.88546838]),\n",
       " array([ 0.884136]),\n",
       " array([ 0.88280518]),\n",
       " array([ 0.8814759]),\n",
       " array([ 0.88014816]),\n",
       " array([ 0.87882195]),\n",
       " array([ 0.87749728]),\n",
       " array([ 0.87617414]),\n",
       " array([ 0.87485253]),\n",
       " array([ 0.87353244]),\n",
       " array([ 0.87221387]),\n",
       " array([ 0.87089681]),\n",
       " array([ 0.86958126]),\n",
       " array([ 0.86826723]),\n",
       " array([ 0.8669547]),\n",
       " array([ 0.86564367]),\n",
       " array([ 0.86433414]),\n",
       " array([ 0.8630261]),\n",
       " array([ 0.86171955]),\n",
       " array([ 0.86041449]),\n",
       " array([ 0.85911092])]"
      ]
     },
     "execution_count": 302,
     "metadata": {},
     "output_type": "execute_result"
    }
   ],
   "source": [
    "[AIM(t) for t in xrange(1000)]\n"
   ]
  },
  {
   "cell_type": "code",
   "execution_count": null,
   "metadata": {
    "collapsed": true
   },
   "outputs": [],
   "source": []
  }
 ],
 "metadata": {
  "kernelspec": {
   "display_name": "Python [conda env:py2.7]",
   "language": "python",
   "name": "conda-env-py2.7-py"
  },
  "language_info": {
   "codemirror_mode": {
    "name": "ipython",
    "version": 2
   },
   "file_extension": ".py",
   "mimetype": "text/x-python",
   "name": "python",
   "nbconvert_exporter": "python",
   "pygments_lexer": "ipython2",
   "version": "2.7.13"
  }
 },
 "nbformat": 4,
 "nbformat_minor": 2
}
