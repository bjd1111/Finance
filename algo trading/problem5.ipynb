{
 "cells": [
  {
   "cell_type": "code",
   "execution_count": 182,
   "metadata": {
    "collapsed": true
   },
   "outputs": [],
   "source": [
    "coeffs = [698.74940594355189, 0.3429159597976898, 0.55893058943625173, 0.74906715225239062, 0.97462393173698603]     #from problem 2\n",
    "def MI_model(s,v,time,size):\n",
    "    \"market impact function\"\n",
    "    ADV = Shares/ Size\n",
    "    POV = Shares/(Shares+time*ADV)   \n",
    "    \n",
    "\n",
    "\n",
    "    return coeffs[0]*(s**coeffs[1])*(v **coeffs[2]) * (coeffs[4]*(POV **coeffs[3])+ (1-coeffs[4]))\n",
    "\n",
    "def TR(time,sigma):\n",
    "    return sigma*np.sqrt(1/250.*1/3.*time)*10**4\n",
    "\n",
    "def PA(alpha,time):\n",
    "    \n",
    "    return 0.5*alpha*(time)\n",
    "    "
   ]
  },
  {
   "cell_type": "code",
   "execution_count": 183,
   "metadata": {
    "collapsed": false
   },
   "outputs": [],
   "source": [
    "import pandas as pd\n",
    "import numpy as np\n",
    "\n",
    "#Stock = 'RLK'\n",
    "Shares = 100000\n",
    "#Side = Buy\n",
    "Price = 50\n",
    "ADV = 1000000\n",
    "Volatility = 0.25\n",
    "Size = 0.10\n",
    "time = 1"
   ]
  },
  {
   "cell_type": "code",
   "execution_count": null,
   "metadata": {
    "collapsed": false
   },
   "outputs": [],
   "source": []
  },
  {
   "cell_type": "code",
   "execution_count": 184,
   "metadata": {
    "collapsed": false
   },
   "outputs": [
    {
     "data": {
      "text/plain": [
       "3122.169038825854"
      ]
     },
     "execution_count": 184,
     "metadata": {},
     "output_type": "execute_result"
    }
   ],
   "source": [
    "mi = MI_model(Shares,Volatility,time,Size)\n",
    "mi\n"
   ]
  },
  {
   "cell_type": "markdown",
   "metadata": {},
   "source": [
    "# Calculate the Optimal POV rate that solves the Trader’s Dilemma for a Lambda value of 1.\n",
    "# Minimize MI + Lambda * TR (where Lambda=1)."
   ]
  },
  {
   "cell_type": "code",
   "execution_count": 185,
   "metadata": {
    "collapsed": false
   },
   "outputs": [
    {
     "data": {
      "text/plain": [
       "3213.4561317433818"
      ]
     },
     "execution_count": 185,
     "metadata": {},
     "output_type": "execute_result"
    }
   ],
   "source": [
    "\n",
    "Lambda = 1\n",
    "time = 1\n",
    "\n",
    "\n",
    "def fuc(time):\n",
    "    return MI_model(Shares,Volatility,time,Size) + Lambda * TR(time,Volatility)\n",
    "\n",
    "fuc(time)"
   ]
  },
  {
   "cell_type": "code",
   "execution_count": 254,
   "metadata": {
    "collapsed": false
   },
   "outputs": [
    {
     "name": "stdout",
     "output_type": "stream",
     "text": [
      "Optimization terminated successfully.\n",
      "         Current function value: 1136.815386\n",
      "         Iterations: 25\n",
      "         Function evaluations: 50\n"
     ]
    }
   ],
   "source": [
    "\n",
    "from scipy.optimize import minimize\n",
    "res = minimize(fuc, 1, method='nelder-mead',\n",
    "                options={'disp': True})\n"
   ]
  },
  {
   "cell_type": "code",
   "execution_count": 255,
   "metadata": {
    "collapsed": false
   },
   "outputs": [
    {
     "name": "stdout",
     "output_type": "stream",
     "text": [
      "[ 21.88125]\n"
     ]
    }
   ],
   "source": [
    "print(res.x)"
   ]
  },
  {
   "cell_type": "code",
   "execution_count": 256,
   "metadata": {
    "collapsed": false
   },
   "outputs": [
    {
     "data": {
      "text/plain": [
       "array([ 0.00454933])"
      ]
     },
     "execution_count": 256,
     "metadata": {},
     "output_type": "execute_result"
    }
   ],
   "source": [
    "time  =  res.x\n",
    "POV = Shares/(Shares+time*ADV)  \n",
    "POV"
   ]
  },
  {
   "cell_type": "markdown",
   "metadata": {},
   "source": [
    "# Calculate the Optimal POV rate that maximizes the probability of out-performing a cost of 80bp. \n",
    "#  Price Improvement strategy"
   ]
  },
  {
   "cell_type": "code",
   "execution_count": 189,
   "metadata": {
    "collapsed": false
   },
   "outputs": [
    {
     "data": {
      "text/plain": [
       "33.330769351749645"
      ]
     },
     "execution_count": 189,
     "metadata": {},
     "output_type": "execute_result"
    }
   ],
   "source": [
    "cost = 80                                #80bp\n",
    "alpha = 1                                #trade rate at Time t alpha = shares traded(complete)/volume over trading Horizon\n",
    "def pi(time,sign = -1):\n",
    "    #sign = -1 the function is to maximize\n",
    "    return sign*(cost - (MI_model(Shares,Volatility,time,Size)+PA(alpha,time)))/TR(time,Volatility)\n",
    "\n",
    "pi(1,sign = -1)"
   ]
  },
  {
   "cell_type": "code",
   "execution_count": 190,
   "metadata": {
    "collapsed": false
   },
   "outputs": [
    {
     "name": "stdout",
     "output_type": "stream",
     "text": [
      "Optimization terminated successfully.\n",
      "         Current function value: 0.295436\n",
      "         Iterations: 36\n",
      "         Function evaluations: 72\n"
     ]
    }
   ],
   "source": [
    "res1 = minimize(pi, 1, method='nelder-mead',\n",
    "                options={'disp': True})"
   ]
  },
  {
   "cell_type": "code",
   "execution_count": 191,
   "metadata": {
    "collapsed": false
   },
   "outputs": [
    {
     "name": "stdout",
     "output_type": "stream",
     "text": [
      "[ 785.15087891]\n"
     ]
    }
   ],
   "source": [
    "print(res1.x)"
   ]
  },
  {
   "cell_type": "code",
   "execution_count": 192,
   "metadata": {
    "collapsed": false
   },
   "outputs": [
    {
     "data": {
      "text/plain": [
       "array([ 0.00012735])"
      ]
     },
     "execution_count": 192,
     "metadata": {},
     "output_type": "execute_result"
    }
   ],
   "source": [
    "time1  =  res1.x\n",
    "POV_pi = Shares/(Shares+time1*ADV)  \n",
    "POV_pi"
   ]
  },
  {
   "cell_type": "markdown",
   "metadata": {},
   "source": [
    "# Construct the Efficient Trading Frontier – e.g., the set of all optimal trading strategies. \n",
    "# This is similar to the efficient frontier. The y-axis is the Market Impact Cost and the x-axis is the Timing Risk. "
   ]
  },
  {
   "cell_type": "code",
   "execution_count": 193,
   "metadata": {
    "collapsed": false
   },
   "outputs": [
    {
     "data": {
      "text/plain": [
       "<matplotlib.text.Text at 0xee34e80>"
      ]
     },
     "execution_count": 193,
     "metadata": {},
     "output_type": "execute_result"
    },
    {
     "data": {
      "image/png": "[encoded data removed]",
      "text/plain": [
       "<matplotlib.figure.Figure at 0xedbb160>"
      ]
     },
     "metadata": {},
     "output_type": "display_data"
    }
   ],
   "source": [
    "import matplotlib.pyplot as plt\n",
    "%matplotlib inline\n",
    "\n",
    "\n",
    "Shares = 100000\n",
    "\n",
    "Price = 50\n",
    "ADV = 1000000\n",
    "Volatility = 0.25\n",
    "Size = 0.10\n",
    "time = 1\n",
    "\n",
    "y = [MI_model(Shares,Volatility,time,Size) for time in np.linspace(0,10,100,)]\n",
    "x = [TR(time,Volatility) for time in np.linspace(0,10,100)]\n",
    "#print y\n",
    "plt.plot(x,y)\n",
    "plt.xlabel('TR(bp)')\n",
    "plt.ylabel('MI(bp)')\n",
    "plt.title('Efficient Trading Frontier')"
   ]
  },
  {
   "cell_type": "markdown",
   "metadata": {},
   "source": [
    "# Select your initial trading strategy based on the optimization of the Trader’s Dilemma using a lambda value of 1. \n",
    "# Refer to this initial Optimal POV rate as POV* and the initial optimal Market Impact Cost as MI*.\n"
   ]
  },
  {
   "cell_type": "markdown",
   "metadata": {},
   "source": [
    "one-half way through the order (e.g., __50% complete__) for the following scenarios"
   ]
  },
  {
   "cell_type": "code",
   "execution_count": 257,
   "metadata": {
    "collapsed": false
   },
   "outputs": [
    {
     "data": {
      "text/plain": [
       "(array([ 0.00454933]), array([ 21.88125]))"
      ]
     },
     "execution_count": 257,
     "metadata": {},
     "output_type": "execute_result"
    }
   ],
   "source": [
    "POV_star  = POV\n",
    "time_star = res.x\n",
    "POV_star,time_star\n"
   ]
  },
  {
   "cell_type": "markdown",
   "metadata": {},
   "source": [
    "# Optimal AIM Strategy"
   ]
  },
  {
   "cell_type": "code",
   "execution_count": 258,
   "metadata": {
    "collapsed": false
   },
   "outputs": [
    {
     "data": {
      "text/plain": [
       "array([ 360.4693697])"
      ]
     },
     "execution_count": 258,
     "metadata": {},
     "output_type": "execute_result"
    }
   ],
   "source": [
    "#Stock = 'RLK'\n",
    "Shares = 100000\n",
    "Price = 50\n",
    "ADV = 1000000\n",
    "Volatility = 0.25\n",
    "Size = 0.10\n",
    "alpha = 1                                #trade rate at Time t alpha = shares traded(complete)/volume over trading Horizon\n",
    "\n",
    "theta = 0.5   #50% complete\n",
    "side = 1      #buy\n",
    "delta_P = 0.1\n",
    "relized_cost  = 0.05\n",
    "\n",
    "def p_cost(time):\n",
    "    M_cost  = (1-theta)*delta_P*side\n",
    "    mi_remain   =  (1-theta)*MI_model(Shares,Volatility,time,Size)\n",
    "    alpha_trend = (1-theta)*PA(alpha,time)\n",
    "    projected_cost = relized_cost+M_cost+mi_remain+alpha_trend\n",
    "    return projected_cost\n",
    "p_cost(time_star)"
   ]
  },
  {
   "cell_type": "code",
   "execution_count": 259,
   "metadata": {
    "collapsed": false
   },
   "outputs": [
    {
     "data": {
      "text/plain": [
       "array([ 41.34576951])"
      ]
     },
     "execution_count": 259,
     "metadata": {},
     "output_type": "execute_result"
    }
   ],
   "source": [
    "def TR_t(time):\n",
    "    return Volatility*np.sqrt((1-theta)*time)*Price\n",
    "TR_t(time_star)"
   ]
  },
  {
   "cell_type": "code",
   "execution_count": 260,
   "metadata": {
    "collapsed": false
   },
   "outputs": [
    {
     "data": {
      "text/plain": [
       "array([ 709.79811441])"
      ]
     },
     "execution_count": 260,
     "metadata": {},
     "output_type": "execute_result"
    }
   ],
   "source": [
    "ini_cost = MI_model(Shares,Volatility,time_star,Size)\n",
    "ini_cost"
   ]
  },
  {
   "cell_type": "code",
   "execution_count": 297,
   "metadata": {
    "collapsed": false
   },
   "outputs": [
    {
     "data": {
      "text/plain": [
       "array([ 8.44895981])"
      ]
     },
     "execution_count": 297,
     "metadata": {},
     "output_type": "execute_result"
    }
   ],
   "source": [
    "def AIM(t):\n",
    "    M_cost  = (1-theta)*delta_P*side\n",
    "    mi_remain   =  (1-theta)*MI_model(Shares,Volatility,t,Size)\n",
    "    alpha_trend = (1-theta)*PA(alpha,t)\n",
    "    projected_cost = relized_cost+M_cost+mi_remain+alpha_trend\n",
    "    \n",
    "    ini_cost = MI_model(Shares,Volatility,time_star,Size)\n",
    "    \n",
    "    TR_t = Volatility*np.sqrt((1-theta)*t)*Price\n",
    "    \n",
    "    return (ini_cost-projected_cost)/TR_t\n",
    "\n",
    "AIM(time_star)"
   ]
  },
  {
   "cell_type": "code",
   "execution_count": 296,
   "metadata": {
    "collapsed": false
   },
   "outputs": [
    {
     "ename": "IndexError",
     "evalue": "SLSQP Error: the length of bounds is not compatible with that of x0.",
     "output_type": "error",
     "traceback": [
      "\u001b[0;31m---------------------------------------------------------------------------\u001b[0m",
      "\u001b[0;31mIndexError\u001b[0m                                Traceback (most recent call last)",
      "\u001b[0;32m<ipython-input-296-53abb73c69e2>\u001b[0m in \u001b[0;36m<module>\u001b[0;34m()\u001b[0m\n\u001b[1;32m      1\u001b[0m res = minimize(AIM, 1,  bounds=(0,5),\n\u001b[0;32m----> 2\u001b[0;31m                 method='SLSQP', options={'disp': True})\n\u001b[0m",
      "\u001b[0;32mC:\\Users\\bjd\\Anaconda3\\envs\\py2.7\\lib\\site-packages\\scipy\\optimize\\_minimize.pyc\u001b[0m in \u001b[0;36mminimize\u001b[0;34m(fun, x0, args, method, jac, hess, hessp, bounds, constraints, tol, callback, options)\u001b[0m\n\u001b[1;32m    456\u001b[0m     \u001b[1;32melif\u001b[0m \u001b[0mmeth\u001b[0m \u001b[1;33m==\u001b[0m \u001b[1;34m'slsqp'\u001b[0m\u001b[1;33m:\u001b[0m\u001b[1;33m\u001b[0m\u001b[0m\n\u001b[1;32m    457\u001b[0m         return _minimize_slsqp(fun, x0, args, jac, bounds,\n\u001b[0;32m--> 458\u001b[0;31m                                constraints, callback=callback, **options)\n\u001b[0m\u001b[1;32m    459\u001b[0m     \u001b[1;32melif\u001b[0m \u001b[0mmeth\u001b[0m \u001b[1;33m==\u001b[0m \u001b[1;34m'dogleg'\u001b[0m\u001b[1;33m:\u001b[0m\u001b[1;33m\u001b[0m\u001b[0m\n\u001b[1;32m    460\u001b[0m         return _minimize_dogleg(fun, x0, args, jac, hess,\n",
      "\u001b[0;32mC:\\Users\\bjd\\Anaconda3\\envs\\py2.7\\lib\\site-packages\\scipy\\optimize\\slsqp.pyc\u001b[0m in \u001b[0;36m_minimize_slsqp\u001b[0;34m(func, x0, args, jac, bounds, constraints, maxiter, ftol, iprint, disp, eps, callback, **unknown_options)\u001b[0m\n\u001b[1;32m    336\u001b[0m         \u001b[0mbnds\u001b[0m \u001b[1;33m=\u001b[0m \u001b[0marray\u001b[0m\u001b[1;33m(\u001b[0m\u001b[0mbounds\u001b[0m\u001b[1;33m,\u001b[0m \u001b[0mfloat\u001b[0m\u001b[1;33m)\u001b[0m\u001b[1;33m\u001b[0m\u001b[0m\n\u001b[1;32m    337\u001b[0m         \u001b[1;32mif\u001b[0m \u001b[0mbnds\u001b[0m\u001b[1;33m.\u001b[0m\u001b[0mshape\u001b[0m\u001b[1;33m[\u001b[0m\u001b[1;36m0\u001b[0m\u001b[1;33m]\u001b[0m \u001b[1;33m!=\u001b[0m \u001b[0mn\u001b[0m\u001b[1;33m:\u001b[0m\u001b[1;33m\u001b[0m\u001b[0m\n\u001b[0;32m--> 338\u001b[0;31m             raise IndexError('SLSQP Error: the length of bounds is not '\n\u001b[0m\u001b[1;32m    339\u001b[0m                              'compatible with that of x0.')\n\u001b[1;32m    340\u001b[0m \u001b[1;33m\u001b[0m\u001b[0m\n",
      "\u001b[0;31mIndexError\u001b[0m: SLSQP Error: the length of bounds is not compatible with that of x0."
     ]
    }
   ],
   "source": [
    "res = minimize(AIM, 1,  bounds=(0,5),\n",
    "                method='SLSQP', options={'disp': True})"
   ]
  },
  {
   "cell_type": "code",
   "execution_count": 289,
   "metadata": {
    "collapsed": false
   },
   "outputs": [
    {
     "name": "stdout",
     "output_type": "stream",
     "text": [
      "Warning: Maximum number of function evaluations has been exceeded.\n"
     ]
    },
    {
     "name": "stderr",
     "output_type": "stream",
     "text": [
      "C:\\Users\\bjd\\Anaconda3\\envs\\py2.7\\lib\\site-packages\\ipykernel\\__main__.py:9: RuntimeWarning: invalid value encountered in power\n",
      "C:\\Users\\bjd\\Anaconda3\\envs\\py2.7\\lib\\site-packages\\ipykernel\\__main__.py:9: RuntimeWarning: invalid value encountered in sqrt\n"
     ]
    }
   ],
   "source": [
    "res1 = minimize(AIM, 1, method='nelder-mead',\n",
    "                options={'disp': True})"
   ]
  },
  {
   "cell_type": "code",
   "execution_count": 301,
   "metadata": {
    "collapsed": false,
    "scrolled": true
   },
   "outputs": [
    {
     "name": "stderr",
     "output_type": "stream",
     "text": [
      "C:\\Users\\bjd\\Anaconda3\\envs\\py2.7\\lib\\site-packages\\ipykernel\\__main__.py:11: RuntimeWarning: divide by zero encountered in divide\n"
     ]
    },
    {
     "data": {
      "text/plain": [
       "[<matplotlib.lines.Line2D at 0x109c1f28>]"
      ]
     },
     "execution_count": 301,
     "metadata": {},
     "output_type": "execute_result"
    },
    {
     "data": {
      "image/png": "[encoded data removed]",
      "text/plain": [
       "<matplotlib.figure.Figure at 0x108e4ef0>"
      ]
     },
     "metadata": {},
     "output_type": "display_data"
    }
   ],
   "source": [
    "plt.plot([AIM(t) for t in xrange(1000)])"
   ]
  },
  {
   "cell_type": "markdown",
   "metadata": {},
   "source": [
    "# PIM"
   ]
  },
  {
   "cell_type": "code",
   "execution_count": 319,
   "metadata": {
    "collapsed": true
   },
   "outputs": [],
   "source": [
    "#Stock = 'RLK'\n",
    "Shares = 100000\n",
    "Price = 50\n",
    "ADV = 1000000\n",
    "Volatility = 0.15\n",
    "Size = 0.10\n",
    "alpha = 1                                #trade rate at Time t alpha = shares traded(complete)/volume over trading Horizon\n",
    "\n",
    "theta = 0.5   #50% complete\n",
    "side = 1      #buy\n",
    "delta_P = 0.01\n",
    "relized_cost  = 0.15\n",
    "\n"
   ]
  },
  {
   "cell_type": "code",
   "execution_count": 320,
   "metadata": {
    "collapsed": false
   },
   "outputs": [
    {
     "data": {
      "text/plain": [
       "array([-10.5261128])"
      ]
     },
     "execution_count": 320,
     "metadata": {},
     "output_type": "execute_result"
    }
   ],
   "source": [
    "def PIM(t):\n",
    "    M_cost  = (1-theta)*delta_P*side\n",
    "    mi_remain   =  (1-theta)*MI_model(Shares,Volatility,t,Size)\n",
    "    alpha_trend = (1-theta)*PA(alpha,t)\n",
    "    projected_cost = relized_cost+M_cost+mi_remain+alpha_trend\n",
    "    \n",
    "    ini_cost = MI_model(Shares,Volatility,time_star,Size)\n",
    "    \n",
    "    TR_t = Volatility*np.sqrt((1-theta)*t)*Price\n",
    "    \n",
    "    return (projected_cost-ini_cost)/TR_t\n",
    "\n",
    "PIM(time_star)"
   ]
  },
  {
   "cell_type": "code",
   "execution_count": 321,
   "metadata": {
    "collapsed": false
   },
   "outputs": [
    {
     "name": "stderr",
     "output_type": "stream",
     "text": [
      "C:\\Users\\bjd\\Anaconda3\\envs\\py2.7\\lib\\site-packages\\ipykernel\\__main__.py:11: RuntimeWarning: divide by zero encountered in divide\n"
     ]
    },
    {
     "data": {
      "text/plain": [
       "[<matplotlib.lines.Line2D at 0x10dca668>]"
      ]
     },
     "execution_count": 321,
     "metadata": {},
     "output_type": "execute_result"
    },
    {
     "data": {
      "image/png": "[encoded data removed]",
      "text/plain": [
       "<matplotlib.figure.Figure at 0xf2b5dd8>"
      ]
     },
     "metadata": {},
     "output_type": "display_data"
    }
   ],
   "source": [
    "plt.plot([PIM(t) for t in xrange(1000)])"
   ]
  },
  {
   "cell_type": "code",
   "execution_count": 322,
   "metadata": {
    "collapsed": false
   },
   "outputs": [
    {
     "name": "stdout",
     "output_type": "stream",
     "text": [
      "Optimization terminated successfully.\n",
      "         Current function value: -11.119872\n",
      "         Iterations: 24\n",
      "         Function evaluations: 48\n"
     ]
    }
   ],
   "source": [
    "res_p = minimize(PIM, 1, method='nelder-mead',\n",
    "                options={'disp': True})"
   ]
  },
  {
   "cell_type": "code",
   "execution_count": 323,
   "metadata": {
    "collapsed": false
   },
   "outputs": [
    {
     "name": "stdout",
     "output_type": "stream",
     "text": [
      "[ 13.78222656]\n"
     ]
    }
   ],
   "source": [
    "print res_p.x"
   ]
  },
  {
   "cell_type": "code",
   "execution_count": null,
   "metadata": {
    "collapsed": true
   },
   "outputs": [],
   "source": []
  }
 ],
 "metadata": {
  "kernelspec": {
   "display_name": "Python [conda env:py2.7]",
   "language": "python",
   "name": "conda-env-py2.7-py"
  },
  "language_info": {
   "codemirror_mode": {
    "name": "ipython",
    "version": 2
   },
   "file_extension": ".py",
   "mimetype": "text/x-python",
   "name": "python",
   "nbconvert_exporter": "python",
   "pygments_lexer": "ipython2",
   "version": "2.7.13"
  }
 },
 "nbformat": 4,
 "nbformat_minor": 2
}
