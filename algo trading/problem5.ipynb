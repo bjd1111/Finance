{
 "cells": [
  {
   "cell_type": "markdown",
   "metadata": {},
   "source": [
    "# market impact model from problem 2"
   ]
  },
  {
   "cell_type": "code",
   "execution_count": 1,
   "metadata": {
    "collapsed": true
   },
   "outputs": [],
   "source": [
    "coeffs = [698.74940594355189, 0.3429159597976898, 0.55893058943625173, 0.74906715225239062, 0.97462393173698603]     #from problem 2\n",
    "\n",
    "def MI_model(shares,v,time,size):\n",
    "    \"market impact function\"\n",
    "    ADV = shares/ size\n",
    "    POV = shares/(shares+time*ADV)  \n",
    "    \n",
    "    \n",
    "    return coeffs[0]*(size**coeffs[1])*(v **coeffs[2]) * (coeffs[4]*(POV **coeffs[3])+ (1-coeffs[4]))\n",
    "\n",
    "def TR(time,sigma):\n",
    "    return sigma*np.sqrt(1/250.*1/3.*time)*(10**4)\n",
    "\n",
    "\n",
    "    "
   ]
  },
  {
   "cell_type": "markdown",
   "metadata": {},
   "source": [
    "# import initial data"
   ]
  },
  {
   "cell_type": "code",
   "execution_count": 2,
   "metadata": {
    "collapsed": true
   },
   "outputs": [],
   "source": [
    "import pandas as pd\n",
    "import numpy as np\n",
    "from scipy.optimize import minimize\n",
    "\n",
    "\n",
    "#Stock = 'RLK'\n",
    "Shares = 100000\n",
    "#Side = Buy\n",
    "Price = 50\n",
    "ADV = 1000000\n",
    "Volatility = 0.25\n",
    "Size = 0.10\n",
    "time = 1"
   ]
  },
  {
   "cell_type": "code",
   "execution_count": 3,
   "metadata": {
    "collapsed": false
   },
   "outputs": [
    {
     "data": {
      "text/plain": [
       "27.350209284781116"
      ]
     },
     "execution_count": 3,
     "metadata": {},
     "output_type": "execute_result"
    }
   ],
   "source": [
    "mi = MI_model(Shares,Volatility,time,Size)\n",
    "mi"
   ]
  },
  {
   "cell_type": "markdown",
   "metadata": {},
   "source": [
    "# Calculate the Optimal POV rate that solves the Trader’s Dilemma for a Lambda value of 1.\n",
    "# Minimize MI + Lambda * TR (where Lambda=1)."
   ]
  },
  {
   "cell_type": "code",
   "execution_count": 4,
   "metadata": {
    "collapsed": false
   },
   "outputs": [
    {
     "data": {
      "text/plain": [
       "118.6373022023088"
      ]
     },
     "execution_count": 4,
     "metadata": {},
     "output_type": "execute_result"
    }
   ],
   "source": [
    "Lambda = 1\n",
    "time = 1\n",
    "\n",
    "def fuc(time):\n",
    "    return MI_model(Shares,Volatility,time,Size) + Lambda * TR(time,Volatility)\n",
    "\n",
    "fuc(time)"
   ]
  },
  {
   "cell_type": "code",
   "execution_count": 5,
   "metadata": {
    "collapsed": false,
    "scrolled": true
   },
   "outputs": [
    {
     "name": "stdout",
     "output_type": "stream",
     "text": [
      "Optimization terminated successfully.    (Exit mode 0)\n",
      "            Current function value: 103.893250096\n",
      "            Iterations: 8\n",
      "            Function evaluations: 29\n",
      "            Gradient evaluations: 8\n"
     ]
    }
   ],
   "source": [
    "con = [((Shares/0.9-Shares)/ADV,(Shares/0.005-Shares)/ADV)]\n",
    "\n",
    "res = minimize(fuc, 1,  bounds=con,\n",
    "                method='SLSQP', options={'disp': True})"
   ]
  },
  {
   "cell_type": "markdown",
   "metadata": {},
   "source": [
    "# the Optimal time"
   ]
  },
  {
   "cell_type": "code",
   "execution_count": 6,
   "metadata": {
    "collapsed": false
   },
   "outputs": [
    {
     "name": "stdout",
     "output_type": "stream",
     "text": [
      "[ 0.34851922]\n"
     ]
    }
   ],
   "source": [
    "print(res.x)"
   ]
  },
  {
   "cell_type": "markdown",
   "metadata": {},
   "source": [
    "# the Optimal POV rate"
   ]
  },
  {
   "cell_type": "code",
   "execution_count": 7,
   "metadata": {
    "collapsed": false,
    "scrolled": true
   },
   "outputs": [
    {
     "data": {
      "text/plain": [
       "array([ 0.22295589])"
      ]
     },
     "execution_count": 7,
     "metadata": {},
     "output_type": "execute_result"
    }
   ],
   "source": [
    "time  =  res.x\n",
    "POV = Shares/(Shares+time*ADV)  \n",
    "POV"
   ]
  },
  {
   "cell_type": "markdown",
   "metadata": {},
   "source": [
    "# market impact"
   ]
  },
  {
   "cell_type": "code",
   "execution_count": 8,
   "metadata": {
    "collapsed": false
   },
   "outputs": [
    {
     "data": {
      "text/plain": [
       "array([ 50.00144352])"
      ]
     },
     "execution_count": 8,
     "metadata": {},
     "output_type": "execute_result"
    }
   ],
   "source": [
    "MI_model(Shares,Volatility,time,Size) "
   ]
  },
  {
   "cell_type": "markdown",
   "metadata": {},
   "source": [
    "# Calculate the Optimal POV rate that maximizes the probability of out-performing a cost of 80bp. \n",
    "#  Price Improvement strategy"
   ]
  },
  {
   "cell_type": "code",
   "execution_count": 9,
   "metadata": {
    "collapsed": false
   },
   "outputs": [
    {
     "data": {
      "text/plain": [
       "-0.57674956045302872"
      ]
     },
     "execution_count": 9,
     "metadata": {},
     "output_type": "execute_result"
    }
   ],
   "source": [
    "cost = 80                                #80bp\n",
    "\n",
    "def pi(time,sign = -1):\n",
    "    #sign = -1 the function is to maximize\n",
    "    return sign*(cost - MI_model(Shares,Volatility,time,Size))/TR(time,Volatility)\n",
    "\n",
    "pi(1,sign = -1)"
   ]
  },
  {
   "cell_type": "code",
   "execution_count": 10,
   "metadata": {
    "collapsed": false,
    "scrolled": true
   },
   "outputs": [
    {
     "name": "stdout",
     "output_type": "stream",
     "text": [
      "Optimization terminated successfully.    (Exit mode 0)\n",
      "            Current function value: -0.609890788423\n",
      "            Iterations: 7\n",
      "            Function evaluations: 23\n",
      "            Gradient evaluations: 7\n"
     ]
    }
   ],
   "source": [
    "res1 = minimize(pi, 1,  bounds=con,\n",
    "                method='SLSQP', options={'disp': True})"
   ]
  },
  {
   "cell_type": "markdown",
   "metadata": {},
   "source": [
    "# the Optimal time"
   ]
  },
  {
   "cell_type": "code",
   "execution_count": 11,
   "metadata": {
    "collapsed": false,
    "scrolled": true
   },
   "outputs": [
    {
     "name": "stdout",
     "output_type": "stream",
     "text": [
      "[ 0.59284204]\n"
     ]
    }
   ],
   "source": [
    "print(res1.x)"
   ]
  },
  {
   "cell_type": "markdown",
   "metadata": {},
   "source": [
    "# the Optimal POV rate"
   ]
  },
  {
   "cell_type": "code",
   "execution_count": 12,
   "metadata": {
    "collapsed": false
   },
   "outputs": [
    {
     "data": {
      "text/plain": [
       "array([ 0.14433304])"
      ]
     },
     "execution_count": 12,
     "metadata": {},
     "output_type": "execute_result"
    }
   ],
   "source": [
    "time1  =  res1.x\n",
    "POV_pi = Shares/(Shares+time1*ADV)  \n",
    "POV_pi"
   ]
  },
  {
   "cell_type": "markdown",
   "metadata": {},
   "source": [
    "# Construct the Efficient Trading Frontier – e.g., the set of all optimal trading strategies. \n",
    "# This is similar to the efficient frontier. The y-axis is the Market Impact Cost and the x-axis is the Timing Risk. "
   ]
  },
  {
   "cell_type": "code",
   "execution_count": 13,
   "metadata": {
    "collapsed": false
   },
   "outputs": [
    {
     "data": {
      "text/plain": [
       "<matplotlib.text.Text at 0x107a47c50>"
      ]
     },
     "execution_count": 13,
     "metadata": {},
     "output_type": "execute_result"
    },
    {
     "data": {
      "image/png": "[encoded data removed]",
      "text/plain": [
       "<matplotlib.figure.Figure at 0x107973c90>"
      ]
     },
     "metadata": {},
     "output_type": "display_data"
    }
   ],
   "source": [
    "import matplotlib.pyplot as plt\n",
    "%matplotlib inline\n",
    "\n",
    "\n",
    "Shares = 100000\n",
    "\n",
    "Price = 50\n",
    "ADV = 1000000\n",
    "Volatility = 0.25\n",
    "Size = 0.10\n",
    "time = 1\n",
    "\n",
    "y = [MI_model(Shares,Volatility,time,Size) for time in np.linspace(0,10,100,)]\n",
    "x = [TR(time,Volatility) for time in np.linspace(0,10,100)]\n",
    "#print y\n",
    "plt.plot(x,y)\n",
    "plt.xlabel('TR(bp)')\n",
    "plt.ylabel('MI(bp)')\n",
    "plt.title('Efficient Trading Frontier')"
   ]
  },
  {
   "cell_type": "markdown",
   "metadata": {},
   "source": [
    "# Select your initial trading strategy based on the optimization of the Trader’s Dilemma using a lambda value of 1. \n",
    "# Refer to this initial Optimal POV rate as POV* and the initial optimal Market Impact Cost as MI*.\n"
   ]
  },
  {
   "cell_type": "markdown",
   "metadata": {},
   "source": [
    "one-half way through the order (e.g., __50% complete__) for the following scenarios"
   ]
  },
  {
   "cell_type": "code",
   "execution_count": 14,
   "metadata": {
    "collapsed": false
   },
   "outputs": [
    {
     "data": {
      "text/plain": [
       "(array([ 0.22295589]), array([ 0.34851922]))"
      ]
     },
     "execution_count": 14,
     "metadata": {},
     "output_type": "execute_result"
    }
   ],
   "source": [
    "POV_star  = POV\n",
    "time_star = res.x\n",
    "POV_star,time_star\n"
   ]
  },
  {
   "cell_type": "markdown",
   "metadata": {},
   "source": [
    "# Optimal AIM Strategy"
   ]
  },
  {
   "cell_type": "code",
   "execution_count": 15,
   "metadata": {
    "collapsed": false
   },
   "outputs": [
    {
     "data": {
      "text/plain": [
       "array([ 17500.41087963])"
      ]
     },
     "execution_count": 15,
     "metadata": {},
     "output_type": "execute_result"
    }
   ],
   "source": [
    "con = [((Shares/0.9-Shares)/ADV,(Shares/0.005-Shares)/ADV)]\n",
    "\n",
    "#Stock = 'RLK'\n",
    "Shares = 100000\n",
    "Price = 50\n",
    "ADV = 1000000\n",
    "Volatility = 0.25\n",
    "Size = 0.10\n",
    "\n",
    "theta = 0.5   #50% complete\n",
    "side = 1      #buy\n",
    "delta_P = 0.1\n",
    "relized_cost  = 0.05\n",
    "\n",
    "def p_cost(time):\n",
    "    \n",
    "    M_cost  = (1-theta) * delta_P * side * Shares\n",
    "    #print M_cost\n",
    "    \n",
    "    mi_remain   =  (1-theta) * MI_model(Shares,Volatility,time,Size) / 10000 * Price * Shares\n",
    "    #print mi_remain\n",
    "\n",
    "    projected_cost = relized_cost + M_cost + mi_remain\n",
    "    \n",
    "    return projected_cost\n",
    "p_cost(time_star)"
   ]
  },
  {
   "cell_type": "code",
   "execution_count": 30,
   "metadata": {
    "collapsed": false
   },
   "outputs": [
    {
     "data": {
      "text/plain": [
       "array([ 11432.17856441])"
      ]
     },
     "execution_count": 30,
     "metadata": {},
     "output_type": "execute_result"
    }
   ],
   "source": [
    "def TR_t(time):\n",
    "    return Volatility*np.sqrt((1-theta)*1/250.*1/3.*time)* Price * Shares\n",
    "\n",
    "TR_t(time_star)"
   ]
  },
  {
   "cell_type": "code",
   "execution_count": 31,
   "metadata": {
    "collapsed": false
   },
   "outputs": [
    {
     "data": {
      "text/plain": [
       "array([ 18791.19911095])"
      ]
     },
     "execution_count": 31,
     "metadata": {},
     "output_type": "execute_result"
    }
   ],
   "source": [
    "ini_cost = MI_model(Shares,Volatility,time_star,Size)/10000 * Price * Shares\n",
    "ini_cost"
   ]
  },
  {
   "cell_type": "code",
   "execution_count": 32,
   "metadata": {
    "collapsed": false
   },
   "outputs": [
    {
     "data": {
      "text/plain": [
       "array([-0.77810625])"
      ]
     },
     "execution_count": 32,
     "metadata": {},
     "output_type": "execute_result"
    }
   ],
   "source": [
    "def AIM(t):\n",
    "    M_cost  = (1-theta)*delta_P*side * Shares\n",
    "    \n",
    "    mi_remain   =  (1-theta)*MI_model(Shares,Volatility,t,Size) / 10000 *Price * Shares\n",
    "\n",
    "    projected_cost = relized_cost+M_cost+mi_remain\n",
    "    \n",
    "    ini_cost = MI_model(Shares,Volatility,time_star,Size)/10000 * Price * Shares\n",
    "    \n",
    "    TR_t = Volatility*np.sqrt((1-theta)*1/250.*1/3.*t) * Price * Shares\n",
    "    \n",
    "    return -(ini_cost-projected_cost)/TR_t\n",
    "\n",
    "AIM(time_star)"
   ]
  },
  {
   "cell_type": "code",
   "execution_count": 33,
   "metadata": {
    "collapsed": false,
    "scrolled": false
   },
   "outputs": [
    {
     "name": "stdout",
     "output_type": "stream",
     "text": [
      "Optimization terminated successfully.    (Exit mode 0)\n",
      "            Current function value: -0.781830049664\n",
      "            Iterations: 11\n",
      "            Function evaluations: 39\n",
      "            Gradient evaluations: 11\n"
     ]
    }
   ],
   "source": [
    "res_a = minimize(AIM, 1,  bounds=con,\n",
    "                method='SLSQP', options={'disp': True})\n"
   ]
  },
  {
   "cell_type": "markdown",
   "metadata": {},
   "source": [
    "## time "
   ]
  },
  {
   "cell_type": "code",
   "execution_count": 34,
   "metadata": {
    "collapsed": false
   },
   "outputs": [
    {
     "name": "stdout",
     "output_type": "stream",
     "text": [
      "[ 0.40174085]\n"
     ]
    }
   ],
   "source": [
    "print res_a.x"
   ]
  },
  {
   "cell_type": "markdown",
   "metadata": {},
   "source": [
    "## POV"
   ]
  },
  {
   "cell_type": "code",
   "execution_count": 35,
   "metadata": {
    "collapsed": false
   },
   "outputs": [
    {
     "data": {
      "text/plain": [
       "array([ 0.19930608])"
      ]
     },
     "execution_count": 35,
     "metadata": {},
     "output_type": "execute_result"
    }
   ],
   "source": [
    "time_aim  =  res_a.x\n",
    "POV_pi = Shares/(Shares+time_aim*ADV)  \n",
    "POV_pi\n"
   ]
  },
  {
   "cell_type": "code",
   "execution_count": 36,
   "metadata": {
    "collapsed": true
   },
   "outputs": [],
   "source": [
    "# AIM plot"
   ]
  },
  {
   "cell_type": "code",
   "execution_count": 37,
   "metadata": {
    "collapsed": false,
    "scrolled": true
   },
   "outputs": [
    {
     "data": {
      "text/plain": [
       "[<matplotlib.lines.Line2D at 0x107b03890>]"
      ]
     },
     "execution_count": 37,
     "metadata": {},
     "output_type": "execute_result"
    },
    {
     "data": {
      "image/png": "[encoded data removed]",
      "text/plain": [
       "<matplotlib.figure.Figure at 0x107e69310>"
      ]
     },
     "metadata": {},
     "output_type": "display_data"
    }
   ],
   "source": [
    "plt.plot([-AIM(t) for t in xrange(1,1000)])"
   ]
  },
  {
   "cell_type": "markdown",
   "metadata": {},
   "source": [
    "# PIM"
   ]
  },
  {
   "cell_type": "code",
   "execution_count": 38,
   "metadata": {
    "collapsed": true
   },
   "outputs": [],
   "source": [
    "#Stock = 'RLK'\n",
    "Shares = 100000\n",
    "Price = 50\n",
    "ADV = 1000000\n",
    "Volatility = 0.15\n",
    "Size = 0.10\n",
    "\n",
    "theta = 0.5   #50% complete\n",
    "side = 1      #buy\n",
    "delta_P = 0.01\n",
    "relized_cost  = 0.15\n",
    "\n"
   ]
  },
  {
   "cell_type": "code",
   "execution_count": 39,
   "metadata": {
    "collapsed": false
   },
   "outputs": [
    {
     "data": {
      "text/plain": [
       "array([ 0.77810625])"
      ]
     },
     "execution_count": 39,
     "metadata": {},
     "output_type": "execute_result"
    }
   ],
   "source": [
    "def PIM(t):\n",
    "    M_cost  = (1-theta)*delta_P*side * Shares\n",
    "    \n",
    "    mi_remain   =  (1-theta)*MI_model(Shares,Volatility,t,Size)/10000 * Price * Shares\n",
    "    \n",
    "    projected_cost = relized_cost+M_cost+mi_remain\n",
    "    \n",
    "    ini_cost = MI_model(Shares,Volatility,time_star,Size)/10000 * Price * Shares\n",
    "    \n",
    "    TR_t = Volatility*np.sqrt((1-theta)*1/250.*1/3*t) * Price * Shares\n",
    "    \n",
    "    return -(projected_cost-ini_cost)/TR_t\n",
    "\n",
    "PIM(time_star)"
   ]
  },
  {
   "cell_type": "code",
   "execution_count": 40,
   "metadata": {
    "collapsed": false
   },
   "outputs": [
    {
     "data": {
      "text/plain": [
       "[<matplotlib.lines.Line2D at 0x107f35610>]"
      ]
     },
     "execution_count": 40,
     "metadata": {},
     "output_type": "execute_result"
    },
    {
     "data": {
      "image/png": "[encoded data removed]",
      "text/plain": [
       "<matplotlib.figure.Figure at 0x107f3e550>"
      ]
     },
     "metadata": {},
     "output_type": "display_data"
    }
   ],
   "source": [
    "plt.plot([-PIM(t) for t in xrange(1,1000)])"
   ]
  },
  {
   "cell_type": "code",
   "execution_count": 41,
   "metadata": {
    "collapsed": false
   },
   "outputs": [
    {
     "name": "stdout",
     "output_type": "stream",
     "text": [
      "Optimization terminated successfully.    (Exit mode 0)\n",
      "            Current function value: 0.197811770453\n",
      "            Iterations: 9\n",
      "            Function evaluations: 27\n",
      "            Gradient evaluations: 9\n"
     ]
    }
   ],
   "source": [
    "res_p = minimize(PIM, 1,  bounds= con,\n",
    "                method='SLSQP', options={'disp': True})\n"
   ]
  },
  {
   "cell_type": "markdown",
   "metadata": {},
   "source": [
    "# time"
   ]
  },
  {
   "cell_type": "code",
   "execution_count": 42,
   "metadata": {
    "collapsed": false
   },
   "outputs": [
    {
     "name": "stdout",
     "output_type": "stream",
     "text": [
      "[ 19.9]\n"
     ]
    }
   ],
   "source": [
    "print res_p.x"
   ]
  },
  {
   "cell_type": "markdown",
   "metadata": {},
   "source": [
    "# POV"
   ]
  },
  {
   "cell_type": "code",
   "execution_count": 43,
   "metadata": {
    "collapsed": false
   },
   "outputs": [
    {
     "data": {
      "text/plain": [
       "array([ 0.005])"
      ]
     },
     "execution_count": 43,
     "metadata": {},
     "output_type": "execute_result"
    }
   ],
   "source": [
    "time_pim  =  res_p.x\n",
    "POV_pi = Shares/(Shares+time_pim*ADV)  \n",
    "POV_pi"
   ]
  },
  {
   "cell_type": "code",
   "execution_count": null,
   "metadata": {
    "collapsed": true
   },
   "outputs": [],
   "source": []
  },
  {
   "cell_type": "code",
   "execution_count": null,
   "metadata": {
    "collapsed": true
   },
   "outputs": [],
   "source": []
  },
  {
   "cell_type": "code",
   "execution_count": null,
   "metadata": {
    "collapsed": true
   },
   "outputs": [],
   "source": []
  },
  {
   "cell_type": "code",
   "execution_count": null,
   "metadata": {
    "collapsed": true
   },
   "outputs": [],
   "source": []
  },
  {
   "cell_type": "code",
   "execution_count": null,
   "metadata": {
    "collapsed": true
   },
   "outputs": [],
   "source": []
  },
  {
   "cell_type": "code",
   "execution_count": null,
   "metadata": {
    "collapsed": true
   },
   "outputs": [],
   "source": []
  },
  {
   "cell_type": "code",
   "execution_count": null,
   "metadata": {
    "collapsed": true
   },
   "outputs": [],
   "source": []
  }
 ],
 "metadata": {
  "kernelspec": {
   "display_name": "Python [conda env:py2.7]",
   "language": "python",
   "name": "conda-env-py2.7-py"
  },
  "language_info": {
   "codemirror_mode": {
    "name": "ipython",
    "version": 2
   },
   "file_extension": ".py",
   "mimetype": "text/x-python",
   "name": "python",
   "nbconvert_exporter": "python",
   "pygments_lexer": "ipython2",
   "version": "2.7.13"
  }
 },
 "nbformat": 4,
 "nbformat_minor": 2
}
