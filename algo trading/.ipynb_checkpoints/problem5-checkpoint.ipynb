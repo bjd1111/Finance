{
 "cells": [
  {
   "cell_type": "code",
   "execution_count": 168,
   "metadata": {
    "collapsed": true
   },
   "outputs": [],
   "source": [
    "coeffs = [698.74940594355189, 0.3429159597976898, 0.55893058943625173, 0.74906715225239062, 0.97462393173698603]     #from problem 2\n",
    "\n",
    "def MI_model(shares,v,time,size):\n",
    "    \"market impact function\"\n",
    "    ADV = shares/ size\n",
    "    POV = shares/(shares+time*ADV)  \n",
    "    \n",
    "    \n",
    "    return coeffs[0]*(size**coeffs[1])*(v **coeffs[2]) * (coeffs[4]*(POV **coeffs[3])+ (1-coeffs[4]))\n",
    "\n",
    "def TR(time,sigma):\n",
    "    return sigma*np.sqrt(1/250.*1/3.*time)*(10**4)\n",
    "\n",
    "\n",
    "    "
   ]
  },
  {
   "cell_type": "code",
   "execution_count": 169,
   "metadata": {
    "collapsed": true
   },
   "outputs": [],
   "source": [
    "import pandas as pd\n",
    "import numpy as np\n",
    "\n",
    "#Stock = 'RLK'\n",
    "Shares = 100000\n",
    "#Side = Buy\n",
    "Price = 50\n",
    "ADV = 1000000\n",
    "Volatility = 0.25\n",
    "Size = 0.10\n",
    "time = 1"
   ]
  },
  {
   "cell_type": "code",
   "execution_count": null,
   "metadata": {
    "collapsed": true
   },
   "outputs": [],
   "source": []
  },
  {
   "cell_type": "code",
   "execution_count": 170,
   "metadata": {},
   "outputs": [
    {
     "data": {
      "text/plain": [
       "27.350209284781116"
      ]
     },
     "execution_count": 170,
     "metadata": {},
     "output_type": "execute_result"
    }
   ],
   "source": [
    "mi = MI_model(Shares,Volatility,time,Size)\n",
    "mi\n"
   ]
  },
  {
   "cell_type": "markdown",
   "metadata": {},
   "source": [
    "# Calculate the Optimal POV rate that solves the Trader’s Dilemma for a Lambda value of 1.\n",
    "# Minimize MI + Lambda * TR (where Lambda=1)."
   ]
  },
  {
   "cell_type": "code",
   "execution_count": 171,
   "metadata": {},
   "outputs": [
    {
     "data": {
      "text/plain": [
       "118.6373022023088"
      ]
     },
     "execution_count": 171,
     "metadata": {},
     "output_type": "execute_result"
    }
   ],
   "source": [
    "\n",
    "Lambda = 1\n",
    "time = 1\n",
    "\n",
    "def fuc(time):\n",
    "    return MI_model(Shares,Volatility,time,Size) + Lambda * TR(time,Volatility)\n",
    "\n",
    "fuc(time)\n"
   ]
  },
  {
   "cell_type": "code",
   "execution_count": null,
   "metadata": {},
   "outputs": [],
   "source": []
  },
  {
   "cell_type": "code",
   "execution_count": 172,
   "metadata": {},
   "outputs": [
    {
     "name": "stdout",
     "output_type": "stream",
     "text": [
      "Optimization terminated successfully.    (Exit mode 0)\n",
      "            Current function value: 103.893250559\n",
      "            Iterations: 8\n",
      "            Function evaluations: 29\n",
      "            Gradient evaluations: 8\n"
     ]
    }
   ],
   "source": [
    "res = minimize(fuc, 1,  bounds=[(0.005, 0.9)],\n",
    "                method='SLSQP', options={'disp': True})"
   ]
  },
  {
   "cell_type": "code",
   "execution_count": null,
   "metadata": {},
   "outputs": [],
   "source": []
  },
  {
   "cell_type": "code",
   "execution_count": 173,
   "metadata": {},
   "outputs": [
    {
     "name": "stdout",
     "output_type": "stream",
     "text": [
      "[ 0.3485718]\n"
     ]
    }
   ],
   "source": [
    "print(res.x)"
   ]
  },
  {
   "cell_type": "code",
   "execution_count": 174,
   "metadata": {},
   "outputs": [
    {
     "data": {
      "text/plain": [
       "array([ 0.22292975])"
      ]
     },
     "execution_count": 174,
     "metadata": {},
     "output_type": "execute_result"
    }
   ],
   "source": [
    "time  =  res.x\n",
    "POV = Shares/(Shares+time*ADV)  \n",
    "POV"
   ]
  },
  {
   "cell_type": "code",
   "execution_count": 175,
   "metadata": {},
   "outputs": [
    {
     "data": {
      "text/plain": [
       "array([ 49.99737879])"
      ]
     },
     "execution_count": 175,
     "metadata": {},
     "output_type": "execute_result"
    }
   ],
   "source": [
    "MI_model(Shares,Volatility,time,Size) "
   ]
  },
  {
   "cell_type": "markdown",
   "metadata": {},
   "source": [
    "# Calculate the Optimal POV rate that maximizes the probability of out-performing a cost of 80bp. \n",
    "#  Price Improvement strategy"
   ]
  },
  {
   "cell_type": "code",
   "execution_count": 129,
   "metadata": {},
   "outputs": [
    {
     "data": {
      "text/plain": [
       "-0.57674956045302872"
      ]
     },
     "execution_count": 129,
     "metadata": {},
     "output_type": "execute_result"
    }
   ],
   "source": [
    "cost = 80                                #80bp\n",
    "\n",
    "def pi(time,sign = -1):\n",
    "    #sign = -1 the function is to maximize\n",
    "    return sign*(cost - MI_model(Shares,Volatility,time,Size))/TR(time,Volatility)\n",
    "\n",
    "pi(1,sign = -1)"
   ]
  },
  {
   "cell_type": "code",
   "execution_count": null,
   "metadata": {},
   "outputs": [],
   "source": []
  },
  {
   "cell_type": "code",
   "execution_count": 134,
   "metadata": {},
   "outputs": [
    {
     "name": "stdout",
     "output_type": "stream",
     "text": [
      "Optimization terminated successfully.    (Exit mode 0)\n",
      "            Current function value: -0.609890788423\n",
      "            Iterations: 7\n",
      "            Function evaluations: 23\n",
      "            Gradient evaluations: 7\n"
     ]
    }
   ],
   "source": [
    "res1 = minimize(pi, 1,  bounds=[(0.005, 0.9)],\n",
    "                method='SLSQP', options={'disp': True})"
   ]
  },
  {
   "cell_type": "code",
   "execution_count": 135,
   "metadata": {},
   "outputs": [
    {
     "name": "stdout",
     "output_type": "stream",
     "text": [
      "[ 0.59284204]\n"
     ]
    }
   ],
   "source": [
    "print(res1.x)"
   ]
  },
  {
   "cell_type": "code",
   "execution_count": 137,
   "metadata": {},
   "outputs": [
    {
     "data": {
      "text/plain": [
       "array([ 0.14433304])"
      ]
     },
     "execution_count": 137,
     "metadata": {},
     "output_type": "execute_result"
    }
   ],
   "source": [
    "time1  =  res1.x\n",
    "POV_pi = Shares/(Shares+time1*ADV)  \n",
    "POV_pi"
   ]
  },
  {
   "cell_type": "markdown",
   "metadata": {},
   "source": [
    "# Construct the Efficient Trading Frontier – e.g., the set of all optimal trading strategies. \n",
    "# This is similar to the efficient frontier. The y-axis is the Market Impact Cost and the x-axis is the Timing Risk. "
   ]
  },
  {
   "cell_type": "code",
   "execution_count": 138,
   "metadata": {},
   "outputs": [
    {
     "data": {
      "text/plain": [
       "<matplotlib.text.Text at 0x10dd79450>"
      ]
     },
     "execution_count": 138,
     "metadata": {},
     "output_type": "execute_result"
    },
    {
     "data": {
      "image/png": "[encoded data removed]",
      "text/plain": [
       "<matplotlib.figure.Figure at 0x13ddc7f50>"
      ]
     },
     "metadata": {},
     "output_type": "display_data"
    }
   ],
   "source": [
    "import matplotlib.pyplot as plt\n",
    "%matplotlib inline\n",
    "\n",
    "\n",
    "Shares = 100000\n",
    "\n",
    "Price = 50\n",
    "ADV = 1000000\n",
    "Volatility = 0.25\n",
    "Size = 0.10\n",
    "time = 1\n",
    "\n",
    "y = [MI_model(Shares,Volatility,time,Size) for time in np.linspace(0,10,100,)]\n",
    "x = [TR(time,Volatility) for time in np.linspace(0,10,100)]\n",
    "#print y\n",
    "plt.plot(x,y)\n",
    "plt.xlabel('TR(bp)')\n",
    "plt.ylabel('MI(bp)')\n",
    "plt.title('Efficient Trading Frontier')"
   ]
  },
  {
   "cell_type": "markdown",
   "metadata": {},
   "source": [
    "# Select your initial trading strategy based on the optimization of the Trader’s Dilemma using a lambda value of 1. \n",
    "# Refer to this initial Optimal POV rate as POV* and the initial optimal Market Impact Cost as MI*.\n"
   ]
  },
  {
   "cell_type": "markdown",
   "metadata": {},
   "source": [
    "one-half way through the order (e.g., __50% complete__) for the following scenarios"
   ]
  },
  {
   "cell_type": "code",
   "execution_count": 139,
   "metadata": {},
   "outputs": [
    {
     "data": {
      "text/plain": [
       "(array([ 0.22292975]), array([ 0.3485718]))"
      ]
     },
     "execution_count": 139,
     "metadata": {},
     "output_type": "execute_result"
    }
   ],
   "source": [
    "POV_star  = POV\n",
    "time_star = res.x\n",
    "POV_star,time_star\n"
   ]
  },
  {
   "cell_type": "markdown",
   "metadata": {},
   "source": [
    "# Optimal AIM Strategy"
   ]
  },
  {
   "cell_type": "code",
   "execution_count": 302,
   "metadata": {},
   "outputs": [
    {
     "data": {
      "text/plain": [
       "array([ 0.22499345])"
      ]
     },
     "execution_count": 302,
     "metadata": {},
     "output_type": "execute_result"
    }
   ],
   "source": [
    "#Stock = 'RLK'\n",
    "Shares = 100000\n",
    "Price = 50\n",
    "ADV = 1000000\n",
    "Volatility = 0.25\n",
    "Size = 0.10\n",
    "\n",
    "theta = 0.5   #50% complete\n",
    "side = 1      #buy\n",
    "delta_P = 0.1\n",
    "relized_cost  = 0.05\n",
    "\n",
    "def p_cost(time):\n",
    "    \n",
    "    M_cost  = (1-theta) * delta_P * side\n",
    "    #print M_cost\n",
    "    \n",
    "    mi_remain   =  (1-theta) * MI_model(Shares,Volatility,time,Size) / 10000 * Price\n",
    "    #print mi_remain\n",
    "\n",
    "    projected_cost = relized_cost + M_cost + mi_remain\n",
    "    \n",
    "    return projected_cost\n",
    "p_cost(time_star)"
   ]
  },
  {
   "cell_type": "code",
   "execution_count": 303,
   "metadata": {},
   "outputs": [
    {
     "data": {
      "text/plain": [
       "array([ 0.19055068])"
      ]
     },
     "execution_count": 303,
     "metadata": {},
     "output_type": "execute_result"
    }
   ],
   "source": [
    "def TR_t(time):\n",
    "    return Volatility*np.sqrt((1-theta)*1/250.*1/3.*time)* Price\n",
    "\n",
    "TR_t(time_star)"
   ]
  },
  {
   "cell_type": "code",
   "execution_count": 304,
   "metadata": {},
   "outputs": [
    {
     "data": {
      "text/plain": [
       "array([ 0.24998689])"
      ]
     },
     "execution_count": 304,
     "metadata": {},
     "output_type": "execute_result"
    }
   ],
   "source": [
    "ini_cost = MI_model(Shares,Volatility,time_star,Size)/10000 * Price\n",
    "ini_cost"
   ]
  },
  {
   "cell_type": "code",
   "execution_count": 305,
   "metadata": {},
   "outputs": [
    {
     "data": {
      "text/plain": [
       "array([-0.1311643])"
      ]
     },
     "execution_count": 305,
     "metadata": {},
     "output_type": "execute_result"
    }
   ],
   "source": [
    "def AIM(t):\n",
    "    M_cost  = (1-theta)*delta_P*side\n",
    "    \n",
    "    mi_remain   =  (1-theta)*MI_model(Shares,Volatility,t,Size) / 10000 *Price\n",
    "\n",
    "    projected_cost = relized_cost+M_cost+mi_remain\n",
    "    \n",
    "    ini_cost = MI_model(Shares,Volatility,time_star,Size)/10000 * Price\n",
    "    \n",
    "    TR_t = Volatility*np.sqrt((1-theta)*1/250.*1/3.*t) * Price\n",
    "    \n",
    "    return -(ini_cost-projected_cost)/TR_t\n",
    "\n",
    "AIM(time_star)"
   ]
  },
  {
   "cell_type": "code",
   "execution_count": null,
   "metadata": {},
   "outputs": [],
   "source": []
  },
  {
   "cell_type": "code",
   "execution_count": 306,
   "metadata": {
    "scrolled": false
   },
   "outputs": [
    {
     "name": "stdout",
     "output_type": "stream",
     "text": [
      "Optimization terminated successfully.    (Exit mode 0)\n",
      "            Current function value: -0.252874628591\n",
      "            Iterations: 2\n",
      "            Function evaluations: 10\n",
      "            Gradient evaluations: 2\n"
     ]
    }
   ],
   "source": [
    "res_a = minimize(AIM, 1,  bounds=[(0.05, 0.9)],\n",
    "                method='SLSQP', options={'disp': True})\n"
   ]
  },
  {
   "cell_type": "code",
   "execution_count": 307,
   "metadata": {},
   "outputs": [
    {
     "name": "stdout",
     "output_type": "stream",
     "text": [
      "[ 0.98738578]\n"
     ]
    }
   ],
   "source": [
    "print res_a.x"
   ]
  },
  {
   "cell_type": "code",
   "execution_count": 308,
   "metadata": {},
   "outputs": [
    {
     "data": {
      "text/plain": [
       "array([ 0.09196368])"
      ]
     },
     "execution_count": 308,
     "metadata": {},
     "output_type": "execute_result"
    }
   ],
   "source": [
    "time_aim  =  res_a.x\n",
    "POV_pi = Shares/(Shares+time_aim*ADV)  \n",
    "POV_pi"
   ]
  },
  {
   "cell_type": "code",
   "execution_count": 309,
   "metadata": {
    "scrolled": true
   },
   "outputs": [
    {
     "data": {
      "text/plain": [
       "[<matplotlib.lines.Line2D at 0x10f7ac550>]"
      ]
     },
     "execution_count": 309,
     "metadata": {},
     "output_type": "execute_result"
    },
    {
     "data": {
      "image/png": "[encoded data removed]",
      "text/plain": [
       "<matplotlib.figure.Figure at 0x10f868950>"
      ]
     },
     "metadata": {},
     "output_type": "display_data"
    }
   ],
   "source": [
    "plt.plot([AIM(t) for t in xrange(1,1000)])"
   ]
  },
  {
   "cell_type": "markdown",
   "metadata": {},
   "source": [
    "# PIM"
   ]
  },
  {
   "cell_type": "code",
   "execution_count": 310,
   "metadata": {
    "collapsed": true
   },
   "outputs": [],
   "source": [
    "#Stock = 'RLK'\n",
    "Shares = 100000\n",
    "Price = 50\n",
    "ADV = 1000000\n",
    "Volatility = 0.15\n",
    "Size = 0.10\n",
    "\n",
    "theta = 0.5   #50% complete\n",
    "side = 1      #buy\n",
    "delta_P = 0.01\n",
    "relized_cost  = 0.15\n",
    "\n"
   ]
  },
  {
   "cell_type": "code",
   "execution_count": 311,
   "metadata": {},
   "outputs": [
    {
     "data": {
      "text/plain": [
       "array([-0.53399304])"
      ]
     },
     "execution_count": 311,
     "metadata": {},
     "output_type": "execute_result"
    }
   ],
   "source": [
    "def PIM(t):\n",
    "    M_cost  = (1-theta)*delta_P*side\n",
    "    \n",
    "    mi_remain   =  (1-theta)*MI_model(Shares,Volatility,t,Size)/10000 * Price\n",
    "    \n",
    "    projected_cost = relized_cost+M_cost+mi_remain\n",
    "    \n",
    "    ini_cost = MI_model(Shares,Volatility,time_star,Size)/10000 * Price\n",
    "    \n",
    "    TR_t = Volatility*np.sqrt((1-theta)*1/250.*1/3*t) * Price\n",
    "    \n",
    "    return -(projected_cost-ini_cost)/TR_t\n",
    "\n",
    "PIM(time_star)"
   ]
  },
  {
   "cell_type": "code",
   "execution_count": 312,
   "metadata": {},
   "outputs": [
    {
     "data": {
      "text/plain": [
       "[<matplotlib.lines.Line2D at 0x10f153410>]"
      ]
     },
     "execution_count": 312,
     "metadata": {},
     "output_type": "execute_result"
    },
    {
     "data": {
      "image/png": "[encoded data removed]",
      "text/plain": [
       "<matplotlib.figure.Figure at 0x10fa5f890>"
      ]
     },
     "metadata": {},
     "output_type": "display_data"
    }
   ],
   "source": [
    "plt.plot([PIM(t) for t in xrange(1,1000)])"
   ]
  },
  {
   "cell_type": "code",
   "execution_count": null,
   "metadata": {},
   "outputs": [],
   "source": []
  },
  {
   "cell_type": "code",
   "execution_count": 313,
   "metadata": {},
   "outputs": [
    {
     "name": "stdout",
     "output_type": "stream",
     "text": [
      "Positive directional derivative for linesearch    (Exit mode 8)\n",
      "            Current function value: -16.9562056428\n",
      "            Iterations: 7\n",
      "            Function evaluations: 9\n",
      "            Gradient evaluations: 3\n"
     ]
    }
   ],
   "source": [
    "res_p = minimize(PIM, 1,  bounds=[(0.005, 0.9)],\n",
    "                method='SLSQP', options={'disp': True})\n"
   ]
  },
  {
   "cell_type": "code",
   "execution_count": 314,
   "metadata": {},
   "outputs": [
    {
     "name": "stdout",
     "output_type": "stream",
     "text": [
      "[ 0.005]\n"
     ]
    }
   ],
   "source": [
    "print res_p.x"
   ]
  },
  {
   "cell_type": "code",
   "execution_count": 315,
   "metadata": {},
   "outputs": [
    {
     "data": {
      "text/plain": [
       "array([ 0.95238095])"
      ]
     },
     "execution_count": 315,
     "metadata": {},
     "output_type": "execute_result"
    }
   ],
   "source": [
    "time_pim  =  res_p.x\n",
    "POV_pi = Shares/(Shares+time_pim*ADV)  \n",
    "POV_pi"
   ]
  },
  {
   "cell_type": "code",
   "execution_count": null,
   "metadata": {
    "collapsed": true
   },
   "outputs": [],
   "source": []
  },
  {
   "cell_type": "code",
   "execution_count": null,
   "metadata": {
    "collapsed": true
   },
   "outputs": [],
   "source": []
  },
  {
   "cell_type": "code",
   "execution_count": null,
   "metadata": {
    "collapsed": true
   },
   "outputs": [],
   "source": []
  },
  {
   "cell_type": "code",
   "execution_count": null,
   "metadata": {
    "collapsed": true
   },
   "outputs": [],
   "source": []
  },
  {
   "cell_type": "code",
   "execution_count": null,
   "metadata": {
    "collapsed": true
   },
   "outputs": [],
   "source": []
  },
  {
   "cell_type": "code",
   "execution_count": null,
   "metadata": {
    "collapsed": true
   },
   "outputs": [],
   "source": []
  },
  {
   "cell_type": "code",
   "execution_count": null,
   "metadata": {
    "collapsed": true
   },
   "outputs": [],
   "source": []
  },
  {
   "cell_type": "code",
   "execution_count": null,
   "metadata": {
    "collapsed": true
   },
   "outputs": [],
   "source": []
  },
  {
   "cell_type": "code",
   "execution_count": null,
   "metadata": {
    "collapsed": true
   },
   "outputs": [],
   "source": []
  },
  {
   "cell_type": "code",
   "execution_count": null,
   "metadata": {
    "collapsed": true
   },
   "outputs": [],
   "source": []
  },
  {
   "cell_type": "code",
   "execution_count": null,
   "metadata": {
    "collapsed": true
   },
   "outputs": [],
   "source": []
  },
  {
   "cell_type": "code",
   "execution_count": null,
   "metadata": {
    "collapsed": true
   },
   "outputs": [],
   "source": []
  },
  {
   "cell_type": "code",
   "execution_count": null,
   "metadata": {
    "collapsed": true
   },
   "outputs": [],
   "source": []
  },
  {
   "cell_type": "code",
   "execution_count": null,
   "metadata": {
    "collapsed": true
   },
   "outputs": [],
   "source": []
  }
 ],
 "metadata": {
  "kernelspec": {
   "display_name": "Python 2",
   "language": "python",
   "name": "python2"
  },
  "language_info": {
   "codemirror_mode": {
    "name": "ipython",
    "version": 2
   },
   "file_extension": ".py",
   "mimetype": "text/x-python",
   "name": "python",
   "nbconvert_exporter": "python",
   "pygments_lexer": "ipython2",
   "version": "2.7.13"
  }
 },
 "nbformat": 4,
 "nbformat_minor": 2
}
