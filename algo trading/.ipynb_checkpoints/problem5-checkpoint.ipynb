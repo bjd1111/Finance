{
 "cells": [
  {
   "cell_type": "code",
   "execution_count": 1,
   "metadata": {
    "collapsed": true
   },
   "outputs": [],
   "source": [
    "coeffs = [698.74940594355189, 0.3429159597976898, 0.55893058943625173, 0.74906715225239062, 0.97462393173698603]     #from problem 2\n",
    "def MI_model(s,v,time,size):\n",
    "    \"market impact function\"\n",
    "    ADV = Shares/ Size\n",
    "    POV = Shares/(Shares+time*ADV)   \n",
    "    \n",
    "\n",
    "\n",
    "    return coeffs[0]*(s**coeffs[1])*(v **coeffs[2]) * (coeffs[4]*(POV **coeffs[3])+ (1-coeffs[4]))\n",
    "\n",
    "def TR(time,sigma):\n",
    "    return sigma*np.sqrt(1/250.*1/3.*time)*10**4\n",
    "\n",
    "def PA(alpha,time):\n",
    "    \n",
    "    return 0.5*alpha*(time)\n",
    "    "
   ]
  },
  {
   "cell_type": "code",
   "execution_count": 2,
   "metadata": {},
   "outputs": [],
   "source": [
    "import pandas as pd\n",
    "import numpy as np\n",
    "\n",
    "#Stock = 'RLK'\n",
    "Shares = 100000\n",
    "#Side = Buy\n",
    "Price = 50\n",
    "ADV = 1000000\n",
    "Volatility = 0.25\n",
    "Size = 0.10\n",
    "time = 1"
   ]
  },
  {
   "cell_type": "code",
   "execution_count": null,
   "metadata": {},
   "outputs": [],
   "source": []
  },
  {
   "cell_type": "code",
   "execution_count": 3,
   "metadata": {},
   "outputs": [
    {
     "data": {
      "text/plain": [
       "3122.169038825855"
      ]
     },
     "execution_count": 3,
     "metadata": {},
     "output_type": "execute_result"
    }
   ],
   "source": [
    "mi = MI_model(Shares,Volatility,time,Size)\n",
    "mi\n"
   ]
  },
  {
   "cell_type": "markdown",
   "metadata": {},
   "source": [
    "# Calculate the Optimal POV rate that solves the Trader’s Dilemma for a Lambda value of 1.\n",
    "# Minimize MI + Lambda * TR (where Lambda=1)."
   ]
  },
  {
   "cell_type": "code",
   "execution_count": 4,
   "metadata": {},
   "outputs": [
    {
     "data": {
      "text/plain": [
       "3213.4561317433827"
      ]
     },
     "execution_count": 4,
     "metadata": {},
     "output_type": "execute_result"
    }
   ],
   "source": [
    "\n",
    "Lambda = 1\n",
    "time = 1\n",
    "\n",
    "\n",
    "def fuc(time):\n",
    "    return MI_model(Shares,Volatility,time,Size) + Lambda * TR(time,Volatility)\n",
    "\n",
    "fuc(time)"
   ]
  },
  {
   "cell_type": "code",
   "execution_count": 12,
   "metadata": {},
   "outputs": [
    {
     "name": "stdout",
     "output_type": "stream",
     "text": [
      "Optimization terminated successfully.\n",
      "         Current function value: 1136.815386\n",
      "         Iterations: 25\n",
      "         Function evaluations: 50\n"
     ]
    }
   ],
   "source": [
    "\n",
    "from scipy.optimize import minimize\n",
    "res = minimize(fuc, 1, method='nelder-mead',\n",
    "                options={'disp': True})\n"
   ]
  },
  {
   "cell_type": "code",
   "execution_count": null,
   "metadata": {},
   "outputs": [],
   "source": []
  },
  {
   "cell_type": "code",
   "execution_count": 6,
   "metadata": {},
   "outputs": [
    {
     "name": "stdout",
     "output_type": "stream",
     "text": [
      "[ 21.88125]\n"
     ]
    }
   ],
   "source": [
    "print(res.x)"
   ]
  },
  {
   "cell_type": "code",
   "execution_count": 14,
   "metadata": {},
   "outputs": [
    {
     "data": {
      "text/plain": [
       "array([ 0.00454934])"
      ]
     },
     "execution_count": 14,
     "metadata": {},
     "output_type": "execute_result"
    }
   ],
   "source": [
    "time  =  res.x\n",
    "POV = Shares/(Shares+time*ADV)  \n",
    "POV"
   ]
  },
  {
   "cell_type": "markdown",
   "metadata": {},
   "source": [
    "# Calculate the Optimal POV rate that maximizes the probability of out-performing a cost of 80bp. \n",
    "#  Price Improvement strategy"
   ]
  },
  {
   "cell_type": "code",
   "execution_count": 15,
   "metadata": {},
   "outputs": [
    {
     "data": {
      "text/plain": [
       "33.330769351749652"
      ]
     },
     "execution_count": 15,
     "metadata": {},
     "output_type": "execute_result"
    }
   ],
   "source": [
    "cost = 80                                #80bp\n",
    "alpha = 1                                #trade rate at Time t alpha = shares traded(complete)/volume over trading Horizon\n",
    "def pi(time,sign = -1):\n",
    "    #sign = -1 the function is to maximize\n",
    "    return sign*(cost - (MI_model(Shares,Volatility,time,Size)+PA(alpha,time)))/TR(time,Volatility)\n",
    "\n",
    "pi(1,sign = -1)"
   ]
  },
  {
   "cell_type": "code",
   "execution_count": 16,
   "metadata": {},
   "outputs": [
    {
     "name": "stdout",
     "output_type": "stream",
     "text": [
      "Optimization terminated successfully.\n",
      "         Current function value: 0.295436\n",
      "         Iterations: 36\n",
      "         Function evaluations: 72\n"
     ]
    }
   ],
   "source": [
    "res1 = minimize(pi, 1, method='nelder-mead',\n",
    "                options={'disp': True})"
   ]
  },
  {
   "cell_type": "code",
   "execution_count": 17,
   "metadata": {},
   "outputs": [
    {
     "name": "stdout",
     "output_type": "stream",
     "text": [
      "[ 785.15087891]\n"
     ]
    }
   ],
   "source": [
    "print(res1.x)"
   ]
  },
  {
   "cell_type": "code",
   "execution_count": 18,
   "metadata": {},
   "outputs": [
    {
     "data": {
      "text/plain": [
       "array([ 0.00012735])"
      ]
     },
     "execution_count": 18,
     "metadata": {},
     "output_type": "execute_result"
    }
   ],
   "source": [
    "time1  =  res1.x\n",
    "POV_pi = Shares/(Shares+time1*ADV)  \n",
    "POV_pi"
   ]
  },
  {
   "cell_type": "markdown",
   "metadata": {},
   "source": [
    "# Construct the Efficient Trading Frontier – e.g., the set of all optimal trading strategies. \n",
    "# This is similar to the efficient frontier. The y-axis is the Market Impact Cost and the x-axis is the Timing Risk. "
   ]
  },
  {
   "cell_type": "code",
   "execution_count": 19,
   "metadata": {},
   "outputs": [
    {
     "data": {
      "text/plain": [
       "<matplotlib.text.Text at 0x106e75c50>"
      ]
     },
     "execution_count": 19,
     "metadata": {},
     "output_type": "execute_result"
    },
    {
     "data": {
      "image/png": "[encoded data removed]",
      "text/plain": [
       "<matplotlib.figure.Figure at 0x106da2c90>"
      ]
     },
     "metadata": {},
     "output_type": "display_data"
    }
   ],
   "source": [
    "import matplotlib.pyplot as plt\n",
    "%matplotlib inline\n",
    "\n",
    "\n",
    "Shares = 100000\n",
    "\n",
    "Price = 50\n",
    "ADV = 1000000\n",
    "Volatility = 0.25\n",
    "Size = 0.10\n",
    "time = 1\n",
    "\n",
    "y = [MI_model(Shares,Volatility,time,Size) for time in np.linspace(0,10,100,)]\n",
    "x = [TR(time,Volatility) for time in np.linspace(0,10,100)]\n",
    "#print y\n",
    "plt.plot(x,y)\n",
    "plt.xlabel('TR(bp)')\n",
    "plt.ylabel('MI(bp)')\n",
    "plt.title('Efficient Trading Frontier')"
   ]
  },
  {
   "cell_type": "markdown",
   "metadata": {},
   "source": [
    "# Select your initial trading strategy based on the optimization of the Trader’s Dilemma using a lambda value of 1. \n",
    "# Refer to this initial Optimal POV rate as POV* and the initial optimal Market Impact Cost as MI*.\n"
   ]
  },
  {
   "cell_type": "markdown",
   "metadata": {},
   "source": [
    "one-half way through the order (e.g., __50% complete__) for the following scenarios"
   ]
  },
  {
   "cell_type": "code",
   "execution_count": 20,
   "metadata": {},
   "outputs": [
    {
     "data": {
      "text/plain": [
       "(array([ 0.00454934]), array([ 21.88119431]))"
      ]
     },
     "execution_count": 20,
     "metadata": {},
     "output_type": "execute_result"
    }
   ],
   "source": [
    "POV_star  = POV\n",
    "time_star = res.x\n",
    "POV_star,time_star\n"
   ]
  },
  {
   "cell_type": "markdown",
   "metadata": {},
   "source": [
    "# Optimal AIM Strategy"
   ]
  },
  {
   "cell_type": "code",
   "execution_count": 21,
   "metadata": {},
   "outputs": [
    {
     "data": {
      "text/plain": [
       "array([ 360.46962747])"
      ]
     },
     "execution_count": 21,
     "metadata": {},
     "output_type": "execute_result"
    }
   ],
   "source": [
    "#Stock = 'RLK'\n",
    "Shares = 100000\n",
    "Price = 50\n",
    "ADV = 1000000\n",
    "Volatility = 0.25\n",
    "Size = 0.10\n",
    "alpha = 1                                #trade rate at Time t alpha = shares traded(complete)/volume over trading Horizon\n",
    "\n",
    "theta = 0.5   #50% complete\n",
    "side = 1      #buy\n",
    "delta_P = 0.1\n",
    "relized_cost  = 0.05\n",
    "\n",
    "def p_cost(time):\n",
    "    M_cost  = (1-theta)*delta_P*side\n",
    "    mi_remain   =  (1-theta)*MI_model(Shares,Volatility,time,Size)\n",
    "    alpha_trend = (1-theta)*PA(alpha,time)\n",
    "    projected_cost = relized_cost+M_cost+mi_remain+alpha_trend\n",
    "    return projected_cost\n",
    "p_cost(time_star)"
   ]
  },
  {
   "cell_type": "code",
   "execution_count": 22,
   "metadata": {},
   "outputs": [
    {
     "data": {
      "text/plain": [
       "array([ 41.3457169])"
      ]
     },
     "execution_count": 22,
     "metadata": {},
     "output_type": "execute_result"
    }
   ],
   "source": [
    "def TR_t(time):\n",
    "    return Volatility*np.sqrt((1-theta)*time)*Price\n",
    "TR_t(time_star)"
   ]
  },
  {
   "cell_type": "code",
   "execution_count": 23,
   "metadata": {},
   "outputs": [
    {
     "data": {
      "text/plain": [
       "array([ 709.79865777])"
      ]
     },
     "execution_count": 23,
     "metadata": {},
     "output_type": "execute_result"
    }
   ],
   "source": [
    "ini_cost = MI_model(Shares,Volatility,time_star,Size)\n",
    "ini_cost"
   ]
  },
  {
   "cell_type": "code",
   "execution_count": 35,
   "metadata": {},
   "outputs": [
    {
     "data": {
      "text/plain": [
       "array([ 10.52613499])"
      ]
     },
     "execution_count": 35,
     "metadata": {},
     "output_type": "execute_result"
    }
   ],
   "source": [
    "def AIM(t):\n",
    "    M_cost  = (1-theta)*delta_P*side\n",
    "    mi_remain   =  (1-theta)*MI_model(Shares,Volatility,t,Size)\n",
    "    alpha_trend = (1-theta)*PA(alpha,t)\n",
    "    projected_cost = relized_cost+M_cost+mi_remain+alpha_trend\n",
    "    \n",
    "    ini_cost = MI_model(Shares,Volatility,time_star,Size)\n",
    "    \n",
    "    TR_t = Volatility*np.sqrt((1-theta)*t)*Price\n",
    "    \n",
    "    return (ini_cost-projected_cost)/TR_t\n",
    "\n",
    "AIM(time_star)"
   ]
  },
  {
   "cell_type": "code",
   "execution_count": 64,
   "metadata": {
    "scrolled": false
   },
   "outputs": [
    {
     "name": "stdout",
     "output_type": "stream",
     "text": [
      "Optimization terminated successfully.    (Exit mode 0)\n",
      "            Current function value: -3488.66824127\n",
      "            Iterations: 2\n",
      "            Function evaluations: 7\n",
      "            Gradient evaluations: 2\n"
     ]
    }
   ],
   "source": [
    "res_a = minimize(AIM, 1,  bounds=[(0.05, 5)],\n",
    "                method='SLSQP', options={'disp': True})\n"
   ]
  },
  {
   "cell_type": "code",
   "execution_count": 66,
   "metadata": {},
   "outputs": [
    {
     "name": "stdout",
     "output_type": "stream",
     "text": [
      "[ 0.05]\n"
     ]
    }
   ],
   "source": [
    "print res_a.x"
   ]
  },
  {
   "cell_type": "code",
   "execution_count": null,
   "metadata": {},
   "outputs": [],
   "source": []
  },
  {
   "cell_type": "code",
   "execution_count": 67,
   "metadata": {
    "scrolled": true
   },
   "outputs": [
    {
     "data": {
      "text/plain": [
       "[<matplotlib.lines.Line2D at 0x107cbd090>]"
      ]
     },
     "execution_count": 67,
     "metadata": {},
     "output_type": "execute_result"
    },
    {
     "data": {
      "image/png": "[encoded data removed]",
      "text/plain": [
       "<matplotlib.figure.Figure at 0x107ac0c90>"
      ]
     },
     "metadata": {},
     "output_type": "display_data"
    }
   ],
   "source": [
    "plt.plot([AIM(t) for t in xrange(1,1000)])"
   ]
  },
  {
   "cell_type": "markdown",
   "metadata": {},
   "source": [
    "# PIM"
   ]
  },
  {
   "cell_type": "code",
   "execution_count": 68,
   "metadata": {
    "collapsed": true
   },
   "outputs": [],
   "source": [
    "#Stock = 'RLK'\n",
    "Shares = 100000\n",
    "Price = 50\n",
    "ADV = 1000000\n",
    "Volatility = 0.15\n",
    "Size = 0.10\n",
    "alpha = 1                                #trade rate at Time t alpha = shares traded(complete)/volume over trading Horizon\n",
    "\n",
    "theta = 0.5   #50% complete\n",
    "side = 1      #buy\n",
    "delta_P = 0.01\n",
    "relized_cost  = 0.15\n",
    "\n"
   ]
  },
  {
   "cell_type": "code",
   "execution_count": 69,
   "metadata": {},
   "outputs": [
    {
     "data": {
      "text/plain": [
       "array([-10.52613499])"
      ]
     },
     "execution_count": 69,
     "metadata": {},
     "output_type": "execute_result"
    }
   ],
   "source": [
    "def PIM(t):\n",
    "    M_cost  = (1-theta)*delta_P*side\n",
    "    mi_remain   =  (1-theta)*MI_model(Shares,Volatility,t,Size)\n",
    "    alpha_trend = (1-theta)*PA(alpha,t)\n",
    "    projected_cost = relized_cost+M_cost+mi_remain+alpha_trend\n",
    "    \n",
    "    ini_cost = MI_model(Shares,Volatility,time_star,Size)\n",
    "    \n",
    "    TR_t = Volatility*np.sqrt((1-theta)*t)*Price\n",
    "    \n",
    "    return (projected_cost-ini_cost)/TR_t\n",
    "\n",
    "PIM(time_star)"
   ]
  },
  {
   "cell_type": "code",
   "execution_count": 70,
   "metadata": {},
   "outputs": [
    {
     "data": {
      "text/plain": [
       "[<matplotlib.lines.Line2D at 0x107cbd410>]"
      ]
     },
     "execution_count": 70,
     "metadata": {},
     "output_type": "execute_result"
    },
    {
     "data": {
      "image/png": "[encoded data removed]",
      "text/plain": [
       "<matplotlib.figure.Figure at 0x10793cf50>"
      ]
     },
     "metadata": {},
     "output_type": "display_data"
    }
   ],
   "source": [
    "plt.plot([PIM(t) for t in xrange(1,1000)])"
   ]
  },
  {
   "cell_type": "code",
   "execution_count": 71,
   "metadata": {},
   "outputs": [
    {
     "name": "stdout",
     "output_type": "stream",
     "text": [
      "Optimization terminated successfully.\n",
      "         Current function value: -11.119893\n",
      "         Iterations: 24\n",
      "         Function evaluations: 48\n"
     ]
    }
   ],
   "source": [
    "res_p = minimize(PIM, 1, method='nelder-mead',\n",
    "                options={'disp': True})\n"
   ]
  },
  {
   "cell_type": "code",
   "execution_count": 72,
   "metadata": {},
   "outputs": [
    {
     "name": "stdout",
     "output_type": "stream",
     "text": [
      "[ 13.78222656]\n"
     ]
    }
   ],
   "source": [
    "print res_p.x"
   ]
  },
  {
   "cell_type": "code",
   "execution_count": null,
   "metadata": {
    "collapsed": true
   },
   "outputs": [],
   "source": []
  },
  {
   "cell_type": "code",
   "execution_count": null,
   "metadata": {
    "collapsed": true
   },
   "outputs": [],
   "source": []
  },
  {
   "cell_type": "code",
   "execution_count": null,
   "metadata": {
    "collapsed": true
   },
   "outputs": [],
   "source": []
  },
  {
   "cell_type": "code",
   "execution_count": null,
   "metadata": {
    "collapsed": true
   },
   "outputs": [],
   "source": []
  },
  {
   "cell_type": "code",
   "execution_count": null,
   "metadata": {
    "collapsed": true
   },
   "outputs": [],
   "source": []
  }
 ],
 "metadata": {
  "kernelspec": {
   "display_name": "Python 2",
   "language": "python",
   "name": "python2"
  },
  "language_info": {
   "codemirror_mode": {
    "name": "ipython",
    "version": 2
   },
   "file_extension": ".py",
   "mimetype": "text/x-python",
   "name": "python",
   "nbconvert_exporter": "python",
   "pygments_lexer": "ipython2",
   "version": "2.7.13"
  }
 },
 "nbformat": 4,
 "nbformat_minor": 2
}
