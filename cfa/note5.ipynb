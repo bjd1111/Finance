{
 "cells": [
  {
   "cell_type": "markdown",
   "metadata": {},
   "source": [
    "1. __plain vanilla__ - a bond with a fixed coupon rate is called a plain vanilla bond or a conventional bond\n",
    "\n",
    "2. __trust deed__ or bond indenture: legal contract\n",
    "\n",
    "3. __covenant__ - the provision in the bond indenture are known as covenant. (negative(prohibition) vs affirmative(promises))\n",
    "\n",
    "4. __Issuers of bonds__ : Supranational entities(IMF, world bank) P12\n",
    "\n",
    "5. __bearer bonds and registered bonds__:\n",
    "\n",
    "\n",
    "\n",
    "\n"
   ]
  },
  {
   "cell_type": "raw",
   "metadata": {
    "collapsed": true
   },
   "source": []
  }
 ],
 "metadata": {
  "kernelspec": {
   "display_name": "Python 2",
   "language": "python",
   "name": "python2"
  },
  "language_info": {
   "codemirror_mode": {
    "name": "ipython",
    "version": 2
   },
   "file_extension": ".py",
   "mimetype": "text/x-python",
   "name": "python",
   "nbconvert_exporter": "python",
   "pygments_lexer": "ipython2",
   "version": "2.7.13"
  }
 },
 "nbformat": 4,
 "nbformat_minor": 2
}
