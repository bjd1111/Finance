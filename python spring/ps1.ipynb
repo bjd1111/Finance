{
 "cells": [
  {
   "cell_type": "code",
   "execution_count": 1,
   "metadata": {
    "collapsed": true
   },
   "outputs": [],
   "source": [
    "\"\"\"\n",
    "Created on Tue Mar 28 10:13:56 2017\n",
    "\n",
    "@author: sudip\n",
    "\"\"\"\n",
    "\n",
    "\n",
    "\n",
    "import pandas_datareader.data as pdr\n",
    "import pandas as pd\n",
    "import numpy as np\n",
    "import datetime, os, csv\n",
    "import statsmodels.api as sm\n"
   ]
  },
  {
   "cell_type": "code",
   "execution_count": 3,
   "metadata": {},
   "outputs": [
    {
     "ename": "IOError",
     "evalue": "[Errno 2] No such file or directory: 'CompanyTickerList.csv'",
     "output_type": "error",
     "traceback": [
      "\u001b[0;31m---------------------------------------------------------------------------\u001b[0m",
      "\u001b[0;31mIOError\u001b[0m                                   Traceback (most recent call last)",
      "\u001b[0;32m<ipython-input-3-5aab8239be85>\u001b[0m in \u001b[0;36m<module>\u001b[0;34m()\u001b[0m\n\u001b[1;32m      7\u001b[0m \u001b[0;34m\u001b[0m\u001b[0m\n\u001b[1;32m      8\u001b[0m \u001b[0minput_path\u001b[0m \u001b[0;34m=\u001b[0m \u001b[0;34m\"CompanyTickerList.csv\"\u001b[0m\u001b[0;34m\u001b[0m\u001b[0m\n\u001b[0;32m----> 9\u001b[0;31m \u001b[0mcsvFile\u001b[0m \u001b[0;34m=\u001b[0m \u001b[0mopen\u001b[0m\u001b[0;34m(\u001b[0m\u001b[0minput_path\u001b[0m\u001b[0;34m,\u001b[0m \u001b[0;34m\"r\"\u001b[0m\u001b[0;34m)\u001b[0m\u001b[0;34m\u001b[0m\u001b[0m\n\u001b[0m\u001b[1;32m     10\u001b[0m \u001b[0mcsvReader\u001b[0m \u001b[0;34m=\u001b[0m \u001b[0mcsv\u001b[0m\u001b[0;34m.\u001b[0m\u001b[0mreader\u001b[0m\u001b[0;34m(\u001b[0m\u001b[0mcsvFile\u001b[0m\u001b[0;34m,\u001b[0m \u001b[0mdelimiter\u001b[0m\u001b[0;34m=\u001b[0m\u001b[0;34m\",\"\u001b[0m\u001b[0;34m)\u001b[0m\u001b[0;34m\u001b[0m\u001b[0m\n\u001b[1;32m     11\u001b[0m \u001b[0mcsvData\u001b[0m \u001b[0;34m=\u001b[0m \u001b[0mlist\u001b[0m\u001b[0;34m(\u001b[0m\u001b[0mcsvReader\u001b[0m\u001b[0;34m)\u001b[0m\u001b[0;34m\u001b[0m\u001b[0m\n",
      "\u001b[0;31mIOError\u001b[0m: [Errno 2] No such file or directory: 'CompanyTickerList.csv'"
     ]
    }
   ],
   "source": [
    "\n",
    "#mac\n",
    "os.chdir( \"/Users/apple/Downloads/ps1/\")\n",
    "#win\n",
    "#os.chdir( \"C:/Users/bjd/Desktop/data\") \n",
    "\n",
    "\n",
    "input_path = \"CompanyTickerList.csv\"\n",
    "csvFile = open(input_path, \"r\")\n",
    "csvReader = csv.reader(csvFile, delimiter=\",\")\n",
    "csvData = list(csvReader)\n"
   ]
  },
  {
   "cell_type": "code",
   "execution_count": null,
   "metadata": {
    "collapsed": true
   },
   "outputs": [],
   "source": [
    "\n",
    "start = datetime.datetime(2003, 1, 1) #<==change start time here\n",
    "end = datetime.datetime(2013, 1, 27) #<==change end time here\n",
    "\n",
    "# Read-in data for SPY\n",
    "spy = pdr.DataReader(\"SPY\", 'yahoo', start, end)\n",
    "spy_adj = spy['Adj Close']\n",
    "spy_ret = np.log(spy_adj).diff().dropna()\n",
    "spy_mean = np.mean(spy_ret) # <==E(Rm)\n",
    "spy_var = np.var(spy_ret) # <==var(m)\n",
    "\n"
   ]
  },
  {
   "cell_type": "code",
   "execution_count": null,
   "metadata": {
    "collapsed": true
   },
   "outputs": [],
   "source": [
    "\n",
    "## Read-in data for stocks\n",
    "stock = []\n",
    "for rowData in csvData[1:]:\n",
    "    ticker = rowData[0]\n",
    "    stock.append(ticker)\n",
    "price = pdr.DataReader(stock, 'yahoo', start, end)\n",
    "key_word = 'Adj Close'\n",
    "cleanData = price.ix[key_word]\n",
    "adj_close = pd.DataFrame(cleanData)\n",
    "ret = np.log(adj_close).diff().dropna()\n"
   ]
  },
  {
   "cell_type": "code",
   "execution_count": null,
   "metadata": {
    "collapsed": true
   },
   "outputs": [],
   "source": [
    "\n",
    "columns = ['alpha', 'beta', 'residual', 'initial_weight']\n",
    "index = np.arange(20) ## <===N=20 securities in this portfolio. Change this to fit the size of your portfolio\n",
    "result = pd.DataFrame(columns=columns, index=index)\n",
    "for i in range(20): # <===N=20 securities in this portfolio. Change this to fit the size of your portfolio\n",
    "    stock = ret.ix[:, i]\n",
    "    stock = sm.add_constant(stock)\n",
    "    model = sm.OLS(spy_ret, stock).fit()\n",
    "    # result_reg = results_summary_to_dataframe(model)\n",
    "    alpha = model.params[0]\n",
    "    beta = model.params[1]\n",
    "    residual = model.mse_resid\n",
    "    initial_weight = alpha / residual\n",
    "    result.loc[i] = [alpha, beta, residual, initial_weight]\n",
    "\n",
    "\n",
    "weight_sum = result.ix[:, 3].sum(axis=0)\n",
    "for i in range(20): # <===N=20 securities in this portfolio. Change this to fit the size of your portfolio\n",
    "    result['adj_weight'] = result['initial_weight']/weight_sum\n",
    "    result['adj_weight * alpha'] = result['adj_weight'].multiply(result['alpha'])\n",
    "    result['weight_sqr * residual_var'] = pow(result['adj_weight'], 2).multiply(result['residual'])\n",
    "    result['adj_weight * beta'] = result['adj_weight'].multiply(result['beta'])\n",
    "alpha_p = result.ix[:, 5].sum(axis=0) # alpha of the active portfolio\n",
    "residual_p = result.ix[:, 6].sum(axis=0) # residual variance of the active portfolio\n",
    "beta_p = result.ix[:, 7].sum(axis=0) # beta of the active portfolio\n",
    "initial_position_p = ((alpha_p/residual_p)/(spy_mean/spy_var)) # initial position in the active portfolio\n",
    "adj_position_p = initial_position_p / (1+(1-beta_p)*initial_position_p) # adjusted position in the active portfolio\n",
    "\n",
    "### Result part\n",
    "### no.1 final weight of spy\n",
    "weight_of_spy = 1 - adj_position_p\n",
    "for i in range(20): # <===N=20 securities in this portfolio. Change this to fit the size of your portfolio\n",
    "    ### no.2 final weight of each stock\n",
    "    result['weight_star'] = adj_position_p * result['adj_weight']\n",
    "\n",
    "### no.3 risky premium of the optimal risky portfolio\n",
    "expected_value_Rp = (weight_of_spy + adj_position_p*beta_p)*spy_mean + adj_position_p*alpha_p\n",
    "### no.4 variance of the optimal risky portfolio\n",
    "var_Rp = pow((weight_of_spy + adj_position_p*beta_p),2)*spy_var + pow(adj_position_p,2)*residual_p\n",
    "\n",
    "### uncomment the following four lines if you wish to see the result\n",
    "print result['weight_star']\n",
    "print weight_of_spy\n",
    "print expected_value_Rp\n",
    "print var_Rp\n",
    "\n"
   ]
  }
 ],
 "metadata": {
  "kernelspec": {
   "display_name": "Python 2",
   "language": "python",
   "name": "python2"
  },
  "language_info": {
   "codemirror_mode": {
    "name": "ipython",
    "version": 2
   },
   "file_extension": ".py",
   "mimetype": "text/x-python",
   "name": "python",
   "nbconvert_exporter": "python",
   "pygments_lexer": "ipython2",
   "version": "2.7.13"
  }
 },
 "nbformat": 4,
 "nbformat_minor": 2
}
