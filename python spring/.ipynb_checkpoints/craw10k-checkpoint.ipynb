{
 "cells": [
  {
   "cell_type": "code",
   "execution_count": 6,
   "metadata": {
    "collapsed": true
   },
   "outputs": [],
   "source": [
    "import os, csv, urllib2, time, re\n",
    "from bs4 import BeautifulSoup\n",
    "import pandas as pd\n",
    "import numpy as np\n"
   ]
  },
  {
   "cell_type": "code",
   "execution_count": 7,
   "metadata": {
    "collapsed": true
   },
   "outputs": [],
   "source": [
    "\n",
    "#mac\n",
    "os.chdir( \"/Users/apple/Downloads/ps1/\")\n",
    "#win\n",
    "#os.chdir( \"C:/Users/bjd/Desktop/data\") \n",
    "\n",
    "\n",
    "\n"
   ]
  },
  {
   "cell_type": "markdown",
   "metadata": {},
   "source": [
    "##### Section 1: Extract the\tURLs\tfrom each\tfirms'\tsearch\tresults\treturned by\tEdgar"
   ]
  },
  {
   "cell_type": "code",
   "execution_count": 8,
   "metadata": {
    "collapsed": true
   },
   "outputs": [],
   "source": [
    "os.chdir( \"/Users/apple/Downloads/ps1/\")\n",
    "companyListFile = \"CompanyTickerList.csv\"  # a csv file with the list of company ticker symbols and names\n",
    "IndexLinksFile = \"IndexLinks10K.csv\"  # a csv file (output of the current script) with the list of index links for each firm\n"
   ]
  },
  {
   "cell_type": "code",
   "execution_count": 9,
   "metadata": {
    "collapsed": true
   },
   "outputs": [],
   "source": [
    "\n",
    "\n",
    "\n",
    "def getIndexLink(companyListFile, FormType):\n",
    "    csvFile = open(companyListFile, \"r\")\n",
    "    csvReader = csv.reader(csvFile, delimiter=\",\")\n",
    "    csvData = list(csvReader)\n",
    "\n",
    "    Full_List = []\n",
    "    for rowData in csvData[1:]:\n",
    "        tickerCode = rowData[0]\n",
    "\n",
    "        urlLink = \"https://www.sec.gov/cgi-bin/browse-edgar?action=getcompany&CIK=\" + tickerCode + \"&type=\" + FormType + \"&dateb=&owner=exclude&count=100\"\n",
    "        pageRequest = urllib2.Request(urlLink)\n",
    "        pageOpen = urllib2.urlopen(pageRequest)\n",
    "        pageRead = pageOpen.read()\n",
    "\n",
    "        soup = BeautifulSoup(pageRead, \"html.parser\")\n",
    "\n",
    "        # Check if there is a table to extract / code exists in edgar database\n",
    "        try:\n",
    "            table = soup.find(\"table\", {\"class\": \"tableFile2\"})\n",
    "        except:\n",
    "            print \"No tables found or no matching ticker symbol for ticker symbol for\" + tickerCode\n",
    "            return -1\n",
    "\n",
    "        docIndex = 1\n",
    "        for row in table.findAll(\"tr\"):\n",
    "            cells = row.findAll(\"td\")\n",
    "            if len(cells) == 5:\n",
    "                if cells[0].text.strip() == FormType:\n",
    "                    link = cells[1].find(\"a\", {\"id\": \"documentsbutton\"})\n",
    "                    docLink = \"https://www.sec.gov\" + link['href']\n",
    "                    description = cells[2].text.encode(\n",
    "                        'utf8').strip()\n",
    "                    filingDate = cells[3].text.encode('utf8').strip()\n",
    "                    newfilingDate = filingDate.replace(\"-\", \"_\")  ### <=== Change date format from 2012-1-1 to 2012_1_1 so it can be used as part of 10-K file names\n",
    "                    docIndex = docIndex + 1\n",
    "                    rows = [tickerCode, docIndex, docLink, description, filingDate, newfilingDate]\n",
    "                    Full_List.append(rows)\n",
    "\n",
    "    headers = ['Ticker', 'DocIndex', 'IndexLink', 'Description', 'FilingDate', 'NewFilingDate']\n",
    "    data_links = pd.DataFrame(Full_List, columns=headers)\n",
    "    data_links.to_csv(IndexLinksFile, index=False)\n",
    "\n",
    "\n"
   ]
  },
  {
   "cell_type": "code",
   "execution_count": 10,
   "metadata": {},
   "outputs": [
    {
     "name": "stdout",
     "output_type": "stream",
     "text": [
      "done!\n"
     ]
    }
   ],
   "source": [
    "FormType = \"10-K\" ### <=== Change to other type if needed. For now, we extract \"10-K\" report\n",
    "\n",
    "csvOutput = open(IndexLinksFile, \"a+b\")\n",
    "csvOutput.truncate()\n",
    "\n",
    "getIndexLink(companyListFile, FormType)\n",
    "\n",
    "print \"done!\""
   ]
  },
  {
   "cell_type": "markdown",
   "metadata": {},
   "source": [
    "#### Section2:\tExtracts the\tURLs\tfor\teach\tfirm's 10-K\treports\n"
   ]
  },
  {
   "cell_type": "code",
   "execution_count": 11,
   "metadata": {
    "collapsed": true
   },
   "outputs": [],
   "source": [
    "\n",
    "\n",
    "Form10qListFile = \"List10K.csv\"  # a csv file (output of the current script) with the list of 10-K links for each firm\n"
   ]
  },
  {
   "cell_type": "code",
   "execution_count": 13,
   "metadata": {
    "collapsed": true
   },
   "outputs": [],
   "source": [
    "\n",
    "def get10qLink(IndexLinksFile, FormType):\n",
    "    csvFile = open(IndexLinksFile, \"r\")\n",
    "    csvReader = csv.reader(csvFile, delimiter=\",\")\n",
    "    csvData = list(csvReader)\n",
    "\n",
    "    Full_List = []\n",
    "    i = 1\n",
    "    for rowData in csvData[1:]:\n",
    "        Ticker = rowData[0]\n",
    "        DocIndex = rowData[1]\n",
    "        DocLink = rowData[2]\n",
    "        Description = rowData[3]\n",
    "        FileDate = rowData[4]\n",
    "        NewFileDate = rowData[5]\n",
    "\n",
    "        pageRequest = urllib2.Request(DocLink)\n",
    "        pageOpen = urllib2.urlopen(pageRequest)\n",
    "        pageRead = pageOpen.read()\n",
    "\n",
    "        soup = BeautifulSoup(pageRead, \"html.parser\")\n",
    "\n",
    "        # Check if there is a table to extract / code exists in edgar database\n",
    "        try:\n",
    "            table = soup.find(\"table\", {\"summary\": \"Document Format Files\"})\n",
    "        except:\n",
    "            print \"No tables found for link \" + DocLink\n",
    "\n",
    "        for row in table.findAll(\"tr\"):\n",
    "            cells = row.findAll(\"td\")\n",
    "            if len(cells) == 5:\n",
    "                if cells[3].text.strip() == FormType:\n",
    "                    link = cells[2].find(\"a\")\n",
    "                    FormLink= \"https://www.sec.gov\" + link['href']\n",
    "                    FormName = link.text.encode('utf8').strip()\n",
    "        rows = [Ticker, DocIndex, DocLink, Description, FileDate, NewFileDate, FormLink, FormName]\n",
    "        Full_List.append(rows)\n",
    "\n",
    "        nbDocPause = 10  ### <=== Type your number of documents to download in one batch\n",
    "        nbSecPause = 1  ### <=== Type your pausing time in seconds between each batch\n",
    "        if i % nbDocPause == 0:\n",
    "            print i\n",
    "            print \"Pause for \" + str(nbSecPause) + \" second .... \"\n",
    "            time.sleep(float(nbSecPause))\n",
    "        i = i + 1\n",
    "\n",
    "    headers = ['Ticker', 'DocIndex', 'IndexLink', 'Description', 'FilingDate', 'NewFilingDate', 'Form10KLink', 'Form10KName']\n",
    "    data_links = pd.DataFrame(Full_List, columns=headers)\n",
    "    data_links.to_csv(Form10qListFile, index=False)\n",
    "\n"
   ]
  },
  {
   "cell_type": "code",
   "execution_count": 14,
   "metadata": {},
   "outputs": [
    {
     "name": "stdout",
     "output_type": "stream",
     "text": [
      "10\n",
      "Pause for 1 second .... \n",
      "20\n",
      "Pause for 1 second .... \n",
      "30\n",
      "Pause for 1 second .... \n",
      "40\n",
      "Pause for 1 second .... \n",
      "50\n",
      "Pause for 1 second .... \n",
      "60\n",
      "Pause for 1 second .... \n",
      "70\n",
      "Pause for 1 second .... \n",
      "80\n",
      "Pause for 1 second .... \n",
      "90\n",
      "Pause for 1 second .... \n",
      "100\n",
      "Pause for 1 second .... \n",
      "110\n",
      "Pause for 1 second .... \n",
      "120\n",
      "Pause for 1 second .... \n",
      "130\n",
      "Pause for 1 second .... \n",
      "140\n",
      "Pause for 1 second .... \n",
      "150\n",
      "Pause for 1 second .... \n",
      "160\n",
      "Pause for 1 second .... \n",
      "170\n",
      "Pause for 1 second .... \n",
      "180\n",
      "Pause for 1 second .... \n",
      "190\n",
      "Pause for 1 second .... \n",
      "200\n",
      "Pause for 1 second .... \n",
      "210\n",
      "Pause for 1 second .... \n",
      "220\n",
      "Pause for 1 second .... \n",
      "230\n",
      "Pause for 1 second .... \n",
      "240\n",
      "Pause for 1 second .... \n",
      "250\n",
      "Pause for 1 second .... \n",
      "260\n",
      "Pause for 1 second .... \n",
      "270\n",
      "Pause for 1 second .... \n",
      "280\n",
      "Pause for 1 second .... \n",
      "290\n",
      "Pause for 1 second .... \n",
      "300\n",
      "Pause for 1 second .... \n",
      "310\n",
      "Pause for 1 second .... \n",
      "320\n",
      "Pause for 1 second .... \n",
      "330\n",
      "Pause for 1 second .... \n",
      "340\n",
      "Pause for 1 second .... \n",
      "350\n",
      "Pause for 1 second .... \n",
      "360\n",
      "Pause for 1 second .... \n",
      "370\n",
      "Pause for 1 second .... \n",
      "380\n",
      "Pause for 1 second .... \n",
      "390\n",
      "Pause for 1 second .... \n",
      "400\n",
      "Pause for 1 second .... \n",
      "done!\n"
     ]
    }
   ],
   "source": [
    "FormType = \"10-K\" ### <=== Change to other type if needed. For now, we extract \"10-K\" report\n",
    "\n",
    "csvOutput = open(Form10qListFile, \"a+b\")\n",
    "csvOutput.truncate()\n",
    "\n",
    "get10qLink(IndexLinksFile, FormType)\n",
    "print \"done!\"\n"
   ]
  },
  {
   "cell_type": "code",
   "execution_count": null,
   "metadata": {
    "collapsed": true
   },
   "outputs": [],
   "source": []
  },
  {
   "cell_type": "code",
   "execution_count": 15,
   "metadata": {
    "collapsed": true
   },
   "outputs": [],
   "source": [
    "\n",
    "##### Section 3: Downloads the\t10-K\treports\tas\tHTML\tfiles\n",
    "SubPath = \"./10-K report/HTML/\"  # <===The subfolder with the 10-K files in HTML format\n",
    "logFile = \"DownloadLog10K.csv\"  # a csv file (output of the current script) with the download history of 10-K forms\n"
   ]
  },
  {
   "cell_type": "code",
   "execution_count": 16,
   "metadata": {
    "collapsed": true
   },
   "outputs": [],
   "source": [
    "\n",
    "def dowmload10q(Form10qListFile, FormYears):\n",
    "    csvFile = open(Form10qListFile, \"r\")\n",
    "    csvReader = csv.reader(csvFile, delimiter=\",\")\n",
    "    csvData = list(csvReader)\n",
    "\n",
    "    Full_List = []\n",
    "    i = 1\n",
    "    for rowData in csvData[1:]:\n",
    "        Ticker = rowData[0]\n",
    "        DocIndex = rowData[1]\n",
    "        IndexLink = rowData[2]\n",
    "        Description = rowData[3]\n",
    "        FilingDate = rowData[4]\n",
    "        NewFilingDate = rowData[5]\n",
    "        FormLink = rowData[6]\n",
    "        FormName = rowData[7]\n",
    "\n",
    "        for year in FormYears:\n",
    "            if year in FilingDate:\n",
    "                pageRequest = urllib2.Request(FormLink)\n",
    "                pageOpen = urllib2.urlopen(pageRequest)\n",
    "                pageRead = pageOpen.read()\n",
    "\n",
    "                if \".htm\" in FormName:\n",
    "                    try:\n",
    "                        htmlname = Ticker + \"_\" + DocIndex + \"_\" + NewFilingDate + \".htm\"\n",
    "                        htmlpath = SubPath + htmlname\n",
    "                        htmlfile = open(htmlpath, 'wb')\n",
    "                        htmlfile.write(pageRead)\n",
    "                        htmlfile.close()\n",
    "                        rows = [Ticker, DocIndex, IndexLink, Description, FilingDate, NewFilingDate, FormLink, FormName, htmlname, \"\"]\n",
    "                    except:\n",
    "                        rows = [Ticker, DocIndex, IndexLink, Description, FilingDate, NewFilingDate, FormLink, FormName, \"not downloaded\"]\n",
    "                elif \".txt\" in FormName:\n",
    "                    try:\n",
    "                        textname = Ticker + \"_\" + DocIndex + \"_\" + NewFilingDate + \".txt\"\n",
    "                        textpath = SubPath + textname\n",
    "                        textfile = open(textpath, 'wb')\n",
    "                        textfile.write(pageRead)\n",
    "                        textfile.close()\n",
    "                        rows = [Ticker, DocIndex, IndexLink, Description, FilingDate, NewFilingDate, FormLink, FormName, textname, \"\"]\n",
    "                    except:\n",
    "                        rows = [Ticker, DocIndex, IndexLink, Description, FilingDate, NewFilingDate, FormLink, FormName, \"not downloaded\"]\n",
    "                else:\n",
    "                    rows = [Ticker, DocIndex, IndexLink, Description, FilingDate, NewFilingDate, FormLink, FormName, \"\", \"No form\"]\n",
    "                Full_List.append(rows)\n",
    "\n",
    "        nbDocPause = 10  ### <=== Type your number of documents to download in one batch\n",
    "        nbSecPause = 1  ### <=== Type your pausing time in seconds between each batch\n",
    "        if i % nbDocPause == 0:\n",
    "            print i\n",
    "            print \"Pause for \" + str(nbSecPause) + \" second .... \"\n",
    "            time.sleep(float(nbSecPause))\n",
    "        i = i + 1\n",
    "    headers = ['Ticker', 'DocIndex', 'IndexLink', 'Description', 'FilingDate', 'NewFilingDate', 'Form10KLink', 'Form10KName', \"FileName\", \"Note\"]\n",
    "    data_links = pd.DataFrame(Full_List, columns=headers)\n",
    "    data_links.to_csv(logFile, index=False)\n",
    "\n",
    "if not os.path.isdir(SubPath):\n",
    "    os.makedirs(SubPath)\n"
   ]
  },
  {
   "cell_type": "code",
   "execution_count": null,
   "metadata": {
    "collapsed": true
   },
   "outputs": [],
   "source": []
  },
  {
   "cell_type": "code",
   "execution_count": 17,
   "metadata": {},
   "outputs": [
    {
     "name": "stdout",
     "output_type": "stream",
     "text": [
      "10\n",
      "Pause for 1 second .... \n",
      "20\n",
      "Pause for 1 second .... \n",
      "30\n",
      "Pause for 1 second .... \n",
      "40\n",
      "Pause for 1 second .... \n",
      "50\n",
      "Pause for 1 second .... \n",
      "60\n",
      "Pause for 1 second .... \n",
      "70\n",
      "Pause for 1 second .... \n",
      "80\n",
      "Pause for 1 second .... \n",
      "90\n",
      "Pause for 1 second .... \n",
      "100\n",
      "Pause for 1 second .... \n",
      "110\n",
      "Pause for 1 second .... \n",
      "120\n",
      "Pause for 1 second .... \n",
      "130\n",
      "Pause for 1 second .... \n",
      "140\n",
      "Pause for 1 second .... \n",
      "150\n",
      "Pause for 1 second .... \n",
      "160\n",
      "Pause for 1 second .... \n",
      "170\n",
      "Pause for 1 second .... \n",
      "180\n",
      "Pause for 1 second .... \n",
      "190\n",
      "Pause for 1 second .... \n",
      "200\n",
      "Pause for 1 second .... \n",
      "210\n",
      "Pause for 1 second .... \n",
      "220\n",
      "Pause for 1 second .... \n",
      "230\n",
      "Pause for 1 second .... \n",
      "240\n",
      "Pause for 1 second .... \n",
      "250\n",
      "Pause for 1 second .... \n",
      "260\n",
      "Pause for 1 second .... \n",
      "270\n",
      "Pause for 1 second .... \n",
      "280\n",
      "Pause for 1 second .... \n",
      "290\n",
      "Pause for 1 second .... \n",
      "300\n",
      "Pause for 1 second .... \n",
      "310\n",
      "Pause for 1 second .... \n",
      "320\n",
      "Pause for 1 second .... \n",
      "330\n",
      "Pause for 1 second .... \n",
      "340\n",
      "Pause for 1 second .... \n",
      "350\n",
      "Pause for 1 second .... \n",
      "360\n",
      "Pause for 1 second .... \n",
      "370\n",
      "Pause for 1 second .... \n",
      "380\n",
      "Pause for 1 second .... \n",
      "390\n",
      "Pause for 1 second .... \n",
      "400\n",
      "Pause for 1 second .... \n",
      "done!\n"
     ]
    }
   ],
   "source": [
    "\n",
    "FormYears = ['2011', '2012', '2013', '2014', '2015', '2016', '2017']  ### <=== Type the years of documents you wish to download here, now we only\n",
    "                                                ### download files for all these years listed.\n",
    "\n",
    "csvOutput = open(logFile, \"a+b\")\n",
    "csvOutput.truncate()\n",
    "\n",
    "dowmload10q(Form10qListFile, FormYears)\n",
    "print \"done!\""
   ]
  },
  {
   "cell_type": "code",
   "execution_count": null,
   "metadata": {
    "collapsed": true
   },
   "outputs": [],
   "source": []
  },
  {
   "cell_type": "code",
   "execution_count": null,
   "metadata": {
    "collapsed": true
   },
   "outputs": [],
   "source": []
  }
 ],
 "metadata": {
  "kernelspec": {
   "display_name": "Python 2",
   "language": "python",
   "name": "python2"
  },
  "language_info": {
   "codemirror_mode": {
    "name": "ipython",
    "version": 2
   },
   "file_extension": ".py",
   "mimetype": "text/x-python",
   "name": "python",
   "nbconvert_exporter": "python",
   "pygments_lexer": "ipython2",
   "version": "2.7.13"
  }
 },
 "nbformat": 4,
 "nbformat_minor": 2
}
