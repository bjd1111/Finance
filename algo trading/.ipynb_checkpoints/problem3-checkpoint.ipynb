{
 "cells": [
  {
   "cell_type": "code",
   "execution_count": 3,
   "metadata": {
    "collapsed": false,
    "scrolled": true
   },
   "outputs": [
    {
     "data": {
      "text/html": [
       "<div>\n",
       "<table border=\"1\" class=\"dataframe\">\n",
       "  <thead>\n",
       "    <tr style=\"text-align: right;\">\n",
       "      <th></th>\n",
       "      <th>Group</th>\n",
       "      <th>Symbol</th>\n",
       "      <th>Price</th>\n",
       "      <th>ADV</th>\n",
       "      <th>Volatility</th>\n",
       "      <th>LnMktCap</th>\n",
       "      <th>EstReturn %</th>\n",
       "    </tr>\n",
       "  </thead>\n",
       "  <tbody>\n",
       "    <tr>\n",
       "      <th>75</th>\n",
       "      <td>4</td>\n",
       "      <td>CAT</td>\n",
       "      <td>78.63</td>\n",
       "      <td>5,224,000</td>\n",
       "      <td>0.2017</td>\n",
       "      <td>24.49</td>\n",
       "      <td>0.14</td>\n",
       "    </tr>\n",
       "    <tr>\n",
       "      <th>76</th>\n",
       "      <td>4</td>\n",
       "      <td>CB</td>\n",
       "      <td>124.33</td>\n",
       "      <td>1,223,000</td>\n",
       "      <td>0.2069</td>\n",
       "      <td>24.12</td>\n",
       "      <td>0.10</td>\n",
       "    </tr>\n",
       "    <tr>\n",
       "      <th>77</th>\n",
       "      <td>4</td>\n",
       "      <td>CBG</td>\n",
       "      <td>37.97</td>\n",
       "      <td>2,061,000</td>\n",
       "      <td>0.2103</td>\n",
       "      <td>23.24</td>\n",
       "      <td>0.14</td>\n",
       "    </tr>\n",
       "    <tr>\n",
       "      <th>78</th>\n",
       "      <td>4</td>\n",
       "      <td>CBS</td>\n",
       "      <td>53.28</td>\n",
       "      <td>6,561,000</td>\n",
       "      <td>0.2214</td>\n",
       "      <td>23.90</td>\n",
       "      <td>0.12</td>\n",
       "    </tr>\n",
       "    <tr>\n",
       "      <th>79</th>\n",
       "      <td>4</td>\n",
       "      <td>CCE</td>\n",
       "      <td>50.80</td>\n",
       "      <td>2,210,000</td>\n",
       "      <td>0.2038</td>\n",
       "      <td>23.17</td>\n",
       "      <td>0.10</td>\n",
       "    </tr>\n",
       "    <tr>\n",
       "      <th>80</th>\n",
       "      <td>4</td>\n",
       "      <td>CCI</td>\n",
       "      <td>81.91</td>\n",
       "      <td>2,550,000</td>\n",
       "      <td>0.1691</td>\n",
       "      <td>24.09</td>\n",
       "      <td>0.08</td>\n",
       "    </tr>\n",
       "    <tr>\n",
       "      <th>81</th>\n",
       "      <td>4</td>\n",
       "      <td>CCL</td>\n",
       "      <td>52.99</td>\n",
       "      <td>4,036,000</td>\n",
       "      <td>0.2240</td>\n",
       "      <td>24.43</td>\n",
       "      <td>0.09</td>\n",
       "    </tr>\n",
       "    <tr>\n",
       "      <th>82</th>\n",
       "      <td>4</td>\n",
       "      <td>CELG</td>\n",
       "      <td>131.25</td>\n",
       "      <td>5,468,000</td>\n",
       "      <td>0.2824</td>\n",
       "      <td>25.21</td>\n",
       "      <td>0.17</td>\n",
       "    </tr>\n",
       "    <tr>\n",
       "      <th>83</th>\n",
       "      <td>4</td>\n",
       "      <td>CERN</td>\n",
       "      <td>71.72</td>\n",
       "      <td>1,652,000</td>\n",
       "      <td>0.2176</td>\n",
       "      <td>23.73</td>\n",
       "      <td>0.14</td>\n",
       "    </tr>\n",
       "    <tr>\n",
       "      <th>84</th>\n",
       "      <td>4</td>\n",
       "      <td>CF</td>\n",
       "      <td>58.89</td>\n",
       "      <td>3,777,000</td>\n",
       "      <td>0.2457</td>\n",
       "      <td>23.09</td>\n",
       "      <td>0.12</td>\n",
       "    </tr>\n",
       "    <tr>\n",
       "      <th>85</th>\n",
       "      <td>4</td>\n",
       "      <td>CHK</td>\n",
       "      <td>8.66</td>\n",
       "      <td>13,378,000</td>\n",
       "      <td>0.4070</td>\n",
       "      <td>22.02</td>\n",
       "      <td>0.21</td>\n",
       "    </tr>\n",
       "    <tr>\n",
       "      <th>86</th>\n",
       "      <td>4</td>\n",
       "      <td>CHRW</td>\n",
       "      <td>69.75</td>\n",
       "      <td>1,680,000</td>\n",
       "      <td>0.2149</td>\n",
       "      <td>23.01</td>\n",
       "      <td>0.15</td>\n",
       "    </tr>\n",
       "    <tr>\n",
       "      <th>87</th>\n",
       "      <td>4</td>\n",
       "      <td>CI</td>\n",
       "      <td>144.06</td>\n",
       "      <td>1,834,000</td>\n",
       "      <td>0.2384</td>\n",
       "      <td>24.27</td>\n",
       "      <td>0.14</td>\n",
       "    </tr>\n",
       "    <tr>\n",
       "      <th>88</th>\n",
       "      <td>4</td>\n",
       "      <td>CINF</td>\n",
       "      <td>55.21</td>\n",
       "      <td>566,000</td>\n",
       "      <td>0.1412</td>\n",
       "      <td>23.03</td>\n",
       "      <td>0.06</td>\n",
       "    </tr>\n",
       "    <tr>\n",
       "      <th>89</th>\n",
       "      <td>4</td>\n",
       "      <td>CL</td>\n",
       "      <td>68.02</td>\n",
       "      <td>3,051,000</td>\n",
       "      <td>0.1392</td>\n",
       "      <td>24.82</td>\n",
       "      <td>0.07</td>\n",
       "    </tr>\n",
       "    <tr>\n",
       "      <th>90</th>\n",
       "      <td>4</td>\n",
       "      <td>CLX</td>\n",
       "      <td>111.94</td>\n",
       "      <td>1,027,000</td>\n",
       "      <td>0.1398</td>\n",
       "      <td>23.51</td>\n",
       "      <td>0.10</td>\n",
       "    </tr>\n",
       "    <tr>\n",
       "      <th>91</th>\n",
       "      <td>4</td>\n",
       "      <td>CMA</td>\n",
       "      <td>47.43</td>\n",
       "      <td>1,617,000</td>\n",
       "      <td>0.2155</td>\n",
       "      <td>22.83</td>\n",
       "      <td>0.09</td>\n",
       "    </tr>\n",
       "    <tr>\n",
       "      <th>92</th>\n",
       "      <td>4</td>\n",
       "      <td>CMCSA</td>\n",
       "      <td>62.41</td>\n",
       "      <td>13,844,000</td>\n",
       "      <td>0.1829</td>\n",
       "      <td>25.74</td>\n",
       "      <td>0.08</td>\n",
       "    </tr>\n",
       "    <tr>\n",
       "      <th>93</th>\n",
       "      <td>4</td>\n",
       "      <td>CME</td>\n",
       "      <td>95.52</td>\n",
       "      <td>1,635,000</td>\n",
       "      <td>0.1867</td>\n",
       "      <td>24.21</td>\n",
       "      <td>0.14</td>\n",
       "    </tr>\n",
       "    <tr>\n",
       "      <th>94</th>\n",
       "      <td>4</td>\n",
       "      <td>CMG</td>\n",
       "      <td>742.23</td>\n",
       "      <td>463,000</td>\n",
       "      <td>0.2700</td>\n",
       "      <td>23.61</td>\n",
       "      <td>0.15</td>\n",
       "    </tr>\n",
       "    <tr>\n",
       "      <th>95</th>\n",
       "      <td>4</td>\n",
       "      <td>CMI</td>\n",
       "      <td>128.54</td>\n",
       "      <td>1,495,000</td>\n",
       "      <td>0.2062</td>\n",
       "      <td>23.59</td>\n",
       "      <td>0.10</td>\n",
       "    </tr>\n",
       "    <tr>\n",
       "      <th>96</th>\n",
       "      <td>4</td>\n",
       "      <td>CMS</td>\n",
       "      <td>33.97</td>\n",
       "      <td>2,609,000</td>\n",
       "      <td>0.1667</td>\n",
       "      <td>23.00</td>\n",
       "      <td>0.08</td>\n",
       "    </tr>\n",
       "    <tr>\n",
       "      <th>97</th>\n",
       "      <td>4</td>\n",
       "      <td>CNP</td>\n",
       "      <td>19.09</td>\n",
       "      <td>3,888,000</td>\n",
       "      <td>0.1839</td>\n",
       "      <td>22.72</td>\n",
       "      <td>0.07</td>\n",
       "    </tr>\n",
       "    <tr>\n",
       "      <th>98</th>\n",
       "      <td>4</td>\n",
       "      <td>CNX</td>\n",
       "      <td>16.51</td>\n",
       "      <td>2,941,000</td>\n",
       "      <td>0.3239</td>\n",
       "      <td>21.27</td>\n",
       "      <td>0.14</td>\n",
       "    </tr>\n",
       "    <tr>\n",
       "      <th>99</th>\n",
       "      <td>4</td>\n",
       "      <td>COF</td>\n",
       "      <td>80.90</td>\n",
       "      <td>2,915,000</td>\n",
       "      <td>0.1947</td>\n",
       "      <td>24.48</td>\n",
       "      <td>0.14</td>\n",
       "    </tr>\n",
       "  </tbody>\n",
       "</table>\n",
       "</div>"
      ],
      "text/plain": [
       "    Group Symbol   Price         ADV  Volatility  LnMktCap  EstReturn %\n",
       "75      4    CAT   78.63   5,224,000      0.2017     24.49         0.14\n",
       "76      4     CB  124.33   1,223,000      0.2069     24.12         0.10\n",
       "77      4    CBG   37.97   2,061,000      0.2103     23.24         0.14\n",
       "78      4    CBS   53.28   6,561,000      0.2214     23.90         0.12\n",
       "79      4    CCE   50.80   2,210,000      0.2038     23.17         0.10\n",
       "80      4    CCI   81.91   2,550,000      0.1691     24.09         0.08\n",
       "81      4    CCL   52.99   4,036,000      0.2240     24.43         0.09\n",
       "82      4   CELG  131.25   5,468,000      0.2824     25.21         0.17\n",
       "83      4   CERN   71.72   1,652,000      0.2176     23.73         0.14\n",
       "84      4     CF   58.89   3,777,000      0.2457     23.09         0.12\n",
       "85      4    CHK    8.66  13,378,000      0.4070     22.02         0.21\n",
       "86      4   CHRW   69.75   1,680,000      0.2149     23.01         0.15\n",
       "87      4     CI  144.06   1,834,000      0.2384     24.27         0.14\n",
       "88      4   CINF   55.21     566,000      0.1412     23.03         0.06\n",
       "89      4     CL   68.02   3,051,000      0.1392     24.82         0.07\n",
       "90      4    CLX  111.94   1,027,000      0.1398     23.51         0.10\n",
       "91      4    CMA   47.43   1,617,000      0.2155     22.83         0.09\n",
       "92      4  CMCSA   62.41  13,844,000      0.1829     25.74         0.08\n",
       "93      4    CME   95.52   1,635,000      0.1867     24.21         0.14\n",
       "94      4    CMG  742.23     463,000      0.2700     23.61         0.15\n",
       "95      4    CMI  128.54   1,495,000      0.2062     23.59         0.10\n",
       "96      4    CMS   33.97   2,609,000      0.1667     23.00         0.08\n",
       "97      4    CNP   19.09   3,888,000      0.1839     22.72         0.07\n",
       "98      4    CNX   16.51   2,941,000      0.3239     21.27         0.14\n",
       "99      4    COF   80.90   2,915,000      0.1947     24.48         0.14"
      ]
     },
     "execution_count": 3,
     "metadata": {},
     "output_type": "execute_result"
    }
   ],
   "source": [
    "import pandas as pd\n",
    "import numpy as np\n",
    "\n",
    "C = pd.read_csv('c.csv',index_col = 0 )\n",
    "\n",
    "\n",
    "stock_data = pd.read_csv('stock_data.csv',header=2)\n",
    "stock_data[stock_data['Group']==4]"
   ]
  },
  {
   "cell_type": "code",
   "execution_count": 82,
   "metadata": {
    "collapsed": false
   },
   "outputs": [
    {
     "name": "stdout",
     "output_type": "stream",
     "text": [
      "[6, 15, 10, 1, 3, 16, 4, 13, 9, 22]\n"
     ]
    },
    {
     "data": {
      "text/plain": [
       "['CCL', 'CLX', 'CHK', 'CB', 'CBS', 'CMA', 'CCE', 'CINF', 'CF', 'CNP']"
      ]
     },
     "execution_count": 82,
     "metadata": {},
     "output_type": "execute_result"
    }
   ],
   "source": [
    "r = np.random.RandomState(126)\n",
    "index = list(r.randint(0, 25, size=10))\n",
    "#index = [i for i in xrange(10)]\n",
    "print index\n",
    "C_s = C.ix[index,index]\n",
    "#print C_s\n",
    "symbol = list(C_s.index)\n",
    "C_s = C_s.as_matrix()\n",
    "C_s\n",
    "symbol"
   ]
  },
  {
   "cell_type": "code",
   "execution_count": 83,
   "metadata": {
    "collapsed": false
   },
   "outputs": [
    {
     "data": {
      "text/plain": [
       "matrix([[ 0.1 ,  0.12,  0.1 ,  0.09,  0.12,  0.21,  0.06,  0.1 ,  0.09,\n",
       "          0.07]])"
      ]
     },
     "execution_count": 83,
     "metadata": {},
     "output_type": "execute_result"
    }
   ],
   "source": [
    "data = stock_data[stock_data['Symbol'].isin(symbol)]\n",
    "#print data\n",
    "ret_T = np.matrix(data['EstReturn %'])\n",
    "ret_T"
   ]
  },
  {
   "cell_type": "code",
   "execution_count": 84,
   "metadata": {
    "collapsed": false,
    "scrolled": true
   },
   "outputs": [
    {
     "name": "stdout",
     "output_type": "stream",
     "text": [
      "     pcost       dcost       gap    pres   dres\n",
      " 0:  2.2769e-03 -2.5174e+00  3e+00  2e-16  2e-16\n",
      " 1:  2.2513e-03 -3.4903e-02  4e-02  1e-16  4e-16\n",
      " 2:  1.7175e-03 -1.1538e-03  3e-03  1e-16  3e-17\n",
      " 3:  1.4020e-03  1.1416e-03  3e-04  2e-16  2e-18\n",
      " 4:  1.3608e-03  1.3408e-03  2e-05  2e-16  1e-18\n",
      " 5:  1.3549e-03  1.3527e-03  2e-06  1e-16  2e-18\n",
      " 6:  1.3541e-03  1.3538e-03  3e-07  1e-16  1e-18\n",
      " 7:  1.3540e-03  1.3539e-03  2e-08  1e-16  3e-18\n",
      "Optimal solution found.\n"
     ]
    }
   ],
   "source": [
    "from cvxopt import matrix, solvers\n",
    "n = len(C_s)\n",
    "mean = np.mean(ret_T)\n",
    "Q = matrix(C_s)\n",
    "p = matrix(np.full((n, 1), 0.))\n",
    "G = matrix(np.r_[np.eye(n),-np.eye(n)])\n",
    "h = matrix(np.r_[np.full((n, 1), 0.25),np.full((n, 1), -0.005)])\n",
    "A = matrix(np.r_[np.full((1, n), 1.0),ret_T] ,(2,n))\n",
    "b = matrix([1.0,mean],(2,1))\n",
    "sol=solvers.qp(Q, p, G, h, A, b)\n",
    "\n"
   ]
  },
  {
   "cell_type": "code",
   "execution_count": 85,
   "metadata": {
    "collapsed": false
   },
   "outputs": [
    {
     "name": "stdout",
     "output_type": "stream",
     "text": [
      "[ 9.13e-02]\n",
      "[ 1.64e-01]\n",
      "[ 6.30e-03]\n",
      "[ 7.14e-02]\n",
      "[ 9.40e-02]\n",
      "[ 8.00e-02]\n",
      "[ 1.03e-01]\n",
      "[ 2.50e-01]\n",
      "[ 5.35e-02]\n",
      "[ 8.65e-02]\n",
      "\n"
     ]
    }
   ],
   "source": [
    "print(sol['x'])"
   ]
  },
  {
   "cell_type": "code",
   "execution_count": null,
   "metadata": {
    "collapsed": false
   },
   "outputs": [],
   "source": []
  },
  {
   "cell_type": "code",
   "execution_count": null,
   "metadata": {
    "collapsed": false
   },
   "outputs": [],
   "source": []
  },
  {
   "cell_type": "code",
   "execution_count": null,
   "metadata": {
    "collapsed": false
   },
   "outputs": [],
   "source": []
  },
  {
   "cell_type": "code",
   "execution_count": null,
   "metadata": {
    "collapsed": false
   },
   "outputs": [],
   "source": [
    "\n"
   ]
  },
  {
   "cell_type": "code",
   "execution_count": null,
   "metadata": {
    "collapsed": false
   },
   "outputs": [],
   "source": []
  },
  {
   "cell_type": "code",
   "execution_count": null,
   "metadata": {
    "collapsed": false
   },
   "outputs": [],
   "source": []
  },
  {
   "cell_type": "code",
   "execution_count": null,
   "metadata": {
    "collapsed": false
   },
   "outputs": [],
   "source": []
  },
  {
   "cell_type": "code",
   "execution_count": null,
   "metadata": {
    "collapsed": true
   },
   "outputs": [],
   "source": []
  },
  {
   "cell_type": "code",
   "execution_count": null,
   "metadata": {
    "collapsed": true
   },
   "outputs": [],
   "source": []
  },
  {
   "cell_type": "code",
   "execution_count": null,
   "metadata": {
    "collapsed": false
   },
   "outputs": [],
   "source": []
  },
  {
   "cell_type": "code",
   "execution_count": null,
   "metadata": {
    "collapsed": true
   },
   "outputs": [],
   "source": []
  },
  {
   "cell_type": "code",
   "execution_count": null,
   "metadata": {
    "collapsed": false
   },
   "outputs": [],
   "source": []
  },
  {
   "cell_type": "code",
   "execution_count": null,
   "metadata": {
    "collapsed": false
   },
   "outputs": [],
   "source": []
  },
  {
   "cell_type": "code",
   "execution_count": null,
   "metadata": {
    "collapsed": false,
    "scrolled": true
   },
   "outputs": [],
   "source": []
  },
  {
   "cell_type": "code",
   "execution_count": null,
   "metadata": {
    "collapsed": false
   },
   "outputs": [],
   "source": []
  },
  {
   "cell_type": "code",
   "execution_count": null,
   "metadata": {
    "collapsed": true
   },
   "outputs": [],
   "source": []
  },
  {
   "cell_type": "code",
   "execution_count": null,
   "metadata": {
    "collapsed": false
   },
   "outputs": [],
   "source": []
  },
  {
   "cell_type": "code",
   "execution_count": null,
   "metadata": {
    "collapsed": true
   },
   "outputs": [],
   "source": []
  }
 ],
 "metadata": {
  "kernelspec": {
   "display_name": "Python 2",
   "language": "python",
   "name": "python2"
  },
  "language_info": {
   "codemirror_mode": {
    "name": "ipython",
    "version": 2
   },
   "file_extension": ".py",
   "mimetype": "text/x-python",
   "name": "python",
   "nbconvert_exporter": "python",
   "pygments_lexer": "ipython2",
   "version": "2.7.13"
  }
 },
 "nbformat": 4,
 "nbformat_minor": 2
}
