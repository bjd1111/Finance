{
 "cells": [
  {
   "cell_type": "code",
   "execution_count": 41,
   "metadata": {
    "collapsed": false
   },
   "outputs": [
    {
     "name": "stdout",
     "output_type": "stream",
     "text": [
      "QEZEL-FBGY2-8JR7B\n"
     ]
    }
   ],
   "source": [
    "#E=?, X=+, C=#, M=%, W=@, G=$\n",
    "a = \"Q?Z?L-FB$Y2-8JR7B\"\n",
    "b=[]\n",
    "for i in a:\n",
    "    if i == \"?\":\n",
    "        i = \"E\"\n",
    "        b.append(i)\n",
    "    elif i == \"+\":\n",
    "        i = \"X\"\n",
    "        b.append(i)\n",
    "    elif i == \"#\":\n",
    "        i = \"C\"\n",
    "        b.append(i)\n",
    "    elif i == \"%\":\n",
    "        i = \"M\"\n",
    "        b.append(i)\n",
    "    elif i == \"@\":\n",
    "        i = \"W\"\n",
    "        b.append(i)\n",
    "    elif i == \"$\":\n",
    "        i = \"G\"\n",
    "        b.append(i)\n",
    "    else:\n",
    "        b.append(i)\n",
    "        \n",
    "print \"\".join(b)\n",
    "\n"
   ]
  },
  {
   "cell_type": "code",
   "execution_count": null,
   "metadata": {
    "collapsed": true
   },
   "outputs": [],
   "source": []
  },
  {
   "cell_type": "code",
   "execution_count": null,
   "metadata": {
    "collapsed": true
   },
   "outputs": [],
   "source": []
  },
  {
   "cell_type": "code",
   "execution_count": null,
   "metadata": {
    "collapsed": true
   },
   "outputs": [],
   "source": []
  },
  {
   "cell_type": "code",
   "execution_count": null,
   "metadata": {
    "collapsed": true
   },
   "outputs": [],
   "source": []
  }
 ],
 "metadata": {
  "kernelspec": {
   "display_name": "Python 2",
   "language": "python",
   "name": "python2"
  },
  "language_info": {
   "codemirror_mode": {
    "name": "ipython",
    "version": 2
   },
   "file_extension": ".py",
   "mimetype": "text/x-python",
   "name": "python",
   "nbconvert_exporter": "python",
   "pygments_lexer": "ipython2",
   "version": "2.7.6"
  }
 },
 "nbformat": 4,
 "nbformat_minor": 0
}
